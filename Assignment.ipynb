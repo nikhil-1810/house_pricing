{
 "cells": [
  {
   "cell_type": "code",
   "execution_count": 1,
   "id": "1b58e2d4",
   "metadata": {},
   "outputs": [],
   "source": [
    "import matplotlib.pyplot as mp\n",
    "import pandas as pd\n",
    "import seaborn as sb\n",
    "from sklearn.model_selection import train_test_split\n",
    "from sklearn.linear_model import LinearRegression\n",
    "from sklearn.metrics import r2_score, mean_squared_error\n",
    "import numpy as np\n",
    "import matplotlib.pyplot as plt\n",
    "import seaborn as sns"
   ]
  },
  {
   "cell_type": "code",
   "execution_count": 2,
   "id": "bb6cfd18",
   "metadata": {},
   "outputs": [],
   "source": [
    "df = pd.read_csv('train.csv')"
   ]
  },
  {
   "cell_type": "code",
   "execution_count": 3,
   "id": "2b0ce6c7",
   "metadata": {},
   "outputs": [
    {
     "data": {
      "text/html": [
       "<div>\n",
       "<style scoped>\n",
       "    .dataframe tbody tr th:only-of-type {\n",
       "        vertical-align: middle;\n",
       "    }\n",
       "\n",
       "    .dataframe tbody tr th {\n",
       "        vertical-align: top;\n",
       "    }\n",
       "\n",
       "    .dataframe thead th {\n",
       "        text-align: right;\n",
       "    }\n",
       "</style>\n",
       "<table border=\"1\" class=\"dataframe\">\n",
       "  <thead>\n",
       "    <tr style=\"text-align: right;\">\n",
       "      <th></th>\n",
       "      <th>Id</th>\n",
       "      <th>MSSubClass</th>\n",
       "      <th>MSZoning</th>\n",
       "      <th>LotFrontage</th>\n",
       "      <th>LotArea</th>\n",
       "      <th>Street</th>\n",
       "      <th>Alley</th>\n",
       "      <th>LotShape</th>\n",
       "      <th>LandContour</th>\n",
       "      <th>Utilities</th>\n",
       "      <th>...</th>\n",
       "      <th>PoolArea</th>\n",
       "      <th>PoolQC</th>\n",
       "      <th>Fence</th>\n",
       "      <th>MiscFeature</th>\n",
       "      <th>MiscVal</th>\n",
       "      <th>MoSold</th>\n",
       "      <th>YrSold</th>\n",
       "      <th>SaleType</th>\n",
       "      <th>SaleCondition</th>\n",
       "      <th>SalePrice</th>\n",
       "    </tr>\n",
       "  </thead>\n",
       "  <tbody>\n",
       "    <tr>\n",
       "      <th>0</th>\n",
       "      <td>1</td>\n",
       "      <td>60</td>\n",
       "      <td>RL</td>\n",
       "      <td>65.0</td>\n",
       "      <td>8450</td>\n",
       "      <td>Pave</td>\n",
       "      <td>NaN</td>\n",
       "      <td>Reg</td>\n",
       "      <td>Lvl</td>\n",
       "      <td>AllPub</td>\n",
       "      <td>...</td>\n",
       "      <td>0</td>\n",
       "      <td>NaN</td>\n",
       "      <td>NaN</td>\n",
       "      <td>NaN</td>\n",
       "      <td>0</td>\n",
       "      <td>2</td>\n",
       "      <td>2008</td>\n",
       "      <td>WD</td>\n",
       "      <td>Normal</td>\n",
       "      <td>208500</td>\n",
       "    </tr>\n",
       "    <tr>\n",
       "      <th>1</th>\n",
       "      <td>2</td>\n",
       "      <td>20</td>\n",
       "      <td>RL</td>\n",
       "      <td>80.0</td>\n",
       "      <td>9600</td>\n",
       "      <td>Pave</td>\n",
       "      <td>NaN</td>\n",
       "      <td>Reg</td>\n",
       "      <td>Lvl</td>\n",
       "      <td>AllPub</td>\n",
       "      <td>...</td>\n",
       "      <td>0</td>\n",
       "      <td>NaN</td>\n",
       "      <td>NaN</td>\n",
       "      <td>NaN</td>\n",
       "      <td>0</td>\n",
       "      <td>5</td>\n",
       "      <td>2007</td>\n",
       "      <td>WD</td>\n",
       "      <td>Normal</td>\n",
       "      <td>181500</td>\n",
       "    </tr>\n",
       "    <tr>\n",
       "      <th>2</th>\n",
       "      <td>3</td>\n",
       "      <td>60</td>\n",
       "      <td>RL</td>\n",
       "      <td>68.0</td>\n",
       "      <td>11250</td>\n",
       "      <td>Pave</td>\n",
       "      <td>NaN</td>\n",
       "      <td>IR1</td>\n",
       "      <td>Lvl</td>\n",
       "      <td>AllPub</td>\n",
       "      <td>...</td>\n",
       "      <td>0</td>\n",
       "      <td>NaN</td>\n",
       "      <td>NaN</td>\n",
       "      <td>NaN</td>\n",
       "      <td>0</td>\n",
       "      <td>9</td>\n",
       "      <td>2008</td>\n",
       "      <td>WD</td>\n",
       "      <td>Normal</td>\n",
       "      <td>223500</td>\n",
       "    </tr>\n",
       "    <tr>\n",
       "      <th>3</th>\n",
       "      <td>4</td>\n",
       "      <td>70</td>\n",
       "      <td>RL</td>\n",
       "      <td>60.0</td>\n",
       "      <td>9550</td>\n",
       "      <td>Pave</td>\n",
       "      <td>NaN</td>\n",
       "      <td>IR1</td>\n",
       "      <td>Lvl</td>\n",
       "      <td>AllPub</td>\n",
       "      <td>...</td>\n",
       "      <td>0</td>\n",
       "      <td>NaN</td>\n",
       "      <td>NaN</td>\n",
       "      <td>NaN</td>\n",
       "      <td>0</td>\n",
       "      <td>2</td>\n",
       "      <td>2006</td>\n",
       "      <td>WD</td>\n",
       "      <td>Abnorml</td>\n",
       "      <td>140000</td>\n",
       "    </tr>\n",
       "    <tr>\n",
       "      <th>4</th>\n",
       "      <td>5</td>\n",
       "      <td>60</td>\n",
       "      <td>RL</td>\n",
       "      <td>84.0</td>\n",
       "      <td>14260</td>\n",
       "      <td>Pave</td>\n",
       "      <td>NaN</td>\n",
       "      <td>IR1</td>\n",
       "      <td>Lvl</td>\n",
       "      <td>AllPub</td>\n",
       "      <td>...</td>\n",
       "      <td>0</td>\n",
       "      <td>NaN</td>\n",
       "      <td>NaN</td>\n",
       "      <td>NaN</td>\n",
       "      <td>0</td>\n",
       "      <td>12</td>\n",
       "      <td>2008</td>\n",
       "      <td>WD</td>\n",
       "      <td>Normal</td>\n",
       "      <td>250000</td>\n",
       "    </tr>\n",
       "  </tbody>\n",
       "</table>\n",
       "<p>5 rows × 81 columns</p>\n",
       "</div>"
      ],
      "text/plain": [
       "   Id  MSSubClass MSZoning  LotFrontage  LotArea Street Alley LotShape  \\\n",
       "0   1          60       RL         65.0     8450   Pave   NaN      Reg   \n",
       "1   2          20       RL         80.0     9600   Pave   NaN      Reg   \n",
       "2   3          60       RL         68.0    11250   Pave   NaN      IR1   \n",
       "3   4          70       RL         60.0     9550   Pave   NaN      IR1   \n",
       "4   5          60       RL         84.0    14260   Pave   NaN      IR1   \n",
       "\n",
       "  LandContour Utilities  ... PoolArea PoolQC Fence MiscFeature MiscVal MoSold  \\\n",
       "0         Lvl    AllPub  ...        0    NaN   NaN         NaN       0      2   \n",
       "1         Lvl    AllPub  ...        0    NaN   NaN         NaN       0      5   \n",
       "2         Lvl    AllPub  ...        0    NaN   NaN         NaN       0      9   \n",
       "3         Lvl    AllPub  ...        0    NaN   NaN         NaN       0      2   \n",
       "4         Lvl    AllPub  ...        0    NaN   NaN         NaN       0     12   \n",
       "\n",
       "  YrSold  SaleType  SaleCondition  SalePrice  \n",
       "0   2008        WD         Normal     208500  \n",
       "1   2007        WD         Normal     181500  \n",
       "2   2008        WD         Normal     223500  \n",
       "3   2006        WD        Abnorml     140000  \n",
       "4   2008        WD         Normal     250000  \n",
       "\n",
       "[5 rows x 81 columns]"
      ]
     },
     "execution_count": 3,
     "metadata": {},
     "output_type": "execute_result"
    }
   ],
   "source": [
    "df.head()"
   ]
  },
  {
   "cell_type": "code",
   "execution_count": 4,
   "id": "f2e036ec",
   "metadata": {},
   "outputs": [],
   "source": [
    "df = df.drop(['Id'],axis = 1)"
   ]
  },
  {
   "cell_type": "code",
   "execution_count": 5,
   "id": "ed0e54e4",
   "metadata": {},
   "outputs": [
    {
     "data": {
      "text/html": [
       "<div>\n",
       "<style scoped>\n",
       "    .dataframe tbody tr th:only-of-type {\n",
       "        vertical-align: middle;\n",
       "    }\n",
       "\n",
       "    .dataframe tbody tr th {\n",
       "        vertical-align: top;\n",
       "    }\n",
       "\n",
       "    .dataframe thead th {\n",
       "        text-align: right;\n",
       "    }\n",
       "</style>\n",
       "<table border=\"1\" class=\"dataframe\">\n",
       "  <thead>\n",
       "    <tr style=\"text-align: right;\">\n",
       "      <th></th>\n",
       "      <th>MSSubClass</th>\n",
       "      <th>LotFrontage</th>\n",
       "      <th>LotArea</th>\n",
       "      <th>OverallQual</th>\n",
       "      <th>OverallCond</th>\n",
       "      <th>YearBuilt</th>\n",
       "      <th>YearRemodAdd</th>\n",
       "      <th>MasVnrArea</th>\n",
       "      <th>BsmtFinSF1</th>\n",
       "      <th>BsmtFinSF2</th>\n",
       "      <th>...</th>\n",
       "      <th>WoodDeckSF</th>\n",
       "      <th>OpenPorchSF</th>\n",
       "      <th>EnclosedPorch</th>\n",
       "      <th>3SsnPorch</th>\n",
       "      <th>ScreenPorch</th>\n",
       "      <th>PoolArea</th>\n",
       "      <th>MiscVal</th>\n",
       "      <th>MoSold</th>\n",
       "      <th>YrSold</th>\n",
       "      <th>SalePrice</th>\n",
       "    </tr>\n",
       "  </thead>\n",
       "  <tbody>\n",
       "    <tr>\n",
       "      <th>count</th>\n",
       "      <td>1460.000000</td>\n",
       "      <td>1201.000000</td>\n",
       "      <td>1460.000000</td>\n",
       "      <td>1460.000000</td>\n",
       "      <td>1460.000000</td>\n",
       "      <td>1460.000000</td>\n",
       "      <td>1460.000000</td>\n",
       "      <td>1452.000000</td>\n",
       "      <td>1460.000000</td>\n",
       "      <td>1460.000000</td>\n",
       "      <td>...</td>\n",
       "      <td>1460.000000</td>\n",
       "      <td>1460.000000</td>\n",
       "      <td>1460.000000</td>\n",
       "      <td>1460.000000</td>\n",
       "      <td>1460.000000</td>\n",
       "      <td>1460.000000</td>\n",
       "      <td>1460.000000</td>\n",
       "      <td>1460.000000</td>\n",
       "      <td>1460.000000</td>\n",
       "      <td>1460.000000</td>\n",
       "    </tr>\n",
       "    <tr>\n",
       "      <th>mean</th>\n",
       "      <td>56.897260</td>\n",
       "      <td>70.049958</td>\n",
       "      <td>10516.828082</td>\n",
       "      <td>6.099315</td>\n",
       "      <td>5.575342</td>\n",
       "      <td>1971.267808</td>\n",
       "      <td>1984.865753</td>\n",
       "      <td>103.685262</td>\n",
       "      <td>443.639726</td>\n",
       "      <td>46.549315</td>\n",
       "      <td>...</td>\n",
       "      <td>94.244521</td>\n",
       "      <td>46.660274</td>\n",
       "      <td>21.954110</td>\n",
       "      <td>3.409589</td>\n",
       "      <td>15.060959</td>\n",
       "      <td>2.758904</td>\n",
       "      <td>43.489041</td>\n",
       "      <td>6.321918</td>\n",
       "      <td>2007.815753</td>\n",
       "      <td>180921.195890</td>\n",
       "    </tr>\n",
       "    <tr>\n",
       "      <th>std</th>\n",
       "      <td>42.300571</td>\n",
       "      <td>24.284752</td>\n",
       "      <td>9981.264932</td>\n",
       "      <td>1.382997</td>\n",
       "      <td>1.112799</td>\n",
       "      <td>30.202904</td>\n",
       "      <td>20.645407</td>\n",
       "      <td>181.066207</td>\n",
       "      <td>456.098091</td>\n",
       "      <td>161.319273</td>\n",
       "      <td>...</td>\n",
       "      <td>125.338794</td>\n",
       "      <td>66.256028</td>\n",
       "      <td>61.119149</td>\n",
       "      <td>29.317331</td>\n",
       "      <td>55.757415</td>\n",
       "      <td>40.177307</td>\n",
       "      <td>496.123024</td>\n",
       "      <td>2.703626</td>\n",
       "      <td>1.328095</td>\n",
       "      <td>79442.502883</td>\n",
       "    </tr>\n",
       "    <tr>\n",
       "      <th>min</th>\n",
       "      <td>20.000000</td>\n",
       "      <td>21.000000</td>\n",
       "      <td>1300.000000</td>\n",
       "      <td>1.000000</td>\n",
       "      <td>1.000000</td>\n",
       "      <td>1872.000000</td>\n",
       "      <td>1950.000000</td>\n",
       "      <td>0.000000</td>\n",
       "      <td>0.000000</td>\n",
       "      <td>0.000000</td>\n",
       "      <td>...</td>\n",
       "      <td>0.000000</td>\n",
       "      <td>0.000000</td>\n",
       "      <td>0.000000</td>\n",
       "      <td>0.000000</td>\n",
       "      <td>0.000000</td>\n",
       "      <td>0.000000</td>\n",
       "      <td>0.000000</td>\n",
       "      <td>1.000000</td>\n",
       "      <td>2006.000000</td>\n",
       "      <td>34900.000000</td>\n",
       "    </tr>\n",
       "    <tr>\n",
       "      <th>25%</th>\n",
       "      <td>20.000000</td>\n",
       "      <td>59.000000</td>\n",
       "      <td>7553.500000</td>\n",
       "      <td>5.000000</td>\n",
       "      <td>5.000000</td>\n",
       "      <td>1954.000000</td>\n",
       "      <td>1967.000000</td>\n",
       "      <td>0.000000</td>\n",
       "      <td>0.000000</td>\n",
       "      <td>0.000000</td>\n",
       "      <td>...</td>\n",
       "      <td>0.000000</td>\n",
       "      <td>0.000000</td>\n",
       "      <td>0.000000</td>\n",
       "      <td>0.000000</td>\n",
       "      <td>0.000000</td>\n",
       "      <td>0.000000</td>\n",
       "      <td>0.000000</td>\n",
       "      <td>5.000000</td>\n",
       "      <td>2007.000000</td>\n",
       "      <td>129975.000000</td>\n",
       "    </tr>\n",
       "    <tr>\n",
       "      <th>50%</th>\n",
       "      <td>50.000000</td>\n",
       "      <td>69.000000</td>\n",
       "      <td>9478.500000</td>\n",
       "      <td>6.000000</td>\n",
       "      <td>5.000000</td>\n",
       "      <td>1973.000000</td>\n",
       "      <td>1994.000000</td>\n",
       "      <td>0.000000</td>\n",
       "      <td>383.500000</td>\n",
       "      <td>0.000000</td>\n",
       "      <td>...</td>\n",
       "      <td>0.000000</td>\n",
       "      <td>25.000000</td>\n",
       "      <td>0.000000</td>\n",
       "      <td>0.000000</td>\n",
       "      <td>0.000000</td>\n",
       "      <td>0.000000</td>\n",
       "      <td>0.000000</td>\n",
       "      <td>6.000000</td>\n",
       "      <td>2008.000000</td>\n",
       "      <td>163000.000000</td>\n",
       "    </tr>\n",
       "    <tr>\n",
       "      <th>75%</th>\n",
       "      <td>70.000000</td>\n",
       "      <td>80.000000</td>\n",
       "      <td>11601.500000</td>\n",
       "      <td>7.000000</td>\n",
       "      <td>6.000000</td>\n",
       "      <td>2000.000000</td>\n",
       "      <td>2004.000000</td>\n",
       "      <td>166.000000</td>\n",
       "      <td>712.250000</td>\n",
       "      <td>0.000000</td>\n",
       "      <td>...</td>\n",
       "      <td>168.000000</td>\n",
       "      <td>68.000000</td>\n",
       "      <td>0.000000</td>\n",
       "      <td>0.000000</td>\n",
       "      <td>0.000000</td>\n",
       "      <td>0.000000</td>\n",
       "      <td>0.000000</td>\n",
       "      <td>8.000000</td>\n",
       "      <td>2009.000000</td>\n",
       "      <td>214000.000000</td>\n",
       "    </tr>\n",
       "    <tr>\n",
       "      <th>max</th>\n",
       "      <td>190.000000</td>\n",
       "      <td>313.000000</td>\n",
       "      <td>215245.000000</td>\n",
       "      <td>10.000000</td>\n",
       "      <td>9.000000</td>\n",
       "      <td>2010.000000</td>\n",
       "      <td>2010.000000</td>\n",
       "      <td>1600.000000</td>\n",
       "      <td>5644.000000</td>\n",
       "      <td>1474.000000</td>\n",
       "      <td>...</td>\n",
       "      <td>857.000000</td>\n",
       "      <td>547.000000</td>\n",
       "      <td>552.000000</td>\n",
       "      <td>508.000000</td>\n",
       "      <td>480.000000</td>\n",
       "      <td>738.000000</td>\n",
       "      <td>15500.000000</td>\n",
       "      <td>12.000000</td>\n",
       "      <td>2010.000000</td>\n",
       "      <td>755000.000000</td>\n",
       "    </tr>\n",
       "  </tbody>\n",
       "</table>\n",
       "<p>8 rows × 37 columns</p>\n",
       "</div>"
      ],
      "text/plain": [
       "        MSSubClass  LotFrontage        LotArea  OverallQual  OverallCond  \\\n",
       "count  1460.000000  1201.000000    1460.000000  1460.000000  1460.000000   \n",
       "mean     56.897260    70.049958   10516.828082     6.099315     5.575342   \n",
       "std      42.300571    24.284752    9981.264932     1.382997     1.112799   \n",
       "min      20.000000    21.000000    1300.000000     1.000000     1.000000   \n",
       "25%      20.000000    59.000000    7553.500000     5.000000     5.000000   \n",
       "50%      50.000000    69.000000    9478.500000     6.000000     5.000000   \n",
       "75%      70.000000    80.000000   11601.500000     7.000000     6.000000   \n",
       "max     190.000000   313.000000  215245.000000    10.000000     9.000000   \n",
       "\n",
       "         YearBuilt  YearRemodAdd   MasVnrArea   BsmtFinSF1   BsmtFinSF2  ...  \\\n",
       "count  1460.000000   1460.000000  1452.000000  1460.000000  1460.000000  ...   \n",
       "mean   1971.267808   1984.865753   103.685262   443.639726    46.549315  ...   \n",
       "std      30.202904     20.645407   181.066207   456.098091   161.319273  ...   \n",
       "min    1872.000000   1950.000000     0.000000     0.000000     0.000000  ...   \n",
       "25%    1954.000000   1967.000000     0.000000     0.000000     0.000000  ...   \n",
       "50%    1973.000000   1994.000000     0.000000   383.500000     0.000000  ...   \n",
       "75%    2000.000000   2004.000000   166.000000   712.250000     0.000000  ...   \n",
       "max    2010.000000   2010.000000  1600.000000  5644.000000  1474.000000  ...   \n",
       "\n",
       "        WoodDeckSF  OpenPorchSF  EnclosedPorch    3SsnPorch  ScreenPorch  \\\n",
       "count  1460.000000  1460.000000    1460.000000  1460.000000  1460.000000   \n",
       "mean     94.244521    46.660274      21.954110     3.409589    15.060959   \n",
       "std     125.338794    66.256028      61.119149    29.317331    55.757415   \n",
       "min       0.000000     0.000000       0.000000     0.000000     0.000000   \n",
       "25%       0.000000     0.000000       0.000000     0.000000     0.000000   \n",
       "50%       0.000000    25.000000       0.000000     0.000000     0.000000   \n",
       "75%     168.000000    68.000000       0.000000     0.000000     0.000000   \n",
       "max     857.000000   547.000000     552.000000   508.000000   480.000000   \n",
       "\n",
       "          PoolArea       MiscVal       MoSold       YrSold      SalePrice  \n",
       "count  1460.000000   1460.000000  1460.000000  1460.000000    1460.000000  \n",
       "mean      2.758904     43.489041     6.321918  2007.815753  180921.195890  \n",
       "std      40.177307    496.123024     2.703626     1.328095   79442.502883  \n",
       "min       0.000000      0.000000     1.000000  2006.000000   34900.000000  \n",
       "25%       0.000000      0.000000     5.000000  2007.000000  129975.000000  \n",
       "50%       0.000000      0.000000     6.000000  2008.000000  163000.000000  \n",
       "75%       0.000000      0.000000     8.000000  2009.000000  214000.000000  \n",
       "max     738.000000  15500.000000    12.000000  2010.000000  755000.000000  \n",
       "\n",
       "[8 rows x 37 columns]"
      ]
     },
     "execution_count": 5,
     "metadata": {},
     "output_type": "execute_result"
    }
   ],
   "source": [
    "df.describe()"
   ]
  },
  {
   "cell_type": "code",
   "execution_count": 6,
   "id": "702f03ad",
   "metadata": {
    "scrolled": true
   },
   "outputs": [
    {
     "name": "stdout",
     "output_type": "stream",
     "text": [
      "<class 'pandas.core.frame.DataFrame'>\n",
      "RangeIndex: 1460 entries, 0 to 1459\n",
      "Data columns (total 80 columns):\n",
      " #   Column         Non-Null Count  Dtype  \n",
      "---  ------         --------------  -----  \n",
      " 0   MSSubClass     1460 non-null   int64  \n",
      " 1   MSZoning       1460 non-null   object \n",
      " 2   LotFrontage    1201 non-null   float64\n",
      " 3   LotArea        1460 non-null   int64  \n",
      " 4   Street         1460 non-null   object \n",
      " 5   Alley          91 non-null     object \n",
      " 6   LotShape       1460 non-null   object \n",
      " 7   LandContour    1460 non-null   object \n",
      " 8   Utilities      1460 non-null   object \n",
      " 9   LotConfig      1460 non-null   object \n",
      " 10  LandSlope      1460 non-null   object \n",
      " 11  Neighborhood   1460 non-null   object \n",
      " 12  Condition1     1460 non-null   object \n",
      " 13  Condition2     1460 non-null   object \n",
      " 14  BldgType       1460 non-null   object \n",
      " 15  HouseStyle     1460 non-null   object \n",
      " 16  OverallQual    1460 non-null   int64  \n",
      " 17  OverallCond    1460 non-null   int64  \n",
      " 18  YearBuilt      1460 non-null   int64  \n",
      " 19  YearRemodAdd   1460 non-null   int64  \n",
      " 20  RoofStyle      1460 non-null   object \n",
      " 21  RoofMatl       1460 non-null   object \n",
      " 22  Exterior1st    1460 non-null   object \n",
      " 23  Exterior2nd    1460 non-null   object \n",
      " 24  MasVnrType     1452 non-null   object \n",
      " 25  MasVnrArea     1452 non-null   float64\n",
      " 26  ExterQual      1460 non-null   object \n",
      " 27  ExterCond      1460 non-null   object \n",
      " 28  Foundation     1460 non-null   object \n",
      " 29  BsmtQual       1423 non-null   object \n",
      " 30  BsmtCond       1423 non-null   object \n",
      " 31  BsmtExposure   1422 non-null   object \n",
      " 32  BsmtFinType1   1423 non-null   object \n",
      " 33  BsmtFinSF1     1460 non-null   int64  \n",
      " 34  BsmtFinType2   1422 non-null   object \n",
      " 35  BsmtFinSF2     1460 non-null   int64  \n",
      " 36  BsmtUnfSF      1460 non-null   int64  \n",
      " 37  TotalBsmtSF    1460 non-null   int64  \n",
      " 38  Heating        1460 non-null   object \n",
      " 39  HeatingQC      1460 non-null   object \n",
      " 40  CentralAir     1460 non-null   object \n",
      " 41  Electrical     1459 non-null   object \n",
      " 42  1stFlrSF       1460 non-null   int64  \n",
      " 43  2ndFlrSF       1460 non-null   int64  \n",
      " 44  LowQualFinSF   1460 non-null   int64  \n",
      " 45  GrLivArea      1460 non-null   int64  \n",
      " 46  BsmtFullBath   1460 non-null   int64  \n",
      " 47  BsmtHalfBath   1460 non-null   int64  \n",
      " 48  FullBath       1460 non-null   int64  \n",
      " 49  HalfBath       1460 non-null   int64  \n",
      " 50  BedroomAbvGr   1460 non-null   int64  \n",
      " 51  KitchenAbvGr   1460 non-null   int64  \n",
      " 52  KitchenQual    1460 non-null   object \n",
      " 53  TotRmsAbvGrd   1460 non-null   int64  \n",
      " 54  Functional     1460 non-null   object \n",
      " 55  Fireplaces     1460 non-null   int64  \n",
      " 56  FireplaceQu    770 non-null    object \n",
      " 57  GarageType     1379 non-null   object \n",
      " 58  GarageYrBlt    1379 non-null   float64\n",
      " 59  GarageFinish   1379 non-null   object \n",
      " 60  GarageCars     1460 non-null   int64  \n",
      " 61  GarageArea     1460 non-null   int64  \n",
      " 62  GarageQual     1379 non-null   object \n",
      " 63  GarageCond     1379 non-null   object \n",
      " 64  PavedDrive     1460 non-null   object \n",
      " 65  WoodDeckSF     1460 non-null   int64  \n",
      " 66  OpenPorchSF    1460 non-null   int64  \n",
      " 67  EnclosedPorch  1460 non-null   int64  \n",
      " 68  3SsnPorch      1460 non-null   int64  \n",
      " 69  ScreenPorch    1460 non-null   int64  \n",
      " 70  PoolArea       1460 non-null   int64  \n",
      " 71  PoolQC         7 non-null      object \n",
      " 72  Fence          281 non-null    object \n",
      " 73  MiscFeature    54 non-null     object \n",
      " 74  MiscVal        1460 non-null   int64  \n",
      " 75  MoSold         1460 non-null   int64  \n",
      " 76  YrSold         1460 non-null   int64  \n",
      " 77  SaleType       1460 non-null   object \n",
      " 78  SaleCondition  1460 non-null   object \n",
      " 79  SalePrice      1460 non-null   int64  \n",
      "dtypes: float64(3), int64(34), object(43)\n",
      "memory usage: 912.6+ KB\n"
     ]
    }
   ],
   "source": [
    "df.info()"
   ]
  },
  {
   "cell_type": "code",
   "execution_count": 7,
   "id": "af0993ac",
   "metadata": {},
   "outputs": [
    {
     "data": {
      "text/plain": [
       "GasA     1428\n",
       "GasW       18\n",
       "Grav        7\n",
       "Wall        4\n",
       "OthW        2\n",
       "Floor       1\n",
       "Name: Heating, dtype: int64"
      ]
     },
     "execution_count": 7,
     "metadata": {},
     "output_type": "execute_result"
    }
   ],
   "source": [
    "df.Heating.value_counts()"
   ]
  },
  {
   "cell_type": "code",
   "execution_count": 8,
   "id": "e1dc9b43",
   "metadata": {},
   "outputs": [
    {
     "data": {
      "text/plain": [
       "Ex    741\n",
       "TA    428\n",
       "Gd    241\n",
       "Fa     49\n",
       "Po      1\n",
       "Name: HeatingQC, dtype: int64"
      ]
     },
     "execution_count": 8,
     "metadata": {},
     "output_type": "execute_result"
    }
   ],
   "source": [
    "df.HeatingQC.value_counts()"
   ]
  },
  {
   "cell_type": "code",
   "execution_count": 9,
   "id": "519ca269",
   "metadata": {},
   "outputs": [
    {
     "data": {
      "text/plain": [
       "Y    1365\n",
       "N      95\n",
       "Name: CentralAir, dtype: int64"
      ]
     },
     "execution_count": 9,
     "metadata": {},
     "output_type": "execute_result"
    }
   ],
   "source": [
    "df.CentralAir.value_counts()"
   ]
  },
  {
   "cell_type": "code",
   "execution_count": 10,
   "id": "9fd93608",
   "metadata": {},
   "outputs": [
    {
     "data": {
      "text/plain": [
       "SBrkr    1334\n",
       "FuseA      94\n",
       "FuseF      27\n",
       "FuseP       3\n",
       "Mix         1\n",
       "Name: Electrical, dtype: int64"
      ]
     },
     "execution_count": 10,
     "metadata": {},
     "output_type": "execute_result"
    }
   ],
   "source": [
    "df.Electrical.value_counts()"
   ]
  },
  {
   "cell_type": "code",
   "execution_count": 11,
   "id": "1ad2baa9",
   "metadata": {},
   "outputs": [
    {
     "data": {
      "text/plain": [
       "TA    735\n",
       "Gd    586\n",
       "Ex    100\n",
       "Fa     39\n",
       "Name: KitchenQual, dtype: int64"
      ]
     },
     "execution_count": 11,
     "metadata": {},
     "output_type": "execute_result"
    }
   ],
   "source": [
    "df.KitchenQual.value_counts()"
   ]
  },
  {
   "cell_type": "code",
   "execution_count": 12,
   "id": "5e21ac41",
   "metadata": {},
   "outputs": [
    {
     "data": {
      "text/plain": [
       "Typ     1360\n",
       "Min2      34\n",
       "Min1      31\n",
       "Mod       15\n",
       "Maj1      14\n",
       "Maj2       5\n",
       "Sev        1\n",
       "Name: Functional, dtype: int64"
      ]
     },
     "execution_count": 12,
     "metadata": {},
     "output_type": "execute_result"
    }
   ],
   "source": [
    "df.Functional.value_counts()"
   ]
  },
  {
   "cell_type": "code",
   "execution_count": 13,
   "id": "af1735c2",
   "metadata": {},
   "outputs": [
    {
     "data": {
      "text/plain": [
       "Gd    380\n",
       "TA    313\n",
       "Fa     33\n",
       "Ex     24\n",
       "Po     20\n",
       "Name: FireplaceQu, dtype: int64"
      ]
     },
     "execution_count": 13,
     "metadata": {},
     "output_type": "execute_result"
    }
   ],
   "source": [
    "df.FireplaceQu.value_counts()"
   ]
  },
  {
   "cell_type": "code",
   "execution_count": 14,
   "id": "77d82f1d",
   "metadata": {},
   "outputs": [
    {
     "data": {
      "text/plain": [
       "Attchd     870\n",
       "Detchd     387\n",
       "BuiltIn     88\n",
       "Basment     19\n",
       "CarPort      9\n",
       "2Types       6\n",
       "Name: GarageType, dtype: int64"
      ]
     },
     "execution_count": 14,
     "metadata": {},
     "output_type": "execute_result"
    }
   ],
   "source": [
    "df.GarageType.value_counts()"
   ]
  },
  {
   "cell_type": "code",
   "execution_count": 15,
   "id": "40499ece",
   "metadata": {},
   "outputs": [
    {
     "data": {
      "text/plain": [
       "Unf    605\n",
       "RFn    422\n",
       "Fin    352\n",
       "Name: GarageFinish, dtype: int64"
      ]
     },
     "execution_count": 15,
     "metadata": {},
     "output_type": "execute_result"
    }
   ],
   "source": [
    "df.GarageFinish.value_counts()"
   ]
  },
  {
   "cell_type": "code",
   "execution_count": 16,
   "id": "c0d94355",
   "metadata": {},
   "outputs": [
    {
     "data": {
      "text/plain": [
       "TA    1311\n",
       "Fa      48\n",
       "Gd      14\n",
       "Ex       3\n",
       "Po       3\n",
       "Name: GarageQual, dtype: int64"
      ]
     },
     "execution_count": 16,
     "metadata": {},
     "output_type": "execute_result"
    }
   ],
   "source": [
    "df.GarageQual.value_counts()"
   ]
  },
  {
   "cell_type": "code",
   "execution_count": 17,
   "id": "aae7f167",
   "metadata": {},
   "outputs": [
    {
     "data": {
      "text/plain": [
       "TA    1326\n",
       "Fa      35\n",
       "Gd       9\n",
       "Po       7\n",
       "Ex       2\n",
       "Name: GarageCond, dtype: int64"
      ]
     },
     "execution_count": 17,
     "metadata": {},
     "output_type": "execute_result"
    }
   ],
   "source": [
    "df.GarageCond.value_counts()"
   ]
  },
  {
   "cell_type": "code",
   "execution_count": 18,
   "id": "a93f2900",
   "metadata": {},
   "outputs": [
    {
     "data": {
      "text/plain": [
       "Y    1340\n",
       "N      90\n",
       "P      30\n",
       "Name: PavedDrive, dtype: int64"
      ]
     },
     "execution_count": 18,
     "metadata": {},
     "output_type": "execute_result"
    }
   ],
   "source": [
    "df.PavedDrive.value_counts()"
   ]
  },
  {
   "cell_type": "code",
   "execution_count": 19,
   "id": "d0388ce7",
   "metadata": {},
   "outputs": [
    {
     "data": {
      "text/plain": [
       "Gd    3\n",
       "Ex    2\n",
       "Fa    2\n",
       "Name: PoolQC, dtype: int64"
      ]
     },
     "execution_count": 19,
     "metadata": {},
     "output_type": "execute_result"
    }
   ],
   "source": [
    "df.PoolQC.value_counts()"
   ]
  },
  {
   "cell_type": "code",
   "execution_count": 20,
   "id": "3df4bbdb",
   "metadata": {},
   "outputs": [
    {
     "data": {
      "text/plain": [
       "MnPrv    157\n",
       "GdPrv     59\n",
       "GdWo      54\n",
       "MnWw      11\n",
       "Name: Fence, dtype: int64"
      ]
     },
     "execution_count": 20,
     "metadata": {},
     "output_type": "execute_result"
    }
   ],
   "source": [
    "df.Fence.value_counts()"
   ]
  },
  {
   "cell_type": "code",
   "execution_count": 21,
   "id": "bf4a3e54",
   "metadata": {},
   "outputs": [
    {
     "data": {
      "text/plain": [
       "Shed    49\n",
       "Gar2     2\n",
       "Othr     2\n",
       "TenC     1\n",
       "Name: MiscFeature, dtype: int64"
      ]
     },
     "execution_count": 21,
     "metadata": {},
     "output_type": "execute_result"
    }
   ],
   "source": [
    "df.MiscFeature.value_counts()"
   ]
  },
  {
   "cell_type": "code",
   "execution_count": 22,
   "id": "6f68b6f6",
   "metadata": {},
   "outputs": [
    {
     "data": {
      "text/plain": [
       "WD       1267\n",
       "New       122\n",
       "COD        43\n",
       "ConLD       9\n",
       "ConLI       5\n",
       "ConLw       5\n",
       "CWD         4\n",
       "Oth         3\n",
       "Con         2\n",
       "Name: SaleType, dtype: int64"
      ]
     },
     "execution_count": 22,
     "metadata": {},
     "output_type": "execute_result"
    }
   ],
   "source": [
    "df.SaleType.value_counts()"
   ]
  },
  {
   "cell_type": "code",
   "execution_count": 23,
   "id": "89738740",
   "metadata": {},
   "outputs": [
    {
     "data": {
      "text/plain": [
       "Normal     1198\n",
       "Partial     125\n",
       "Abnorml     101\n",
       "Family       20\n",
       "Alloca       12\n",
       "AdjLand       4\n",
       "Name: SaleCondition, dtype: int64"
      ]
     },
     "execution_count": 23,
     "metadata": {},
     "output_type": "execute_result"
    }
   ],
   "source": [
    "df.SaleCondition.value_counts()"
   ]
  },
  {
   "cell_type": "code",
   "execution_count": 24,
   "id": "61cd4754",
   "metadata": {},
   "outputs": [
    {
     "data": {
      "text/plain": [
       "CompShg    1434\n",
       "Tar&Grv      11\n",
       "WdShngl       6\n",
       "WdShake       5\n",
       "Metal         1\n",
       "Membran       1\n",
       "Roll          1\n",
       "ClyTile       1\n",
       "Name: RoofMatl, dtype: int64"
      ]
     },
     "execution_count": 24,
     "metadata": {},
     "output_type": "execute_result"
    }
   ],
   "source": [
    "df.RoofMatl.value_counts()"
   ]
  },
  {
   "cell_type": "code",
   "execution_count": 25,
   "id": "1e74568e",
   "metadata": {},
   "outputs": [
    {
     "data": {
      "text/plain": [
       "VinylSd    515\n",
       "HdBoard    222\n",
       "MetalSd    220\n",
       "Wd Sdng    206\n",
       "Plywood    108\n",
       "CemntBd     61\n",
       "BrkFace     50\n",
       "WdShing     26\n",
       "Stucco      25\n",
       "AsbShng     20\n",
       "BrkComm      2\n",
       "Stone        2\n",
       "AsphShn      1\n",
       "ImStucc      1\n",
       "CBlock       1\n",
       "Name: Exterior1st, dtype: int64"
      ]
     },
     "execution_count": 25,
     "metadata": {},
     "output_type": "execute_result"
    }
   ],
   "source": [
    "df.Exterior1st.value_counts()"
   ]
  },
  {
   "cell_type": "code",
   "execution_count": 26,
   "id": "4a6bc590",
   "metadata": {},
   "outputs": [
    {
     "data": {
      "text/plain": [
       "VinylSd    504\n",
       "MetalSd    214\n",
       "HdBoard    207\n",
       "Wd Sdng    197\n",
       "Plywood    142\n",
       "CmentBd     60\n",
       "Wd Shng     38\n",
       "Stucco      26\n",
       "BrkFace     25\n",
       "AsbShng     20\n",
       "ImStucc     10\n",
       "Brk Cmn      7\n",
       "Stone        5\n",
       "AsphShn      3\n",
       "Other        1\n",
       "CBlock       1\n",
       "Name: Exterior2nd, dtype: int64"
      ]
     },
     "execution_count": 26,
     "metadata": {},
     "output_type": "execute_result"
    }
   ],
   "source": [
    "df.Exterior2nd.value_counts()"
   ]
  },
  {
   "cell_type": "code",
   "execution_count": 27,
   "id": "8de96248",
   "metadata": {},
   "outputs": [
    {
     "data": {
      "text/plain": [
       "None       864\n",
       "BrkFace    445\n",
       "Stone      128\n",
       "BrkCmn      15\n",
       "Name: MasVnrType, dtype: int64"
      ]
     },
     "execution_count": 27,
     "metadata": {},
     "output_type": "execute_result"
    }
   ],
   "source": [
    "df.MasVnrType.value_counts()"
   ]
  },
  {
   "cell_type": "code",
   "execution_count": 28,
   "id": "4bce5034",
   "metadata": {},
   "outputs": [
    {
     "data": {
      "text/plain": [
       "TA    906\n",
       "Gd    488\n",
       "Ex     52\n",
       "Fa     14\n",
       "Name: ExterQual, dtype: int64"
      ]
     },
     "execution_count": 28,
     "metadata": {},
     "output_type": "execute_result"
    }
   ],
   "source": [
    "df.ExterQual.value_counts()"
   ]
  },
  {
   "cell_type": "code",
   "execution_count": 29,
   "id": "2f5ec8ed",
   "metadata": {},
   "outputs": [
    {
     "data": {
      "text/plain": [
       "TA    1282\n",
       "Gd     146\n",
       "Fa      28\n",
       "Ex       3\n",
       "Po       1\n",
       "Name: ExterCond, dtype: int64"
      ]
     },
     "execution_count": 29,
     "metadata": {},
     "output_type": "execute_result"
    }
   ],
   "source": [
    "df.ExterCond.value_counts()"
   ]
  },
  {
   "cell_type": "code",
   "execution_count": 30,
   "id": "444ed7e0",
   "metadata": {},
   "outputs": [
    {
     "data": {
      "text/plain": [
       "PConc     647\n",
       "CBlock    634\n",
       "BrkTil    146\n",
       "Slab       24\n",
       "Stone       6\n",
       "Wood        3\n",
       "Name: Foundation, dtype: int64"
      ]
     },
     "execution_count": 30,
     "metadata": {},
     "output_type": "execute_result"
    }
   ],
   "source": [
    "df.Foundation.value_counts()"
   ]
  },
  {
   "cell_type": "code",
   "execution_count": 31,
   "id": "f8810e2c",
   "metadata": {},
   "outputs": [
    {
     "data": {
      "text/plain": [
       "TA    649\n",
       "Gd    618\n",
       "Ex    121\n",
       "Fa     35\n",
       "Name: BsmtQual, dtype: int64"
      ]
     },
     "execution_count": 31,
     "metadata": {},
     "output_type": "execute_result"
    }
   ],
   "source": [
    "df.BsmtQual.value_counts()"
   ]
  },
  {
   "cell_type": "code",
   "execution_count": 32,
   "id": "162cac69",
   "metadata": {},
   "outputs": [
    {
     "data": {
      "text/plain": [
       "TA    1311\n",
       "Gd      65\n",
       "Fa      45\n",
       "Po       2\n",
       "Name: BsmtCond, dtype: int64"
      ]
     },
     "execution_count": 32,
     "metadata": {},
     "output_type": "execute_result"
    }
   ],
   "source": [
    "df.BsmtCond.value_counts()"
   ]
  },
  {
   "cell_type": "code",
   "execution_count": 33,
   "id": "520c6424",
   "metadata": {
    "scrolled": true
   },
   "outputs": [
    {
     "data": {
      "text/plain": [
       "No    953\n",
       "Av    221\n",
       "Gd    134\n",
       "Mn    114\n",
       "Name: BsmtExposure, dtype: int64"
      ]
     },
     "execution_count": 33,
     "metadata": {},
     "output_type": "execute_result"
    }
   ],
   "source": [
    "df.BsmtExposure.value_counts()"
   ]
  },
  {
   "cell_type": "code",
   "execution_count": 34,
   "id": "220057a1",
   "metadata": {},
   "outputs": [
    {
     "data": {
      "text/plain": [
       "Unf    430\n",
       "GLQ    418\n",
       "ALQ    220\n",
       "BLQ    148\n",
       "Rec    133\n",
       "LwQ     74\n",
       "Name: BsmtFinType1, dtype: int64"
      ]
     },
     "execution_count": 34,
     "metadata": {},
     "output_type": "execute_result"
    }
   ],
   "source": [
    "df.BsmtFinType1.value_counts()"
   ]
  },
  {
   "cell_type": "code",
   "execution_count": 35,
   "id": "55b5b099",
   "metadata": {},
   "outputs": [
    {
     "data": {
      "text/plain": [
       "RL         1151\n",
       "RM          218\n",
       "FV           65\n",
       "RH           16\n",
       "C (all)      10\n",
       "Name: MSZoning, dtype: int64"
      ]
     },
     "execution_count": 35,
     "metadata": {},
     "output_type": "execute_result"
    }
   ],
   "source": [
    "df.MSZoning.value_counts()"
   ]
  },
  {
   "cell_type": "code",
   "execution_count": 36,
   "id": "6c38d748",
   "metadata": {},
   "outputs": [
    {
     "data": {
      "text/plain": [
       "Pave    1454\n",
       "Grvl       6\n",
       "Name: Street, dtype: int64"
      ]
     },
     "execution_count": 36,
     "metadata": {},
     "output_type": "execute_result"
    }
   ],
   "source": [
    "df.Street.value_counts()"
   ]
  },
  {
   "cell_type": "code",
   "execution_count": 37,
   "id": "b2c9223b",
   "metadata": {},
   "outputs": [
    {
     "data": {
      "text/plain": [
       "Grvl    50\n",
       "Pave    41\n",
       "Name: Alley, dtype: int64"
      ]
     },
     "execution_count": 37,
     "metadata": {},
     "output_type": "execute_result"
    }
   ],
   "source": [
    "df.Alley.value_counts()"
   ]
  },
  {
   "cell_type": "code",
   "execution_count": 38,
   "id": "00cb2ceb",
   "metadata": {},
   "outputs": [
    {
     "data": {
      "text/plain": [
       "Reg    925\n",
       "IR1    484\n",
       "IR2     41\n",
       "IR3     10\n",
       "Name: LotShape, dtype: int64"
      ]
     },
     "execution_count": 38,
     "metadata": {},
     "output_type": "execute_result"
    }
   ],
   "source": [
    "df.LotShape.value_counts()"
   ]
  },
  {
   "cell_type": "code",
   "execution_count": 39,
   "id": "2824e6ed",
   "metadata": {},
   "outputs": [
    {
     "data": {
      "text/plain": [
       "Lvl    1311\n",
       "Bnk      63\n",
       "HLS      50\n",
       "Low      36\n",
       "Name: LandContour, dtype: int64"
      ]
     },
     "execution_count": 39,
     "metadata": {},
     "output_type": "execute_result"
    }
   ],
   "source": [
    "df.LandContour.value_counts()"
   ]
  },
  {
   "cell_type": "code",
   "execution_count": 40,
   "id": "f1a76d9d",
   "metadata": {},
   "outputs": [
    {
     "data": {
      "text/plain": [
       "AllPub    1459\n",
       "NoSeWa       1\n",
       "Name: Utilities, dtype: int64"
      ]
     },
     "execution_count": 40,
     "metadata": {},
     "output_type": "execute_result"
    }
   ],
   "source": [
    "df.Utilities.value_counts()"
   ]
  },
  {
   "cell_type": "code",
   "execution_count": 41,
   "id": "c0e9e5c8",
   "metadata": {},
   "outputs": [
    {
     "data": {
      "text/plain": [
       "Inside     1052\n",
       "Corner      263\n",
       "CulDSac      94\n",
       "FR2          47\n",
       "FR3           4\n",
       "Name: LotConfig, dtype: int64"
      ]
     },
     "execution_count": 41,
     "metadata": {},
     "output_type": "execute_result"
    }
   ],
   "source": [
    "df.LotConfig.value_counts()"
   ]
  },
  {
   "cell_type": "code",
   "execution_count": 42,
   "id": "b5079dbc",
   "metadata": {},
   "outputs": [
    {
     "data": {
      "text/plain": [
       "Gtl    1382\n",
       "Mod      65\n",
       "Sev      13\n",
       "Name: LandSlope, dtype: int64"
      ]
     },
     "execution_count": 42,
     "metadata": {},
     "output_type": "execute_result"
    }
   ],
   "source": [
    "df.LandSlope.value_counts()"
   ]
  },
  {
   "cell_type": "code",
   "execution_count": 43,
   "id": "25324370",
   "metadata": {},
   "outputs": [
    {
     "data": {
      "text/plain": [
       "NAmes      225\n",
       "CollgCr    150\n",
       "OldTown    113\n",
       "Edwards    100\n",
       "Somerst     86\n",
       "Gilbert     79\n",
       "NridgHt     77\n",
       "Sawyer      74\n",
       "NWAmes      73\n",
       "SawyerW     59\n",
       "BrkSide     58\n",
       "Crawfor     51\n",
       "Mitchel     49\n",
       "NoRidge     41\n",
       "Timber      38\n",
       "IDOTRR      37\n",
       "ClearCr     28\n",
       "StoneBr     25\n",
       "SWISU       25\n",
       "MeadowV     17\n",
       "Blmngtn     17\n",
       "BrDale      16\n",
       "Veenker     11\n",
       "NPkVill      9\n",
       "Blueste      2\n",
       "Name: Neighborhood, dtype: int64"
      ]
     },
     "execution_count": 43,
     "metadata": {},
     "output_type": "execute_result"
    }
   ],
   "source": [
    "df.Neighborhood.value_counts()"
   ]
  },
  {
   "cell_type": "code",
   "execution_count": 44,
   "id": "b3caf995",
   "metadata": {},
   "outputs": [
    {
     "data": {
      "text/plain": [
       "Norm      1260\n",
       "Feedr       81\n",
       "Artery      48\n",
       "RRAn        26\n",
       "PosN        19\n",
       "RRAe        11\n",
       "PosA         8\n",
       "RRNn         5\n",
       "RRNe         2\n",
       "Name: Condition1, dtype: int64"
      ]
     },
     "execution_count": 44,
     "metadata": {},
     "output_type": "execute_result"
    }
   ],
   "source": [
    "df.Condition1.value_counts()"
   ]
  },
  {
   "cell_type": "code",
   "execution_count": 45,
   "id": "43c38b8f",
   "metadata": {},
   "outputs": [
    {
     "data": {
      "text/plain": [
       "Norm      1445\n",
       "Feedr        6\n",
       "Artery       2\n",
       "RRNn         2\n",
       "PosN         2\n",
       "PosA         1\n",
       "RRAn         1\n",
       "RRAe         1\n",
       "Name: Condition2, dtype: int64"
      ]
     },
     "execution_count": 45,
     "metadata": {},
     "output_type": "execute_result"
    }
   ],
   "source": [
    "df.Condition2.value_counts()"
   ]
  },
  {
   "cell_type": "code",
   "execution_count": 46,
   "id": "1cbfe3fe",
   "metadata": {},
   "outputs": [
    {
     "data": {
      "text/plain": [
       "1Fam      1220\n",
       "TwnhsE     114\n",
       "Duplex      52\n",
       "Twnhs       43\n",
       "2fmCon      31\n",
       "Name: BldgType, dtype: int64"
      ]
     },
     "execution_count": 46,
     "metadata": {},
     "output_type": "execute_result"
    }
   ],
   "source": [
    "df.BldgType.value_counts()"
   ]
  },
  {
   "cell_type": "code",
   "execution_count": 47,
   "id": "08f018b9",
   "metadata": {},
   "outputs": [
    {
     "data": {
      "text/plain": [
       "1Story    726\n",
       "2Story    445\n",
       "1.5Fin    154\n",
       "SLvl       65\n",
       "SFoyer     37\n",
       "1.5Unf     14\n",
       "2.5Unf     11\n",
       "2.5Fin      8\n",
       "Name: HouseStyle, dtype: int64"
      ]
     },
     "execution_count": 47,
     "metadata": {},
     "output_type": "execute_result"
    }
   ],
   "source": [
    "df.HouseStyle.value_counts()"
   ]
  },
  {
   "cell_type": "code",
   "execution_count": 48,
   "id": "30cbdcfb",
   "metadata": {},
   "outputs": [
    {
     "data": {
      "text/plain": [
       "Gable      1141\n",
       "Hip         286\n",
       "Flat         13\n",
       "Gambrel      11\n",
       "Mansard       7\n",
       "Shed          2\n",
       "Name: RoofStyle, dtype: int64"
      ]
     },
     "execution_count": 48,
     "metadata": {},
     "output_type": "execute_result"
    }
   ],
   "source": [
    "df.RoofStyle.value_counts()"
   ]
  },
  {
   "cell_type": "markdown",
   "id": "80e0fe0b",
   "metadata": {},
   "source": [
    "MSZoning\n",
    "Street\n",
    "Alley\n",
    "LandContour\n",
    "LandSlope\n",
    "Condition1\n",
    "Condition2\n",
    "BldgType\n",
    "RoofStyle\n",
    "RoofMatl\n",
    "ExterCond\n",
    "BsmtCond\n",
    "Heating\n",
    "CentralAir\n",
    "Electrical\n",
    "Functional\n",
    "GarageQual\n",
    "GarageCond\n",
    "PavedDrive\n",
    "SaleType\n",
    "SaleCondition\n",
    "RoofMatl\n",
    "ExterCond\n",
    "BsmtCond"
   ]
  },
  {
   "cell_type": "code",
   "execution_count": 49,
   "id": "2fa2ff98",
   "metadata": {},
   "outputs": [],
   "source": [
    "df2 = df.drop(['MSZoning','LotFrontage','Street','Alley','LandContour','LandSlope','Condition1','Condition2','BldgType','RoofStyle','RoofMatl','ExterCond','BsmtCond','Heating','CentralAir','Electrical','Functional','GarageQual','GarageCond','PavedDrive','SaleType','SaleCondition','RoofMatl','ExterCond','BsmtCond','PoolQC','Fence','MiscFeature','Alley','FireplaceQu'],axis = 1)"
   ]
  },
  {
   "cell_type": "code",
   "execution_count": 50,
   "id": "cf0228e6",
   "metadata": {},
   "outputs": [
    {
     "name": "stdout",
     "output_type": "stream",
     "text": [
      "<class 'pandas.core.frame.DataFrame'>\n",
      "RangeIndex: 1460 entries, 0 to 1459\n",
      "Data columns (total 54 columns):\n",
      " #   Column         Non-Null Count  Dtype  \n",
      "---  ------         --------------  -----  \n",
      " 0   MSSubClass     1460 non-null   int64  \n",
      " 1   LotArea        1460 non-null   int64  \n",
      " 2   LotShape       1460 non-null   object \n",
      " 3   Utilities      1460 non-null   object \n",
      " 4   LotConfig      1460 non-null   object \n",
      " 5   Neighborhood   1460 non-null   object \n",
      " 6   HouseStyle     1460 non-null   object \n",
      " 7   OverallQual    1460 non-null   int64  \n",
      " 8   OverallCond    1460 non-null   int64  \n",
      " 9   YearBuilt      1460 non-null   int64  \n",
      " 10  YearRemodAdd   1460 non-null   int64  \n",
      " 11  Exterior1st    1460 non-null   object \n",
      " 12  Exterior2nd    1460 non-null   object \n",
      " 13  MasVnrType     1452 non-null   object \n",
      " 14  MasVnrArea     1452 non-null   float64\n",
      " 15  ExterQual      1460 non-null   object \n",
      " 16  Foundation     1460 non-null   object \n",
      " 17  BsmtQual       1423 non-null   object \n",
      " 18  BsmtExposure   1422 non-null   object \n",
      " 19  BsmtFinType1   1423 non-null   object \n",
      " 20  BsmtFinSF1     1460 non-null   int64  \n",
      " 21  BsmtFinType2   1422 non-null   object \n",
      " 22  BsmtFinSF2     1460 non-null   int64  \n",
      " 23  BsmtUnfSF      1460 non-null   int64  \n",
      " 24  TotalBsmtSF    1460 non-null   int64  \n",
      " 25  HeatingQC      1460 non-null   object \n",
      " 26  1stFlrSF       1460 non-null   int64  \n",
      " 27  2ndFlrSF       1460 non-null   int64  \n",
      " 28  LowQualFinSF   1460 non-null   int64  \n",
      " 29  GrLivArea      1460 non-null   int64  \n",
      " 30  BsmtFullBath   1460 non-null   int64  \n",
      " 31  BsmtHalfBath   1460 non-null   int64  \n",
      " 32  FullBath       1460 non-null   int64  \n",
      " 33  HalfBath       1460 non-null   int64  \n",
      " 34  BedroomAbvGr   1460 non-null   int64  \n",
      " 35  KitchenAbvGr   1460 non-null   int64  \n",
      " 36  KitchenQual    1460 non-null   object \n",
      " 37  TotRmsAbvGrd   1460 non-null   int64  \n",
      " 38  Fireplaces     1460 non-null   int64  \n",
      " 39  GarageType     1379 non-null   object \n",
      " 40  GarageYrBlt    1379 non-null   float64\n",
      " 41  GarageFinish   1379 non-null   object \n",
      " 42  GarageCars     1460 non-null   int64  \n",
      " 43  GarageArea     1460 non-null   int64  \n",
      " 44  WoodDeckSF     1460 non-null   int64  \n",
      " 45  OpenPorchSF    1460 non-null   int64  \n",
      " 46  EnclosedPorch  1460 non-null   int64  \n",
      " 47  3SsnPorch      1460 non-null   int64  \n",
      " 48  ScreenPorch    1460 non-null   int64  \n",
      " 49  PoolArea       1460 non-null   int64  \n",
      " 50  MiscVal        1460 non-null   int64  \n",
      " 51  MoSold         1460 non-null   int64  \n",
      " 52  YrSold         1460 non-null   int64  \n",
      " 53  SalePrice      1460 non-null   int64  \n",
      "dtypes: float64(2), int64(34), object(18)\n",
      "memory usage: 616.1+ KB\n"
     ]
    }
   ],
   "source": [
    "df2.info()"
   ]
  },
  {
   "cell_type": "code",
   "execution_count": 51,
   "id": "fec48c3f",
   "metadata": {},
   "outputs": [
    {
     "name": "stdout",
     "output_type": "stream",
     "text": [
      "   IR1  IR2  IR3  Reg\n",
      "0    0    0    0    1\n",
      "1    0    0    0    1\n",
      "2    1    0    0    0\n",
      "3    1    0    0    0\n",
      "4    1    0    0    0\n"
     ]
    },
    {
     "data": {
      "text/html": [
       "<div>\n",
       "<style scoped>\n",
       "    .dataframe tbody tr th:only-of-type {\n",
       "        vertical-align: middle;\n",
       "    }\n",
       "\n",
       "    .dataframe tbody tr th {\n",
       "        vertical-align: top;\n",
       "    }\n",
       "\n",
       "    .dataframe thead th {\n",
       "        text-align: right;\n",
       "    }\n",
       "</style>\n",
       "<table border=\"1\" class=\"dataframe\">\n",
       "  <thead>\n",
       "    <tr style=\"text-align: right;\">\n",
       "      <th></th>\n",
       "      <th>MSSubClass</th>\n",
       "      <th>LotArea</th>\n",
       "      <th>Utilities</th>\n",
       "      <th>LotConfig</th>\n",
       "      <th>Neighborhood</th>\n",
       "      <th>HouseStyle</th>\n",
       "      <th>OverallQual</th>\n",
       "      <th>OverallCond</th>\n",
       "      <th>YearBuilt</th>\n",
       "      <th>YearRemodAdd</th>\n",
       "      <th>...</th>\n",
       "      <th>ScreenPorch</th>\n",
       "      <th>PoolArea</th>\n",
       "      <th>MiscVal</th>\n",
       "      <th>MoSold</th>\n",
       "      <th>YrSold</th>\n",
       "      <th>SalePrice</th>\n",
       "      <th>IR1</th>\n",
       "      <th>IR2</th>\n",
       "      <th>IR3</th>\n",
       "      <th>Reg</th>\n",
       "    </tr>\n",
       "  </thead>\n",
       "  <tbody>\n",
       "    <tr>\n",
       "      <th>0</th>\n",
       "      <td>60</td>\n",
       "      <td>8450</td>\n",
       "      <td>AllPub</td>\n",
       "      <td>Inside</td>\n",
       "      <td>CollgCr</td>\n",
       "      <td>2Story</td>\n",
       "      <td>7</td>\n",
       "      <td>5</td>\n",
       "      <td>2003</td>\n",
       "      <td>2003</td>\n",
       "      <td>...</td>\n",
       "      <td>0</td>\n",
       "      <td>0</td>\n",
       "      <td>0</td>\n",
       "      <td>2</td>\n",
       "      <td>2008</td>\n",
       "      <td>208500</td>\n",
       "      <td>0</td>\n",
       "      <td>0</td>\n",
       "      <td>0</td>\n",
       "      <td>1</td>\n",
       "    </tr>\n",
       "    <tr>\n",
       "      <th>1</th>\n",
       "      <td>20</td>\n",
       "      <td>9600</td>\n",
       "      <td>AllPub</td>\n",
       "      <td>FR2</td>\n",
       "      <td>Veenker</td>\n",
       "      <td>1Story</td>\n",
       "      <td>6</td>\n",
       "      <td>8</td>\n",
       "      <td>1976</td>\n",
       "      <td>1976</td>\n",
       "      <td>...</td>\n",
       "      <td>0</td>\n",
       "      <td>0</td>\n",
       "      <td>0</td>\n",
       "      <td>5</td>\n",
       "      <td>2007</td>\n",
       "      <td>181500</td>\n",
       "      <td>0</td>\n",
       "      <td>0</td>\n",
       "      <td>0</td>\n",
       "      <td>1</td>\n",
       "    </tr>\n",
       "    <tr>\n",
       "      <th>2</th>\n",
       "      <td>60</td>\n",
       "      <td>11250</td>\n",
       "      <td>AllPub</td>\n",
       "      <td>Inside</td>\n",
       "      <td>CollgCr</td>\n",
       "      <td>2Story</td>\n",
       "      <td>7</td>\n",
       "      <td>5</td>\n",
       "      <td>2001</td>\n",
       "      <td>2002</td>\n",
       "      <td>...</td>\n",
       "      <td>0</td>\n",
       "      <td>0</td>\n",
       "      <td>0</td>\n",
       "      <td>9</td>\n",
       "      <td>2008</td>\n",
       "      <td>223500</td>\n",
       "      <td>1</td>\n",
       "      <td>0</td>\n",
       "      <td>0</td>\n",
       "      <td>0</td>\n",
       "    </tr>\n",
       "    <tr>\n",
       "      <th>3</th>\n",
       "      <td>70</td>\n",
       "      <td>9550</td>\n",
       "      <td>AllPub</td>\n",
       "      <td>Corner</td>\n",
       "      <td>Crawfor</td>\n",
       "      <td>2Story</td>\n",
       "      <td>7</td>\n",
       "      <td>5</td>\n",
       "      <td>1915</td>\n",
       "      <td>1970</td>\n",
       "      <td>...</td>\n",
       "      <td>0</td>\n",
       "      <td>0</td>\n",
       "      <td>0</td>\n",
       "      <td>2</td>\n",
       "      <td>2006</td>\n",
       "      <td>140000</td>\n",
       "      <td>1</td>\n",
       "      <td>0</td>\n",
       "      <td>0</td>\n",
       "      <td>0</td>\n",
       "    </tr>\n",
       "    <tr>\n",
       "      <th>4</th>\n",
       "      <td>60</td>\n",
       "      <td>14260</td>\n",
       "      <td>AllPub</td>\n",
       "      <td>FR2</td>\n",
       "      <td>NoRidge</td>\n",
       "      <td>2Story</td>\n",
       "      <td>8</td>\n",
       "      <td>5</td>\n",
       "      <td>2000</td>\n",
       "      <td>2000</td>\n",
       "      <td>...</td>\n",
       "      <td>0</td>\n",
       "      <td>0</td>\n",
       "      <td>0</td>\n",
       "      <td>12</td>\n",
       "      <td>2008</td>\n",
       "      <td>250000</td>\n",
       "      <td>1</td>\n",
       "      <td>0</td>\n",
       "      <td>0</td>\n",
       "      <td>0</td>\n",
       "    </tr>\n",
       "  </tbody>\n",
       "</table>\n",
       "<p>5 rows × 57 columns</p>\n",
       "</div>"
      ],
      "text/plain": [
       "   MSSubClass  LotArea Utilities LotConfig Neighborhood HouseStyle  \\\n",
       "0          60     8450    AllPub    Inside      CollgCr     2Story   \n",
       "1          20     9600    AllPub       FR2      Veenker     1Story   \n",
       "2          60    11250    AllPub    Inside      CollgCr     2Story   \n",
       "3          70     9550    AllPub    Corner      Crawfor     2Story   \n",
       "4          60    14260    AllPub       FR2      NoRidge     2Story   \n",
       "\n",
       "   OverallQual  OverallCond  YearBuilt  YearRemodAdd  ... ScreenPorch  \\\n",
       "0            7            5       2003          2003  ...           0   \n",
       "1            6            8       1976          1976  ...           0   \n",
       "2            7            5       2001          2002  ...           0   \n",
       "3            7            5       1915          1970  ...           0   \n",
       "4            8            5       2000          2000  ...           0   \n",
       "\n",
       "  PoolArea MiscVal  MoSold YrSold SalePrice IR1 IR2 IR3  Reg  \n",
       "0        0       0       2   2008    208500   0   0   0    1  \n",
       "1        0       0       5   2007    181500   0   0   0    1  \n",
       "2        0       0       9   2008    223500   1   0   0    0  \n",
       "3        0       0       2   2006    140000   1   0   0    0  \n",
       "4        0       0      12   2008    250000   1   0   0    0  \n",
       "\n",
       "[5 rows x 57 columns]"
      ]
     },
     "execution_count": 51,
     "metadata": {},
     "output_type": "execute_result"
    }
   ],
   "source": [
    "dummies = pd.get_dummies(df2.LotShape,drop_first=False)\n",
    "print(dummies.head())\n",
    "df2 = pd.concat([df2, dummies], axis='columns')\n",
    "df2 = df2.drop(['LotShape'],axis = 1)\n",
    "df2.head()"
   ]
  },
  {
   "cell_type": "code",
   "execution_count": 52,
   "id": "9985d463",
   "metadata": {},
   "outputs": [
    {
     "name": "stdout",
     "output_type": "stream",
     "text": [
      "   Av  Gd  Mn  No\n",
      "0   0   0   0   1\n",
      "1   0   1   0   0\n",
      "2   0   0   1   0\n",
      "3   0   0   0   1\n",
      "4   1   0   0   0\n"
     ]
    },
    {
     "data": {
      "text/plain": [
       "(1460, 60)"
      ]
     },
     "execution_count": 52,
     "metadata": {},
     "output_type": "execute_result"
    }
   ],
   "source": [
    "dummies = pd.get_dummies(df2.BsmtExposure,drop_first=False)\n",
    "print(dummies.head())\n",
    "df2 = pd.concat([df2, dummies], axis='columns')\n",
    "df2 = df2.drop(['BsmtExposure'],axis = 1)\n",
    "df2.shape"
   ]
  },
  {
   "cell_type": "code",
   "execution_count": 53,
   "id": "addc92b7",
   "metadata": {},
   "outputs": [
    {
     "name": "stdout",
     "output_type": "stream",
     "text": [
      "   ALQ  BLQ  GLQ  LwQ  Rec  Unf\n",
      "0    0    0    1    0    0    0\n",
      "1    1    0    0    0    0    0\n",
      "2    0    0    1    0    0    0\n",
      "3    1    0    0    0    0    0\n",
      "4    0    0    1    0    0    0\n"
     ]
    },
    {
     "data": {
      "text/plain": [
       "(1460, 65)"
      ]
     },
     "execution_count": 53,
     "metadata": {},
     "output_type": "execute_result"
    }
   ],
   "source": [
    "dummies = pd.get_dummies(df2.BsmtFinType1,drop_first=False)\n",
    "print(dummies.head())\n",
    "df2 = pd.concat([df2, dummies], axis='columns')\n",
    "df2 = df2.drop(['BsmtFinType1'],axis = 1)\n",
    "df2.shape"
   ]
  },
  {
   "cell_type": "code",
   "execution_count": 54,
   "id": "8cfbd692",
   "metadata": {},
   "outputs": [
    {
     "name": "stdout",
     "output_type": "stream",
     "text": [
      "   ALQ2  BLQ2  GLQ2  LwQ2  Rec2  Unf2\n",
      "0     0     0     0     0     0     1\n",
      "1     0     0     0     0     0     1\n",
      "2     0     0     0     0     0     1\n",
      "3     0     0     0     0     0     1\n",
      "4     0     0     0     0     0     1\n"
     ]
    },
    {
     "data": {
      "text/plain": [
       "(1460, 70)"
      ]
     },
     "execution_count": 54,
     "metadata": {},
     "output_type": "execute_result"
    }
   ],
   "source": [
    "dummies = pd.get_dummies(df2.BsmtFinType2,drop_first=False)\n",
    "dummies.rename(columns = {'ALQ':'ALQ2', 'BLQ':'BLQ2', 'GLQ':'GLQ2', 'LwQ':'LwQ2', 'Rec':'Rec2', 'Unf':'Unf2'}, inplace = True)\n",
    "print(dummies.head())\n",
    "df2 = pd.concat([df2, dummies], axis='columns')\n",
    "df2 = df2.drop(['BsmtFinType2'],axis = 1)\n",
    "df2.shape"
   ]
  },
  {
   "cell_type": "code",
   "execution_count": 55,
   "id": "e2c3439c",
   "metadata": {},
   "outputs": [
    {
     "name": "stdout",
     "output_type": "stream",
     "text": [
      "   Ex  Fa  Gd  Po  TA\n",
      "0   1   0   0   0   0\n",
      "1   1   0   0   0   0\n",
      "2   1   0   0   0   0\n",
      "3   0   0   1   0   0\n",
      "4   1   0   0   0   0\n"
     ]
    },
    {
     "data": {
      "text/plain": [
       "(1460, 74)"
      ]
     },
     "execution_count": 55,
     "metadata": {},
     "output_type": "execute_result"
    }
   ],
   "source": [
    "dummies = pd.get_dummies(df2.HeatingQC,drop_first=False)\n",
    "print(dummies.head())\n",
    "df2 = pd.concat([df2, dummies], axis='columns')\n",
    "df2 = df2.drop(['HeatingQC'],axis = 1)\n",
    "df2.shape"
   ]
  },
  {
   "cell_type": "code",
   "execution_count": 56,
   "id": "c191f9c5",
   "metadata": {},
   "outputs": [
    {
     "name": "stdout",
     "output_type": "stream",
     "text": [
      "   Ex2  Fa2  Gd2  TA2\n",
      "0    0    0    1    0\n",
      "1    0    0    0    1\n",
      "2    0    0    1    0\n",
      "3    0    0    1    0\n",
      "4    0    0    1    0\n"
     ]
    },
    {
     "data": {
      "text/plain": [
       "(1460, 77)"
      ]
     },
     "execution_count": 56,
     "metadata": {},
     "output_type": "execute_result"
    }
   ],
   "source": [
    "dummies = pd.get_dummies(df2.KitchenQual,drop_first=False)\n",
    "dummies.rename(columns = {'Ex':'Ex2', 'Fa':'Fa2', 'Gd':'Gd2', 'TA':'TA2'}, inplace = True)\n",
    "print(dummies.head())\n",
    "df2 = pd.concat([df2, dummies], axis='columns')\n",
    "df2 = df2.drop(['KitchenQual'],axis = 1)\n",
    "df2.shape"
   ]
  },
  {
   "cell_type": "code",
   "execution_count": 57,
   "id": "cd84bfd6",
   "metadata": {},
   "outputs": [
    {
     "name": "stdout",
     "output_type": "stream",
     "text": [
      "   2Types  Attchd  Basment  BuiltIn  CarPort  Detchd\n",
      "0       0       1        0        0        0       0\n",
      "1       0       1        0        0        0       0\n",
      "2       0       1        0        0        0       0\n",
      "3       0       0        0        0        0       1\n",
      "4       0       1        0        0        0       0\n"
     ]
    },
    {
     "data": {
      "text/plain": [
       "(1460, 82)"
      ]
     },
     "execution_count": 57,
     "metadata": {},
     "output_type": "execute_result"
    }
   ],
   "source": [
    "dummies = pd.get_dummies(df2.GarageType,drop_first=False)\n",
    "print(dummies.head())\n",
    "df2 = pd.concat([df2, dummies], axis='columns')\n",
    "df2 = df2.drop(['GarageType'],axis = 1)\n",
    "df2.shape"
   ]
  },
  {
   "cell_type": "code",
   "execution_count": 58,
   "id": "6f2dbba7",
   "metadata": {},
   "outputs": [
    {
     "name": "stdout",
     "output_type": "stream",
     "text": [
      "   Fin  RFn  Unf\n",
      "0    0    1    0\n",
      "1    0    1    0\n",
      "2    0    1    0\n",
      "3    0    0    1\n",
      "4    0    1    0\n"
     ]
    },
    {
     "data": {
      "text/plain": [
       "(1460, 84)"
      ]
     },
     "execution_count": 58,
     "metadata": {},
     "output_type": "execute_result"
    }
   ],
   "source": [
    "dummies = pd.get_dummies(df2.GarageFinish,drop_first=False)\n",
    "print(dummies.head())\n",
    "df2 = pd.concat([df2, dummies], axis='columns')\n",
    "df2 = df2.drop(['GarageFinish'],axis = 1)\n",
    "df2.shape"
   ]
  },
  {
   "cell_type": "code",
   "execution_count": 59,
   "id": "a95b1c30",
   "metadata": {},
   "outputs": [
    {
     "name": "stdout",
     "output_type": "stream",
     "text": [
      "   AllPub  NoSeWa\n",
      "0       1       0\n",
      "1       1       0\n",
      "2       1       0\n",
      "3       1       0\n",
      "4       1       0\n"
     ]
    },
    {
     "data": {
      "text/plain": [
       "(1460, 85)"
      ]
     },
     "execution_count": 59,
     "metadata": {},
     "output_type": "execute_result"
    }
   ],
   "source": [
    "dummies = pd.get_dummies(df2.Utilities,drop_first=False)\n",
    "print(dummies.head())\n",
    "df2 = pd.concat([df2, dummies], axis='columns')\n",
    "df2 = df2.drop(['Utilities'],axis = 1)\n",
    "df2.shape"
   ]
  },
  {
   "cell_type": "code",
   "execution_count": 60,
   "id": "6cfd3527",
   "metadata": {},
   "outputs": [
    {
     "name": "stdout",
     "output_type": "stream",
     "text": [
      "   Corner  CulDSac  FR2  FR3  Inside\n",
      "0       0        0    0    0       1\n",
      "1       0        0    1    0       0\n",
      "2       0        0    0    0       1\n",
      "3       1        0    0    0       0\n",
      "4       0        0    1    0       0\n"
     ]
    },
    {
     "data": {
      "text/plain": [
       "(1460, 89)"
      ]
     },
     "execution_count": 60,
     "metadata": {},
     "output_type": "execute_result"
    }
   ],
   "source": [
    "dummies = pd.get_dummies(df2.LotConfig,drop_first=False)\n",
    "print(dummies.head())\n",
    "df2 = pd.concat([df2, dummies], axis='columns')\n",
    "df2 = df2.drop(['LotConfig'],axis = 1)\n",
    "df2.shape"
   ]
  },
  {
   "cell_type": "code",
   "execution_count": 61,
   "id": "38a6d798",
   "metadata": {},
   "outputs": [
    {
     "name": "stdout",
     "output_type": "stream",
     "text": [
      "   Blmngtn  Blueste  BrDale  BrkSide  ClearCr  CollgCr  Crawfor  Edwards  \\\n",
      "0        0        0       0        0        0        1        0        0   \n",
      "1        0        0       0        0        0        0        0        0   \n",
      "2        0        0       0        0        0        1        0        0   \n",
      "3        0        0       0        0        0        0        1        0   \n",
      "4        0        0       0        0        0        0        0        0   \n",
      "\n",
      "   Gilbert  IDOTRR  ...  NoRidge  NridgHt  OldTown  SWISU  Sawyer  SawyerW  \\\n",
      "0        0       0  ...        0        0        0      0       0        0   \n",
      "1        0       0  ...        0        0        0      0       0        0   \n",
      "2        0       0  ...        0        0        0      0       0        0   \n",
      "3        0       0  ...        0        0        0      0       0        0   \n",
      "4        0       0  ...        1        0        0      0       0        0   \n",
      "\n",
      "   Somerst  StoneBr  Timber  Veenker  \n",
      "0        0        0       0        0  \n",
      "1        0        0       0        1  \n",
      "2        0        0       0        0  \n",
      "3        0        0       0        0  \n",
      "4        0        0       0        0  \n",
      "\n",
      "[5 rows x 25 columns]\n"
     ]
    },
    {
     "data": {
      "text/plain": [
       "(1460, 113)"
      ]
     },
     "execution_count": 61,
     "metadata": {},
     "output_type": "execute_result"
    }
   ],
   "source": [
    "dummies = pd.get_dummies(df2.Neighborhood,drop_first=False)\n",
    "print(dummies.head())\n",
    "df2 = pd.concat([df2, dummies], axis='columns')\n",
    "df2 = df2.drop(['Neighborhood'],axis = 1)\n",
    "df2.shape"
   ]
  },
  {
   "cell_type": "code",
   "execution_count": 62,
   "id": "628cdeb1",
   "metadata": {},
   "outputs": [
    {
     "name": "stdout",
     "output_type": "stream",
     "text": [
      "   1.5Fin  1.5Unf  1Story  2.5Fin  2.5Unf  2Story  SFoyer  SLvl\n",
      "0       0       0       0       0       0       1       0     0\n",
      "1       0       0       1       0       0       0       0     0\n",
      "2       0       0       0       0       0       1       0     0\n",
      "3       0       0       0       0       0       1       0     0\n",
      "4       0       0       0       0       0       1       0     0\n"
     ]
    },
    {
     "data": {
      "text/plain": [
       "(1460, 120)"
      ]
     },
     "execution_count": 62,
     "metadata": {},
     "output_type": "execute_result"
    }
   ],
   "source": [
    "dummies = pd.get_dummies(df2.HouseStyle,drop_first=False)\n",
    "print(dummies.head())\n",
    "df2 = pd.concat([df2, dummies], axis='columns')\n",
    "df2 = df2.drop(['HouseStyle'],axis = 1)\n",
    "df2.shape"
   ]
  },
  {
   "cell_type": "code",
   "execution_count": 63,
   "id": "ca4a77df",
   "metadata": {},
   "outputs": [
    {
     "name": "stdout",
     "output_type": "stream",
     "text": [
      "   AsbShng  AsphShn  BrkComm  BrkFace  CBlock  CemntBd  HdBoard  ImStucc  \\\n",
      "0        0        0        0        0       0        0        0        0   \n",
      "1        0        0        0        0       0        0        0        0   \n",
      "2        0        0        0        0       0        0        0        0   \n",
      "3        0        0        0        0       0        0        0        0   \n",
      "4        0        0        0        0       0        0        0        0   \n",
      "\n",
      "   MetalSd  Plywood  Stone  Stucco  VinylSd  Wd Sdng  WdShing  \n",
      "0        0        0      0       0        1        0        0  \n",
      "1        1        0      0       0        0        0        0  \n",
      "2        0        0      0       0        1        0        0  \n",
      "3        0        0      0       0        0        1        0  \n",
      "4        0        0      0       0        1        0        0  \n"
     ]
    },
    {
     "data": {
      "text/plain": [
       "(1460, 134)"
      ]
     },
     "execution_count": 63,
     "metadata": {},
     "output_type": "execute_result"
    }
   ],
   "source": [
    "dummies = pd.get_dummies(df2.Exterior1st,drop_first=False)\n",
    "print(dummies.head())\n",
    "df2 = pd.concat([df2, dummies], axis='columns')\n",
    "df2 = df2.drop(['Exterior1st'],axis = 1)\n",
    "df2.shape"
   ]
  },
  {
   "cell_type": "code",
   "execution_count": 64,
   "id": "64c60d1a",
   "metadata": {},
   "outputs": [
    {
     "name": "stdout",
     "output_type": "stream",
     "text": [
      "   AsbShng  AsphShn2  Brk Cmn2  BrkFace2  CBlock2  CmentBd2  HdBoard2  \\\n",
      "0        0         0         0         0        0         0         0   \n",
      "1        0         0         0         0        0         0         0   \n",
      "2        0         0         0         0        0         0         0   \n",
      "3        0         0         0         0        0         0         0   \n",
      "4        0         0         0         0        0         0         0   \n",
      "\n",
      "   ImStucc2  MetalSd2  Other2  Plywood2  Stone2  Stucco2  VinylSd2  Wd Sdng2  \\\n",
      "0         0         0       0         0       0        0         1         0   \n",
      "1         0         1       0         0       0        0         0         0   \n",
      "2         0         0       0         0       0        0         1         0   \n",
      "3         0         0       0         0       0        0         0         0   \n",
      "4         0         0       0         0       0        0         1         0   \n",
      "\n",
      "   Wd Shng2  \n",
      "0         0  \n",
      "1         0  \n",
      "2         0  \n",
      "3         1  \n",
      "4         0  \n"
     ]
    },
    {
     "data": {
      "text/plain": [
       "(1460, 149)"
      ]
     },
     "execution_count": 64,
     "metadata": {},
     "output_type": "execute_result"
    }
   ],
   "source": [
    "dummies = pd.get_dummies(df2.Exterior2nd,drop_first=False)\n",
    "dummies.rename(columns = {'AsbShng':'AsbShng', 'AsphShn': 'AsphShn2', 'Brk Cmn': 'Brk Cmn2', 'BrkFace': 'BrkFace2', 'CBlock': 'CBlock2', 'CmentBd': 'CmentBd2', 'HdBoard': 'HdBoard2', 'ImStucc': 'ImStucc2', 'MetalSd': 'MetalSd2', 'Other': 'Other2', 'Plywood': 'Plywood2' ,'Stone': 'Stone2', 'Stucco': 'Stucco2', 'VinylSd': 'VinylSd2', 'Wd Sdng': 'Wd Sdng2', 'Wd Shng': 'Wd Shng2'}, inplace = True)\n",
    "print(dummies.head())\n",
    "df2 = pd.concat([df2, dummies], axis='columns')\n",
    "df2 = df2.drop(['Exterior2nd'],axis = 1)\n",
    "df2.shape"
   ]
  },
  {
   "cell_type": "code",
   "execution_count": 65,
   "id": "5839c058",
   "metadata": {},
   "outputs": [
    {
     "name": "stdout",
     "output_type": "stream",
     "text": [
      "   BrkCmn  BrkFace3  None  Stone3\n",
      "0       0         1     0       0\n",
      "1       0         0     1       0\n",
      "2       0         1     0       0\n",
      "3       0         0     1       0\n",
      "4       0         1     0       0\n"
     ]
    },
    {
     "data": {
      "text/plain": [
       "(1460, 152)"
      ]
     },
     "execution_count": 65,
     "metadata": {},
     "output_type": "execute_result"
    }
   ],
   "source": [
    "dummies = pd.get_dummies(df2.MasVnrType,drop_first=False)\n",
    "dummies.rename(columns = {'BrkFace': 'BrkFace3','Stone': 'Stone3'}, inplace = True)\n",
    "print(dummies.head())\n",
    "df2 = pd.concat([df2, dummies], axis='columns')\n",
    "df2 = df2.drop(['MasVnrType'],axis = 1)\n",
    "df2.shape"
   ]
  },
  {
   "cell_type": "code",
   "execution_count": 66,
   "id": "54c39fb6",
   "metadata": {},
   "outputs": [
    {
     "name": "stdout",
     "output_type": "stream",
     "text": [
      "   Ex3  Fa3  Gd3  TA3\n",
      "0    0    0    1    0\n",
      "1    0    0    0    1\n",
      "2    0    0    1    0\n",
      "3    0    0    0    1\n",
      "4    0    0    1    0\n"
     ]
    },
    {
     "data": {
      "text/plain": [
       "(1460, 155)"
      ]
     },
     "execution_count": 66,
     "metadata": {},
     "output_type": "execute_result"
    }
   ],
   "source": [
    "dummies = pd.get_dummies(df2.ExterQual,drop_first=False)\n",
    "dummies.rename(columns = {'Ex':'Ex3', 'Fa':'Fa3', 'Gd':'Gd3', 'TA':'TA3'}, inplace = True)\n",
    "print(dummies.head())\n",
    "df2 = pd.concat([df2, dummies], axis='columns')\n",
    "df2 = df2.drop(['ExterQual'],axis = 1)\n",
    "df2.shape"
   ]
  },
  {
   "cell_type": "code",
   "execution_count": 67,
   "id": "72d006be",
   "metadata": {},
   "outputs": [
    {
     "name": "stdout",
     "output_type": "stream",
     "text": [
      "   BrkTil  CBlock4  PConc  Slab  Stone4  Wood\n",
      "0       0        0      1     0       0     0\n",
      "1       0        1      0     0       0     0\n",
      "2       0        0      1     0       0     0\n",
      "3       1        0      0     0       0     0\n",
      "4       0        0      1     0       0     0\n"
     ]
    },
    {
     "data": {
      "text/plain": [
       "(1460, 160)"
      ]
     },
     "execution_count": 67,
     "metadata": {},
     "output_type": "execute_result"
    }
   ],
   "source": [
    "dummies = pd.get_dummies(df2.Foundation,drop_first=False)\n",
    "dummies.rename(columns = {'CBlock': 'CBlock4','Stone': 'Stone4'}, inplace = True)\n",
    "print(dummies.head())\n",
    "df2 = pd.concat([df2, dummies], axis='columns')\n",
    "df2 = df2.drop(['Foundation'],axis = 1)\n",
    "df2.shape"
   ]
  },
  {
   "cell_type": "code",
   "execution_count": 68,
   "id": "41019dbd",
   "metadata": {},
   "outputs": [
    {
     "name": "stdout",
     "output_type": "stream",
     "text": [
      "   Ex4  Fa4  Gd4  TA4\n",
      "0    0    0    1    0\n",
      "1    0    0    1    0\n",
      "2    0    0    1    0\n",
      "3    0    0    0    1\n",
      "4    0    0    1    0\n"
     ]
    },
    {
     "data": {
      "text/plain": [
       "(1460, 163)"
      ]
     },
     "execution_count": 68,
     "metadata": {},
     "output_type": "execute_result"
    }
   ],
   "source": [
    "dummies = pd.get_dummies(df2.BsmtQual,drop_first=False)\n",
    "dummies.rename(columns = {'Ex':'Ex4', 'Fa':'Fa4', 'Gd':'Gd4', 'TA':'TA4'}, inplace = True)\n",
    "print(dummies.head())\n",
    "df2 = pd.concat([df2, dummies], axis='columns')\n",
    "df2 = df2.drop(['BsmtQual'],axis = 1)\n",
    "df2.shape"
   ]
  },
  {
   "cell_type": "code",
   "execution_count": 69,
   "id": "e5ee8931",
   "metadata": {},
   "outputs": [
    {
     "data": {
      "text/html": [
       "<div>\n",
       "<style scoped>\n",
       "    .dataframe tbody tr th:only-of-type {\n",
       "        vertical-align: middle;\n",
       "    }\n",
       "\n",
       "    .dataframe tbody tr th {\n",
       "        vertical-align: top;\n",
       "    }\n",
       "\n",
       "    .dataframe thead th {\n",
       "        text-align: right;\n",
       "    }\n",
       "</style>\n",
       "<table border=\"1\" class=\"dataframe\">\n",
       "  <thead>\n",
       "    <tr style=\"text-align: right;\">\n",
       "      <th></th>\n",
       "      <th>MSSubClass</th>\n",
       "      <th>LotArea</th>\n",
       "      <th>OverallQual</th>\n",
       "      <th>OverallCond</th>\n",
       "      <th>YearBuilt</th>\n",
       "      <th>YearRemodAdd</th>\n",
       "      <th>MasVnrArea</th>\n",
       "      <th>BsmtFinSF1</th>\n",
       "      <th>BsmtFinSF2</th>\n",
       "      <th>BsmtUnfSF</th>\n",
       "      <th>...</th>\n",
       "      <th>BrkTil</th>\n",
       "      <th>CBlock4</th>\n",
       "      <th>PConc</th>\n",
       "      <th>Slab</th>\n",
       "      <th>Stone4</th>\n",
       "      <th>Wood</th>\n",
       "      <th>Ex4</th>\n",
       "      <th>Fa4</th>\n",
       "      <th>Gd4</th>\n",
       "      <th>TA4</th>\n",
       "    </tr>\n",
       "  </thead>\n",
       "  <tbody>\n",
       "    <tr>\n",
       "      <th>0</th>\n",
       "      <td>60</td>\n",
       "      <td>8450</td>\n",
       "      <td>7</td>\n",
       "      <td>5</td>\n",
       "      <td>2003</td>\n",
       "      <td>2003</td>\n",
       "      <td>196.0</td>\n",
       "      <td>706</td>\n",
       "      <td>0</td>\n",
       "      <td>150</td>\n",
       "      <td>...</td>\n",
       "      <td>0</td>\n",
       "      <td>0</td>\n",
       "      <td>1</td>\n",
       "      <td>0</td>\n",
       "      <td>0</td>\n",
       "      <td>0</td>\n",
       "      <td>0</td>\n",
       "      <td>0</td>\n",
       "      <td>1</td>\n",
       "      <td>0</td>\n",
       "    </tr>\n",
       "    <tr>\n",
       "      <th>1</th>\n",
       "      <td>20</td>\n",
       "      <td>9600</td>\n",
       "      <td>6</td>\n",
       "      <td>8</td>\n",
       "      <td>1976</td>\n",
       "      <td>1976</td>\n",
       "      <td>0.0</td>\n",
       "      <td>978</td>\n",
       "      <td>0</td>\n",
       "      <td>284</td>\n",
       "      <td>...</td>\n",
       "      <td>0</td>\n",
       "      <td>1</td>\n",
       "      <td>0</td>\n",
       "      <td>0</td>\n",
       "      <td>0</td>\n",
       "      <td>0</td>\n",
       "      <td>0</td>\n",
       "      <td>0</td>\n",
       "      <td>1</td>\n",
       "      <td>0</td>\n",
       "    </tr>\n",
       "    <tr>\n",
       "      <th>2</th>\n",
       "      <td>60</td>\n",
       "      <td>11250</td>\n",
       "      <td>7</td>\n",
       "      <td>5</td>\n",
       "      <td>2001</td>\n",
       "      <td>2002</td>\n",
       "      <td>162.0</td>\n",
       "      <td>486</td>\n",
       "      <td>0</td>\n",
       "      <td>434</td>\n",
       "      <td>...</td>\n",
       "      <td>0</td>\n",
       "      <td>0</td>\n",
       "      <td>1</td>\n",
       "      <td>0</td>\n",
       "      <td>0</td>\n",
       "      <td>0</td>\n",
       "      <td>0</td>\n",
       "      <td>0</td>\n",
       "      <td>1</td>\n",
       "      <td>0</td>\n",
       "    </tr>\n",
       "    <tr>\n",
       "      <th>3</th>\n",
       "      <td>70</td>\n",
       "      <td>9550</td>\n",
       "      <td>7</td>\n",
       "      <td>5</td>\n",
       "      <td>1915</td>\n",
       "      <td>1970</td>\n",
       "      <td>0.0</td>\n",
       "      <td>216</td>\n",
       "      <td>0</td>\n",
       "      <td>540</td>\n",
       "      <td>...</td>\n",
       "      <td>1</td>\n",
       "      <td>0</td>\n",
       "      <td>0</td>\n",
       "      <td>0</td>\n",
       "      <td>0</td>\n",
       "      <td>0</td>\n",
       "      <td>0</td>\n",
       "      <td>0</td>\n",
       "      <td>0</td>\n",
       "      <td>1</td>\n",
       "    </tr>\n",
       "    <tr>\n",
       "      <th>4</th>\n",
       "      <td>60</td>\n",
       "      <td>14260</td>\n",
       "      <td>8</td>\n",
       "      <td>5</td>\n",
       "      <td>2000</td>\n",
       "      <td>2000</td>\n",
       "      <td>350.0</td>\n",
       "      <td>655</td>\n",
       "      <td>0</td>\n",
       "      <td>490</td>\n",
       "      <td>...</td>\n",
       "      <td>0</td>\n",
       "      <td>0</td>\n",
       "      <td>1</td>\n",
       "      <td>0</td>\n",
       "      <td>0</td>\n",
       "      <td>0</td>\n",
       "      <td>0</td>\n",
       "      <td>0</td>\n",
       "      <td>1</td>\n",
       "      <td>0</td>\n",
       "    </tr>\n",
       "  </tbody>\n",
       "</table>\n",
       "<p>5 rows × 163 columns</p>\n",
       "</div>"
      ],
      "text/plain": [
       "   MSSubClass  LotArea  OverallQual  OverallCond  YearBuilt  YearRemodAdd  \\\n",
       "0          60     8450            7            5       2003          2003   \n",
       "1          20     9600            6            8       1976          1976   \n",
       "2          60    11250            7            5       2001          2002   \n",
       "3          70     9550            7            5       1915          1970   \n",
       "4          60    14260            8            5       2000          2000   \n",
       "\n",
       "   MasVnrArea  BsmtFinSF1  BsmtFinSF2  BsmtUnfSF  ...  BrkTil  CBlock4  PConc  \\\n",
       "0       196.0         706           0        150  ...       0        0      1   \n",
       "1         0.0         978           0        284  ...       0        1      0   \n",
       "2       162.0         486           0        434  ...       0        0      1   \n",
       "3         0.0         216           0        540  ...       1        0      0   \n",
       "4       350.0         655           0        490  ...       0        0      1   \n",
       "\n",
       "   Slab  Stone4  Wood  Ex4  Fa4  Gd4  TA4  \n",
       "0     0       0     0    0    0    1    0  \n",
       "1     0       0     0    0    0    1    0  \n",
       "2     0       0     0    0    0    1    0  \n",
       "3     0       0     0    0    0    0    1  \n",
       "4     0       0     0    0    0    1    0  \n",
       "\n",
       "[5 rows x 163 columns]"
      ]
     },
     "execution_count": 69,
     "metadata": {},
     "output_type": "execute_result"
    }
   ],
   "source": [
    "df2.head()"
   ]
  },
  {
   "cell_type": "code",
   "execution_count": 70,
   "id": "f74d2ef0",
   "metadata": {},
   "outputs": [
    {
     "data": {
      "text/plain": [
       "(1460, 163)"
      ]
     },
     "execution_count": 70,
     "metadata": {},
     "output_type": "execute_result"
    }
   ],
   "source": [
    "df2.shape"
   ]
  },
  {
   "cell_type": "code",
   "execution_count": 71,
   "id": "cdce252e",
   "metadata": {},
   "outputs": [
    {
     "name": "stdout",
     "output_type": "stream",
     "text": [
      "<class 'pandas.core.frame.DataFrame'>\n",
      "RangeIndex: 1460 entries, 0 to 1459\n",
      "Columns: 163 entries, MSSubClass to TA4\n",
      "dtypes: float64(2), int64(34), uint8(127)\n",
      "memory usage: 591.8 KB\n"
     ]
    }
   ],
   "source": [
    "df2.info()"
   ]
  },
  {
   "cell_type": "code",
   "execution_count": 72,
   "id": "06fedf4e",
   "metadata": {},
   "outputs": [],
   "source": [
    "#dataplot = sb.heatmap(df2.corr(), cmap=\"YlGnBu\", annot=True)\n",
    "mp.show()"
   ]
  },
  {
   "cell_type": "code",
   "execution_count": 73,
   "id": "85822f0b",
   "metadata": {},
   "outputs": [],
   "source": [
    "df2 = df2.dropna()"
   ]
  },
  {
   "cell_type": "code",
   "execution_count": 74,
   "id": "88a74609",
   "metadata": {},
   "outputs": [
    {
     "name": "stdout",
     "output_type": "stream",
     "text": [
      "0    208500\n",
      "1    181500\n",
      "2    223500\n",
      "3    140000\n",
      "4    250000\n",
      "Name: SalePrice, dtype: int64\n"
     ]
    },
    {
     "data": {
      "text/html": [
       "<div>\n",
       "<style scoped>\n",
       "    .dataframe tbody tr th:only-of-type {\n",
       "        vertical-align: middle;\n",
       "    }\n",
       "\n",
       "    .dataframe tbody tr th {\n",
       "        vertical-align: top;\n",
       "    }\n",
       "\n",
       "    .dataframe thead th {\n",
       "        text-align: right;\n",
       "    }\n",
       "</style>\n",
       "<table border=\"1\" class=\"dataframe\">\n",
       "  <thead>\n",
       "    <tr style=\"text-align: right;\">\n",
       "      <th></th>\n",
       "      <th>MSSubClass</th>\n",
       "      <th>LotArea</th>\n",
       "      <th>OverallQual</th>\n",
       "      <th>OverallCond</th>\n",
       "      <th>YearBuilt</th>\n",
       "      <th>YearRemodAdd</th>\n",
       "      <th>MasVnrArea</th>\n",
       "      <th>BsmtFinSF1</th>\n",
       "      <th>BsmtFinSF2</th>\n",
       "      <th>BsmtUnfSF</th>\n",
       "      <th>...</th>\n",
       "      <th>BrkTil</th>\n",
       "      <th>CBlock4</th>\n",
       "      <th>PConc</th>\n",
       "      <th>Slab</th>\n",
       "      <th>Stone4</th>\n",
       "      <th>Wood</th>\n",
       "      <th>Ex4</th>\n",
       "      <th>Fa4</th>\n",
       "      <th>Gd4</th>\n",
       "      <th>TA4</th>\n",
       "    </tr>\n",
       "  </thead>\n",
       "  <tbody>\n",
       "    <tr>\n",
       "      <th>0</th>\n",
       "      <td>60</td>\n",
       "      <td>8450</td>\n",
       "      <td>7</td>\n",
       "      <td>5</td>\n",
       "      <td>2003</td>\n",
       "      <td>2003</td>\n",
       "      <td>196.0</td>\n",
       "      <td>706</td>\n",
       "      <td>0</td>\n",
       "      <td>150</td>\n",
       "      <td>...</td>\n",
       "      <td>0</td>\n",
       "      <td>0</td>\n",
       "      <td>1</td>\n",
       "      <td>0</td>\n",
       "      <td>0</td>\n",
       "      <td>0</td>\n",
       "      <td>0</td>\n",
       "      <td>0</td>\n",
       "      <td>1</td>\n",
       "      <td>0</td>\n",
       "    </tr>\n",
       "    <tr>\n",
       "      <th>1</th>\n",
       "      <td>20</td>\n",
       "      <td>9600</td>\n",
       "      <td>6</td>\n",
       "      <td>8</td>\n",
       "      <td>1976</td>\n",
       "      <td>1976</td>\n",
       "      <td>0.0</td>\n",
       "      <td>978</td>\n",
       "      <td>0</td>\n",
       "      <td>284</td>\n",
       "      <td>...</td>\n",
       "      <td>0</td>\n",
       "      <td>1</td>\n",
       "      <td>0</td>\n",
       "      <td>0</td>\n",
       "      <td>0</td>\n",
       "      <td>0</td>\n",
       "      <td>0</td>\n",
       "      <td>0</td>\n",
       "      <td>1</td>\n",
       "      <td>0</td>\n",
       "    </tr>\n",
       "    <tr>\n",
       "      <th>2</th>\n",
       "      <td>60</td>\n",
       "      <td>11250</td>\n",
       "      <td>7</td>\n",
       "      <td>5</td>\n",
       "      <td>2001</td>\n",
       "      <td>2002</td>\n",
       "      <td>162.0</td>\n",
       "      <td>486</td>\n",
       "      <td>0</td>\n",
       "      <td>434</td>\n",
       "      <td>...</td>\n",
       "      <td>0</td>\n",
       "      <td>0</td>\n",
       "      <td>1</td>\n",
       "      <td>0</td>\n",
       "      <td>0</td>\n",
       "      <td>0</td>\n",
       "      <td>0</td>\n",
       "      <td>0</td>\n",
       "      <td>1</td>\n",
       "      <td>0</td>\n",
       "    </tr>\n",
       "    <tr>\n",
       "      <th>3</th>\n",
       "      <td>70</td>\n",
       "      <td>9550</td>\n",
       "      <td>7</td>\n",
       "      <td>5</td>\n",
       "      <td>1915</td>\n",
       "      <td>1970</td>\n",
       "      <td>0.0</td>\n",
       "      <td>216</td>\n",
       "      <td>0</td>\n",
       "      <td>540</td>\n",
       "      <td>...</td>\n",
       "      <td>1</td>\n",
       "      <td>0</td>\n",
       "      <td>0</td>\n",
       "      <td>0</td>\n",
       "      <td>0</td>\n",
       "      <td>0</td>\n",
       "      <td>0</td>\n",
       "      <td>0</td>\n",
       "      <td>0</td>\n",
       "      <td>1</td>\n",
       "    </tr>\n",
       "    <tr>\n",
       "      <th>4</th>\n",
       "      <td>60</td>\n",
       "      <td>14260</td>\n",
       "      <td>8</td>\n",
       "      <td>5</td>\n",
       "      <td>2000</td>\n",
       "      <td>2000</td>\n",
       "      <td>350.0</td>\n",
       "      <td>655</td>\n",
       "      <td>0</td>\n",
       "      <td>490</td>\n",
       "      <td>...</td>\n",
       "      <td>0</td>\n",
       "      <td>0</td>\n",
       "      <td>1</td>\n",
       "      <td>0</td>\n",
       "      <td>0</td>\n",
       "      <td>0</td>\n",
       "      <td>0</td>\n",
       "      <td>0</td>\n",
       "      <td>1</td>\n",
       "      <td>0</td>\n",
       "    </tr>\n",
       "  </tbody>\n",
       "</table>\n",
       "<p>5 rows × 162 columns</p>\n",
       "</div>"
      ],
      "text/plain": [
       "   MSSubClass  LotArea  OverallQual  OverallCond  YearBuilt  YearRemodAdd  \\\n",
       "0          60     8450            7            5       2003          2003   \n",
       "1          20     9600            6            8       1976          1976   \n",
       "2          60    11250            7            5       2001          2002   \n",
       "3          70     9550            7            5       1915          1970   \n",
       "4          60    14260            8            5       2000          2000   \n",
       "\n",
       "   MasVnrArea  BsmtFinSF1  BsmtFinSF2  BsmtUnfSF  ...  BrkTil  CBlock4  PConc  \\\n",
       "0       196.0         706           0        150  ...       0        0      1   \n",
       "1         0.0         978           0        284  ...       0        1      0   \n",
       "2       162.0         486           0        434  ...       0        0      1   \n",
       "3         0.0         216           0        540  ...       1        0      0   \n",
       "4       350.0         655           0        490  ...       0        0      1   \n",
       "\n",
       "   Slab  Stone4  Wood  Ex4  Fa4  Gd4  TA4  \n",
       "0     0       0     0    0    0    1    0  \n",
       "1     0       0     0    0    0    1    0  \n",
       "2     0       0     0    0    0    1    0  \n",
       "3     0       0     0    0    0    0    1  \n",
       "4     0       0     0    0    0    1    0  \n",
       "\n",
       "[5 rows x 162 columns]"
      ]
     },
     "execution_count": 74,
     "metadata": {},
     "output_type": "execute_result"
    }
   ],
   "source": [
    "y = df2['SalePrice']\n",
    "X = df2.drop(['SalePrice'],axis=1)\n",
    "print(y.head())\n",
    "X.head()"
   ]
  },
  {
   "cell_type": "code",
   "execution_count": 75,
   "id": "7422d9c0",
   "metadata": {},
   "outputs": [],
   "source": [
    "df_train, df_test = train_test_split(df2, train_size = 0.7, test_size = 0.3, random_state = 100)"
   ]
  },
  {
   "cell_type": "code",
   "execution_count": 76,
   "id": "bbf8c361",
   "metadata": {},
   "outputs": [
    {
     "name": "stderr",
     "output_type": "stream",
     "text": [
      "C:\\Users\\nikhi\\anaconda3\\lib\\site-packages\\pandas\\core\\frame.py:3699: SettingWithCopyWarning: \n",
      "A value is trying to be set on a copy of a slice from a DataFrame.\n",
      "Try using .loc[row_indexer,col_indexer] = value instead\n",
      "\n",
      "See the caveats in the documentation: https://pandas.pydata.org/pandas-docs/stable/user_guide/indexing.html#returning-a-view-versus-a-copy\n",
      "  self[iloc] = igetitem(value, i)\n",
      "C:\\Users\\nikhi\\anaconda3\\lib\\site-packages\\pandas\\core\\frame.py:3699: SettingWithCopyWarning: \n",
      "A value is trying to be set on a copy of a slice from a DataFrame.\n",
      "Try using .loc[row_indexer,col_indexer] = value instead\n",
      "\n",
      "See the caveats in the documentation: https://pandas.pydata.org/pandas-docs/stable/user_guide/indexing.html#returning-a-view-versus-a-copy\n",
      "  self[iloc] = igetitem(value, i)\n"
     ]
    },
    {
     "data": {
      "text/html": [
       "<div>\n",
       "<style scoped>\n",
       "    .dataframe tbody tr th:only-of-type {\n",
       "        vertical-align: middle;\n",
       "    }\n",
       "\n",
       "    .dataframe tbody tr th {\n",
       "        vertical-align: top;\n",
       "    }\n",
       "\n",
       "    .dataframe thead th {\n",
       "        text-align: right;\n",
       "    }\n",
       "</style>\n",
       "<table border=\"1\" class=\"dataframe\">\n",
       "  <thead>\n",
       "    <tr style=\"text-align: right;\">\n",
       "      <th></th>\n",
       "      <th>MSSubClass</th>\n",
       "      <th>LotArea</th>\n",
       "      <th>OverallQual</th>\n",
       "      <th>OverallCond</th>\n",
       "      <th>YearBuilt</th>\n",
       "      <th>YearRemodAdd</th>\n",
       "      <th>MasVnrArea</th>\n",
       "      <th>BsmtFinSF1</th>\n",
       "      <th>BsmtFinSF2</th>\n",
       "      <th>BsmtUnfSF</th>\n",
       "      <th>...</th>\n",
       "      <th>BrkTil</th>\n",
       "      <th>CBlock4</th>\n",
       "      <th>PConc</th>\n",
       "      <th>Slab</th>\n",
       "      <th>Stone4</th>\n",
       "      <th>Wood</th>\n",
       "      <th>Ex4</th>\n",
       "      <th>Fa4</th>\n",
       "      <th>Gd4</th>\n",
       "      <th>TA4</th>\n",
       "    </tr>\n",
       "  </thead>\n",
       "  <tbody>\n",
       "    <tr>\n",
       "      <th>1277</th>\n",
       "      <td>0.352941</td>\n",
       "      <td>0.077454</td>\n",
       "      <td>0.428571</td>\n",
       "      <td>0.428571</td>\n",
       "      <td>0.674419</td>\n",
       "      <td>0.433333</td>\n",
       "      <td>0.224375</td>\n",
       "      <td>0.093551</td>\n",
       "      <td>0.0</td>\n",
       "      <td>0.493151</td>\n",
       "      <td>...</td>\n",
       "      <td>0.0</td>\n",
       "      <td>1.0</td>\n",
       "      <td>0.0</td>\n",
       "      <td>0.0</td>\n",
       "      <td>0.0</td>\n",
       "      <td>0.0</td>\n",
       "      <td>0.0</td>\n",
       "      <td>0.0</td>\n",
       "      <td>1.0</td>\n",
       "      <td>0.0</td>\n",
       "    </tr>\n",
       "    <tr>\n",
       "      <th>770</th>\n",
       "      <td>0.382353</td>\n",
       "      <td>0.027820</td>\n",
       "      <td>0.285714</td>\n",
       "      <td>0.428571</td>\n",
       "      <td>0.790698</td>\n",
       "      <td>0.533333</td>\n",
       "      <td>0.000000</td>\n",
       "      <td>0.121368</td>\n",
       "      <td>0.0</td>\n",
       "      <td>0.074058</td>\n",
       "      <td>...</td>\n",
       "      <td>0.0</td>\n",
       "      <td>1.0</td>\n",
       "      <td>0.0</td>\n",
       "      <td>0.0</td>\n",
       "      <td>0.0</td>\n",
       "      <td>0.0</td>\n",
       "      <td>0.0</td>\n",
       "      <td>0.0</td>\n",
       "      <td>1.0</td>\n",
       "      <td>0.0</td>\n",
       "    </tr>\n",
       "    <tr>\n",
       "      <th>667</th>\n",
       "      <td>0.000000</td>\n",
       "      <td>0.031901</td>\n",
       "      <td>0.428571</td>\n",
       "      <td>0.428571</td>\n",
       "      <td>0.883721</td>\n",
       "      <td>0.800000</td>\n",
       "      <td>0.161250</td>\n",
       "      <td>0.201630</td>\n",
       "      <td>0.0</td>\n",
       "      <td>0.115582</td>\n",
       "      <td>...</td>\n",
       "      <td>0.0</td>\n",
       "      <td>0.0</td>\n",
       "      <td>1.0</td>\n",
       "      <td>0.0</td>\n",
       "      <td>0.0</td>\n",
       "      <td>0.0</td>\n",
       "      <td>0.0</td>\n",
       "      <td>0.0</td>\n",
       "      <td>1.0</td>\n",
       "      <td>0.0</td>\n",
       "    </tr>\n",
       "    <tr>\n",
       "      <th>1296</th>\n",
       "      <td>0.000000</td>\n",
       "      <td>0.034588</td>\n",
       "      <td>0.285714</td>\n",
       "      <td>0.571429</td>\n",
       "      <td>0.643411</td>\n",
       "      <td>0.216667</td>\n",
       "      <td>0.092500</td>\n",
       "      <td>0.137491</td>\n",
       "      <td>0.0</td>\n",
       "      <td>0.147260</td>\n",
       "      <td>...</td>\n",
       "      <td>0.0</td>\n",
       "      <td>1.0</td>\n",
       "      <td>0.0</td>\n",
       "      <td>0.0</td>\n",
       "      <td>0.0</td>\n",
       "      <td>0.0</td>\n",
       "      <td>0.0</td>\n",
       "      <td>0.0</td>\n",
       "      <td>0.0</td>\n",
       "      <td>1.0</td>\n",
       "    </tr>\n",
       "    <tr>\n",
       "      <th>28</th>\n",
       "      <td>0.000000</td>\n",
       "      <td>0.070210</td>\n",
       "      <td>0.285714</td>\n",
       "      <td>0.571429</td>\n",
       "      <td>0.596899</td>\n",
       "      <td>0.783333</td>\n",
       "      <td>0.000000</td>\n",
       "      <td>0.226258</td>\n",
       "      <td>0.0</td>\n",
       "      <td>0.088613</td>\n",
       "      <td>...</td>\n",
       "      <td>0.0</td>\n",
       "      <td>1.0</td>\n",
       "      <td>0.0</td>\n",
       "      <td>0.0</td>\n",
       "      <td>0.0</td>\n",
       "      <td>0.0</td>\n",
       "      <td>0.0</td>\n",
       "      <td>0.0</td>\n",
       "      <td>0.0</td>\n",
       "      <td>1.0</td>\n",
       "    </tr>\n",
       "  </tbody>\n",
       "</table>\n",
       "<p>5 rows × 163 columns</p>\n",
       "</div>"
      ],
      "text/plain": [
       "      MSSubClass   LotArea  OverallQual  OverallCond  YearBuilt  YearRemodAdd  \\\n",
       "1277    0.352941  0.077454     0.428571     0.428571   0.674419      0.433333   \n",
       "770     0.382353  0.027820     0.285714     0.428571   0.790698      0.533333   \n",
       "667     0.000000  0.031901     0.428571     0.428571   0.883721      0.800000   \n",
       "1296    0.000000  0.034588     0.285714     0.571429   0.643411      0.216667   \n",
       "28      0.000000  0.070210     0.285714     0.571429   0.596899      0.783333   \n",
       "\n",
       "      MasVnrArea  BsmtFinSF1  BsmtFinSF2  BsmtUnfSF  ...  BrkTil  CBlock4  \\\n",
       "1277    0.224375    0.093551         0.0   0.493151  ...     0.0      1.0   \n",
       "770     0.000000    0.121368         0.0   0.074058  ...     0.0      1.0   \n",
       "667     0.161250    0.201630         0.0   0.115582  ...     0.0      0.0   \n",
       "1296    0.092500    0.137491         0.0   0.147260  ...     0.0      1.0   \n",
       "28      0.000000    0.226258         0.0   0.088613  ...     0.0      1.0   \n",
       "\n",
       "      PConc  Slab  Stone4  Wood  Ex4  Fa4  Gd4  TA4  \n",
       "1277    0.0   0.0     0.0   0.0  0.0  0.0  1.0  0.0  \n",
       "770     0.0   0.0     0.0   0.0  0.0  0.0  1.0  0.0  \n",
       "667     1.0   0.0     0.0   0.0  0.0  0.0  1.0  0.0  \n",
       "1296    0.0   0.0     0.0   0.0  0.0  0.0  0.0  1.0  \n",
       "28      0.0   0.0     0.0   0.0  0.0  0.0  0.0  1.0  \n",
       "\n",
       "[5 rows x 163 columns]"
      ]
     },
     "execution_count": 76,
     "metadata": {},
     "output_type": "execute_result"
    }
   ],
   "source": [
    "from sklearn.preprocessing import MinMaxScaler\n",
    "col = list(df2)\n",
    "scaler = MinMaxScaler()\n",
    "df_train[col]=scaler.fit_transform(df_train[col])\n",
    "df_test[col]=scaler.transform(df_test[col])\n",
    "df_train.head()"
   ]
  },
  {
   "cell_type": "code",
   "execution_count": 77,
   "id": "ff6f62d7",
   "metadata": {},
   "outputs": [],
   "source": [
    "y_train = df_train.pop('SalePrice')\n",
    "X_train = df_train\n",
    "y_test = df_test.pop('SalePrice')\n",
    "X_test = df_test"
   ]
  },
  {
   "cell_type": "code",
   "execution_count": 78,
   "id": "b78184d5",
   "metadata": {},
   "outputs": [
    {
     "data": {
      "text/plain": [
       "(959,)"
      ]
     },
     "execution_count": 78,
     "metadata": {},
     "output_type": "execute_result"
    }
   ],
   "source": [
    "y_train.shape"
   ]
  },
  {
   "cell_type": "code",
   "execution_count": 79,
   "id": "51c25963",
   "metadata": {},
   "outputs": [],
   "source": [
    "y_train=np.array(y_train).reshape(-1,1)"
   ]
  },
  {
   "cell_type": "code",
   "execution_count": 80,
   "id": "b73e7730",
   "metadata": {},
   "outputs": [
    {
     "data": {
      "text/plain": [
       "(959, 1)"
      ]
     },
     "execution_count": 80,
     "metadata": {},
     "output_type": "execute_result"
    }
   ],
   "source": [
    "y_train.shape"
   ]
  },
  {
   "cell_type": "code",
   "execution_count": 81,
   "id": "4a52ab3c",
   "metadata": {},
   "outputs": [
    {
     "data": {
      "text/plain": [
       "LinearRegression()"
      ]
     },
     "execution_count": 81,
     "metadata": {},
     "output_type": "execute_result"
    }
   ],
   "source": [
    "reg=LinearRegression()\n",
    "reg.fit(X_train,y_train)"
   ]
  },
  {
   "cell_type": "code",
   "execution_count": 82,
   "id": "665a9114",
   "metadata": {},
   "outputs": [],
   "source": [
    "#X_train.to_csv('file_name.csv', index=False)"
   ]
  },
  {
   "cell_type": "markdown",
   "id": "91bf57e0",
   "metadata": {},
   "source": [
    "np.any(np.isnan(X_train))\n",
    "\n",
    "np.all(np.isfinite(X_train))\n",
    "\n",
    "X_train.isnull().values.any()\n",
    "\n",
    "X_train.isnull().sum().sum()\n",
    "\n",
    "pd.set_option(\"display.max_columns\", None)\n",
    "\n",
    "print(X_train.isnull().sum()"
   ]
  },
  {
   "cell_type": "code",
   "execution_count": 83,
   "id": "a6ab7ccb",
   "metadata": {},
   "outputs": [],
   "source": [
    "y_pred=reg.predict(X_train)"
   ]
  },
  {
   "cell_type": "code",
   "execution_count": 84,
   "id": "349a3272",
   "metadata": {},
   "outputs": [
    {
     "data": {
      "text/plain": [
       "0.9009307966288237"
      ]
     },
     "execution_count": 84,
     "metadata": {},
     "output_type": "execute_result"
    }
   ],
   "source": [
    "r2_score(y_train, y_pred)"
   ]
  },
  {
   "cell_type": "code",
   "execution_count": 85,
   "id": "a5b0bac8",
   "metadata": {},
   "outputs": [
    {
     "name": "stdout",
     "output_type": "stream",
     "text": [
      "[-9.29905405e+10]\n",
      "[[-5.46158167e-02  1.81608452e-01  1.28680028e-01  5.58350139e-02\n",
      "   3.04732586e-02  7.16929821e-03  3.78377776e-02  1.40107965e+09\n",
      "   3.65909177e+08  5.79894056e+08 -1.51676057e+09  1.70273021e+09\n",
      "   7.35462942e+08  2.31399782e+08 -2.03324353e+09  2.43221521e-02\n",
      "  -8.78682360e-04  6.31812066e-02  2.21938938e-02 -2.49699876e-02\n",
      "  -6.77512884e-02  7.42022097e-02  1.93513483e-02 -9.27340984e-03\n",
      "   7.16857240e-02 -2.90537719e-03  3.13038975e-02  7.66772777e-03\n",
      "   2.81630903e-02  2.25596670e-02  4.44480628e-02 -1.00051401e-01\n",
      "  -2.65586823e-02 -4.81137738e-03 -5.66755235e-03  8.48075974e+08\n",
      "   8.48075974e+08  8.48075974e+08  8.48075974e+08 -1.21781929e+10\n",
      "  -1.21781929e+10 -1.21781929e+10 -1.21781929e+10  9.63561653e+09\n",
      "   9.63561653e+09  9.63561653e+09  9.63561653e+09  9.63561653e+09\n",
      "   9.63561653e+09 -2.49977335e-02 -4.09191847e-02 -4.17753533e-02\n",
      "  -3.85203585e-02 -3.77596489e-02 -3.23709548e-02 -1.84359273e+10\n",
      "  -1.84359273e+10 -1.84359273e+10 -1.84359273e+10 -1.84359273e+10\n",
      "   3.01307468e+10  3.01307468e+10  3.01307468e+10  3.01307468e+10\n",
      "   2.02263658e+10  2.02263658e+10  2.02263658e+10  2.02263658e+10\n",
      "   2.02263658e+10  2.02263658e+10 -1.95886510e+10 -1.95886510e+10\n",
      "  -1.95886510e+10 -1.07434730e+09 -1.07434730e+09 -2.49654239e+09\n",
      "  -2.49654239e+09 -2.49654239e+09 -2.49654239e+09 -2.49654239e+09\n",
      "   5.67301680e+09  5.67301680e+09  5.67301680e+09  5.67301680e+09\n",
      "   5.67301680e+09  5.67301680e+09  5.67301680e+09  5.67301680e+09\n",
      "   5.67301680e+09  5.67301680e+09  5.67301680e+09  5.67301680e+09\n",
      "   5.67301680e+09  5.67301680e+09  5.67301680e+09  5.67301680e+09\n",
      "   5.67301680e+09  5.67301680e+09  5.67301680e+09  5.67301680e+09\n",
      "   5.67301680e+09  5.67301680e+09  5.67301680e+09  5.67301680e+09\n",
      "   5.67301680e+09  2.55820753e+10  2.55820753e+10  2.55820753e+10\n",
      "   2.55820753e+10  2.55820753e+10  2.55820753e+10  2.55820753e+10\n",
      "   2.55820753e+10  4.77165978e+09 -4.48539129e+02  4.77165978e+09\n",
      "   4.77165978e+09  6.56578752e+09  4.77165978e+09  4.77165978e+09\n",
      "   4.77165978e+09  4.77165978e+09  4.77165978e+09  4.77165978e+09\n",
      "   4.77165978e+09  4.77165978e+09  4.77165978e+09  4.77165978e+09\n",
      "   6.48820419e+09 -4.39181030e-02  6.48820419e+09  6.48820419e+09\n",
      "   4.69407646e+09  6.48820419e+09  6.48820419e+09  6.48820419e+09\n",
      "   6.48820419e+09  6.48820419e+09  6.48820419e+09  6.48820419e+09\n",
      "   6.48820419e+09  6.48820419e+09  6.48820419e+09  6.48820419e+09\n",
      "   3.20150510e+09  3.20150510e+09  3.20150510e+09  3.20150510e+09\n",
      "   3.81987126e+10  3.81987126e+10  3.81987126e+10  3.81987126e+10\n",
      "  -5.88158295e+08 -5.88158295e+08 -5.88158295e+08 -5.88158295e+08\n",
      "  -5.88158295e+08 -5.88158295e+08  2.54257635e+09  2.54257635e+09\n",
      "   2.54257635e+09  2.54257635e+09]]\n"
     ]
    }
   ],
   "source": [
    "print(reg.intercept_)\n",
    "print(reg.coef_)"
   ]
  },
  {
   "cell_type": "code",
   "execution_count": 86,
   "id": "0b1ec382",
   "metadata": {},
   "outputs": [
    {
     "name": "stdout",
     "output_type": "stream",
     "text": [
      "1.7937324384135267\n",
      "0.0018704196438097255\n",
      "0.04324834845181635\n"
     ]
    }
   ],
   "source": [
    "rss=np.sum(np.square(y_train-y_pred))\n",
    "print(rss)\n",
    "mse=mean_squared_error(y_train, y_pred)\n",
    "print(mse)\n",
    "rmse=mse**0.5\n",
    "print(rmse)"
   ]
  },
  {
   "cell_type": "code",
   "execution_count": 87,
   "id": "585d44bc",
   "metadata": {},
   "outputs": [],
   "source": [
    "y_res=y_train-y_pred"
   ]
  },
  {
   "cell_type": "code",
   "execution_count": 88,
   "id": "8b84d569",
   "metadata": {},
   "outputs": [
    {
     "data": {
      "image/png": "[encoded data removed]",
      "text/plain": [
       "<Figure size 432x288 with 1 Axes>"
      ]
     },
     "metadata": {
      "needs_background": "light"
     },
     "output_type": "display_data"
    }
   ],
   "source": [
    "#data['res']=y_res\n",
    "plt.scatter(y_pred, y_res)\n",
    "plt.axhline(y=0, color='r', linestyle=':')\n",
    "plt.xlabel(\"Predictions\")\n",
    "plt.ylabel(\"Residuals\")\n",
    "plt.show()"
   ]
  },
  {
   "cell_type": "code",
   "execution_count": 89,
   "id": "9db964ae",
   "metadata": {},
   "outputs": [
    {
     "name": "stderr",
     "output_type": "stream",
     "text": [
      "C:\\Users\\nikhi\\anaconda3\\lib\\site-packages\\seaborn\\distributions.py:2619: FutureWarning: `distplot` is a deprecated function and will be removed in a future version. Please adapt your code to use either `displot` (a figure-level function with similar flexibility) or `histplot` (an axes-level function for histograms).\n",
      "  warnings.warn(msg, FutureWarning)\n"
     ]
    },
    {
     "data": {
      "image/png": "[encoded data removed]",
      "text/plain": [
       "<Figure size 432x288 with 1 Axes>"
      ]
     },
     "metadata": {
      "needs_background": "light"
     },
     "output_type": "display_data"
    }
   ],
   "source": [
    "p=sns.distplot(y_res, kde=True)\n",
    "p=plt.title(\"Normality of eror terms/Residuals\")\n",
    "plt.xlabel(\"Residuals\")\n",
    "plt.show()"
   ]
  },
  {
   "cell_type": "markdown",
   "id": "2ccf8d64",
   "metadata": {},
   "source": [
    "# Lasso"
   ]
  },
  {
   "cell_type": "code",
   "execution_count": 90,
   "id": "f00780c7",
   "metadata": {},
   "outputs": [
    {
     "data": {
      "text/plain": [
       "(array([0.06266854]),\n",
       " array([-4.21142239e-02,  0.00000000e+00,  1.75197536e-01,  0.00000000e+00,\n",
       "         0.00000000e+00,  1.94366989e-02,  0.00000000e+00,  0.00000000e+00,\n",
       "         0.00000000e+00,  0.00000000e+00,  0.00000000e+00,  0.00000000e+00,\n",
       "         0.00000000e+00,  0.00000000e+00,  9.93473325e-02,  1.55917447e-02,\n",
       "         0.00000000e+00,  2.13270070e-02,  5.70843855e-03,  0.00000000e+00,\n",
       "        -0.00000000e+00,  9.57645508e-02,  4.84818625e-02,  0.00000000e+00,\n",
       "         6.43691795e-02,  0.00000000e+00,  1.38161065e-02,  0.00000000e+00,\n",
       "        -0.00000000e+00,  0.00000000e+00,  0.00000000e+00, -0.00000000e+00,\n",
       "        -0.00000000e+00,  0.00000000e+00, -0.00000000e+00,  0.00000000e+00,\n",
       "         0.00000000e+00, -0.00000000e+00, -1.05145706e-02,  0.00000000e+00,\n",
       "         3.43649339e-02,  0.00000000e+00, -7.09501901e-03,  0.00000000e+00,\n",
       "         0.00000000e+00,  8.04515602e-03, -0.00000000e+00,  0.00000000e+00,\n",
       "        -1.42777400e-02,  0.00000000e+00, -0.00000000e+00, -0.00000000e+00,\n",
       "        -0.00000000e+00,  0.00000000e+00,  0.00000000e+00,  7.89349639e-03,\n",
       "        -0.00000000e+00, -0.00000000e+00, -0.00000000e+00, -0.00000000e+00,\n",
       "         4.30136685e-02, -0.00000000e+00,  0.00000000e+00, -7.60748752e-03,\n",
       "        -0.00000000e+00,  0.00000000e+00, -0.00000000e+00,  0.00000000e+00,\n",
       "        -0.00000000e+00, -2.58775191e-03,  2.78370902e-03,  0.00000000e+00,\n",
       "        -1.14584283e-02,  0.00000000e+00, -0.00000000e+00, -0.00000000e+00,\n",
       "         9.91606448e-03, -0.00000000e+00, -0.00000000e+00,  0.00000000e+00,\n",
       "        -0.00000000e+00, -0.00000000e+00, -0.00000000e+00,  0.00000000e+00,\n",
       "         0.00000000e+00, -0.00000000e+00,  1.87534256e-02, -4.01676025e-03,\n",
       "        -0.00000000e+00, -0.00000000e+00, -0.00000000e+00, -0.00000000e+00,\n",
       "        -0.00000000e+00, -0.00000000e+00,  0.00000000e+00,  4.56907500e-02,\n",
       "         3.88927718e-02, -1.26038751e-03, -0.00000000e+00, -0.00000000e+00,\n",
       "        -0.00000000e+00,  0.00000000e+00,  3.95239380e-02,  0.00000000e+00,\n",
       "         0.00000000e+00,  0.00000000e+00, -0.00000000e+00,  0.00000000e+00,\n",
       "         0.00000000e+00, -0.00000000e+00, -0.00000000e+00, -0.00000000e+00,\n",
       "        -0.00000000e+00, -0.00000000e+00,  0.00000000e+00, -0.00000000e+00,\n",
       "         4.16739321e-03, -0.00000000e+00,  1.37084731e-03, -1.12970255e-04,\n",
       "         0.00000000e+00,  0.00000000e+00,  0.00000000e+00,  0.00000000e+00,\n",
       "        -0.00000000e+00,  0.00000000e+00, -3.44000303e-03, -0.00000000e+00,\n",
       "        -0.00000000e+00,  0.00000000e+00, -0.00000000e+00,  0.00000000e+00,\n",
       "        -0.00000000e+00,  0.00000000e+00, -0.00000000e+00, -0.00000000e+00,\n",
       "         0.00000000e+00,  0.00000000e+00,  0.00000000e+00, -0.00000000e+00,\n",
       "        -0.00000000e+00,  0.00000000e+00, -0.00000000e+00, -0.00000000e+00,\n",
       "        -0.00000000e+00,  0.00000000e+00, -7.77806222e-04,  0.00000000e+00,\n",
       "         2.48727242e-02, -0.00000000e+00,  0.00000000e+00, -2.14359329e-02,\n",
       "        -1.69072572e-04,  0.00000000e+00,  0.00000000e+00, -0.00000000e+00,\n",
       "        -0.00000000e+00,  0.00000000e+00,  4.40853855e-02, -0.00000000e+00,\n",
       "         0.00000000e+00, -0.00000000e+00]))"
      ]
     },
     "execution_count": 90,
     "metadata": {},
     "output_type": "execute_result"
    }
   ],
   "source": [
    "from sklearn.linear_model import Lasso\n",
    "lm = Lasso(alpha=0.001)\n",
    "lm.fit(X_train, y_train)\n",
    "lm.intercept_, lm.coef_"
   ]
  },
  {
   "cell_type": "code",
   "execution_count": 91,
   "id": "43d88ce2",
   "metadata": {},
   "outputs": [
    {
     "data": {
      "text/plain": [
       "0.8469051734259427"
      ]
     },
     "execution_count": 91,
     "metadata": {},
     "output_type": "execute_result"
    }
   ],
   "source": [
    "lm.score(X_train, y_train)"
   ]
  },
  {
   "cell_type": "code",
   "execution_count": 92,
   "id": "4c3ac56d",
   "metadata": {
    "scrolled": false
   },
   "outputs": [
    {
     "data": {
      "text/plain": [
       "0.7883618585315085"
      ]
     },
     "execution_count": 92,
     "metadata": {},
     "output_type": "execute_result"
    }
   ],
   "source": [
    "lm.score(X_test, y_test)"
   ]
  },
  {
   "cell_type": "code",
   "execution_count": 104,
   "id": "ec48d96f",
   "metadata": {
    "scrolled": false
   },
   "outputs": [
    {
     "name": "stderr",
     "output_type": "stream",
     "text": [
      "C:\\Users\\nikhi\\anaconda3\\lib\\site-packages\\sklearn\\linear_model\\_coordinate_descent.py:530: ConvergenceWarning: Objective did not converge. You might want to increase the number of iterations. Duality gap: 0.1278265249818089, tolerance: 0.0018105853053981492\n",
      "  model = cd_fast.enet_coordinate_descent(\n"
     ]
    },
    {
     "name": "stdout",
     "output_type": "stream",
     "text": [
      "alpha =  1e-06\n",
      "intercept, coef =  [-0.17498963] [-5.41715911e-02  1.80800482e-01  1.28716881e-01  5.58514821e-02\n",
      "  2.92413024e-02  7.35836251e-03  3.74491458e-02 -4.57514887e-02\n",
      "  3.67924438e-04 -1.11996098e-02 -3.55418487e-02  1.93986235e-01\n",
      "  1.16004727e-01  6.01837633e-02  8.36894370e-02  2.43584644e-02\n",
      " -8.91105368e-04  6.32320050e-02  2.22202223e-02 -2.46619348e-02\n",
      " -6.81306419e-02  7.45673273e-02  1.95554057e-02 -8.89129485e-03\n",
      "  7.15145027e-02 -2.47299088e-03  3.10758960e-02  7.10149780e-03\n",
      "  2.76829550e-02  2.22876759e-02  4.42437310e-02 -9.94439465e-02\n",
      " -2.60944133e-02 -4.62439373e-03 -5.63557902e-03 -1.56706505e-04\n",
      "  9.19675373e-03 -4.90975427e-02  8.27876431e-06  3.72024368e-02\n",
      "  6.46367341e-02  2.59182654e-02  2.05445390e-02  1.81075418e-02\n",
      "  2.06712065e-02  2.31239534e-02  7.66274174e-03  1.69758046e-02\n",
      "  2.16485946e-03 -1.07014402e-02 -2.66462709e-02 -2.76255463e-02\n",
      " -2.41102212e-02 -2.33265645e-02 -1.79857674e-02  9.99810666e-04\n",
      "  2.25438024e-02 -1.87010074e-03 -7.88872832e-02 -0.00000000e+00\n",
      "  3.57690623e-02 -4.04010439e-04  5.20036100e-04 -2.12254555e-04\n",
      " -3.24951085e-02 -3.87721416e-03 -3.28986022e-03  3.10953121e-03\n",
      "  3.34906064e-03  1.03851855e-04  2.69584561e-03 -0.00000000e+00\n",
      " -2.19074789e-03  1.02498131e-01 -4.74965995e-14 -2.31948980e-03\n",
      "  2.53426384e-02 -2.23876385e-02 -6.04125663e-02  4.48199329e-03\n",
      " -1.30014709e-02 -6.77190156e-03  2.00630233e-03  1.27103992e-02\n",
      "  6.47793668e-04 -8.45786976e-04  5.27789278e-02 -2.64483666e-02\n",
      "  0.00000000e+00 -1.46369175e-02 -1.28716644e-02 -2.79042963e-02\n",
      " -1.77120579e-02  4.64464640e-03 -1.75490691e-02  7.26221203e-02\n",
      "  6.75007414e-02 -1.88013819e-02 -1.70470404e-02 -1.02528718e-02\n",
      "  9.23601318e-04  2.60966881e-02  1.06893736e-01  6.60156161e-04\n",
      "  1.03793028e-02 -5.27540095e-03  1.15914068e-02  2.02635807e-02\n",
      "  1.36581780e-02 -3.49835096e-02 -2.15953094e-02  1.04827422e-02\n",
      "  1.10300555e-02 -1.73948568e-02  0.00000000e+00 -8.21760430e-04\n",
      "  1.35791255e-02  4.68214046e-02  9.70559388e-03  3.88073181e-03\n",
      " -0.00000000e+00 -1.77159715e-02  1.65427001e-02 -1.07373257e-02\n",
      " -7.55110620e-03  3.57668407e-03 -1.86475604e-02  1.45835244e-02\n",
      "  1.01607182e-02  0.00000000e+00 -1.37862409e-02  2.36578602e-02\n",
      "  0.00000000e+00  1.30273691e-03 -8.14117675e-03 -1.07545071e-02\n",
      "  2.39311568e-02 -3.38937602e-02 -1.76890022e-02 -7.90746190e-03\n",
      " -1.98676404e-02  7.88584890e-03  1.12927351e-02 -3.11069476e-02\n",
      " -3.09689145e-02 -3.93241990e-03  0.00000000e+00  2.90726234e-03\n",
      "  4.32040630e-02 -3.97955620e-02  8.53669324e-03 -5.12527231e-04\n",
      " -1.61365657e-02  6.44147004e-04 -4.76916386e-05 -8.49808003e-03\n",
      "  3.28370235e-03  2.46911406e-02  5.43147005e-02  2.49604858e-02\n",
      "  1.13536787e-02  1.91591595e-02]\n",
      "train_score =  0.9009199883854655\n",
      "test_score =  0.8062750702491827\n",
      "*************************************************************************************************\n",
      "alpha =  1e-05\n",
      "intercept, coef =  [-0.14698863] [-5.22371062e-02  1.74379386e-01  1.29448281e-01  5.57870271e-02\n",
      "  2.11708528e-02  8.12972424e-03  3.47915741e-02 -1.67293405e-02\n",
      "  5.92014162e-03 -0.00000000e+00 -2.23852338e-02  0.00000000e+00\n",
      "  4.16691400e-02  3.40146944e-02  2.81538756e-01  2.45657340e-02\n",
      " -9.23658339e-04  6.34691330e-02  2.28443384e-02 -2.26366409e-02\n",
      " -6.95551926e-02  7.57604459e-02  2.06411948e-02 -6.00069604e-03\n",
      "  6.96393045e-02 -0.00000000e+00  3.02829655e-02  4.39758604e-03\n",
      "  2.43637076e-02  1.99590784e-02  4.30314439e-02 -9.44201248e-02\n",
      " -1.97960769e-02 -3.76524438e-03 -5.65840344e-03  1.29867800e-04\n",
      "  1.01834106e-02 -4.90604544e-02 -1.40363228e-05  2.01233384e-02\n",
      "  4.74364568e-02  8.73266012e-03  3.67678981e-03  1.19766182e-02\n",
      "  1.45802933e-02  1.72742229e-02  2.74784897e-03  1.10815700e-02\n",
      " -3.41264167e-03  1.24686693e-02 -2.63992779e-03 -3.55772783e-03\n",
      "  0.00000000e+00  1.06570867e-03  6.04187484e-03  1.31927415e-03\n",
      "  2.14427963e-02 -1.77738461e-03 -6.47454555e-02 -0.00000000e+00\n",
      "  3.55033110e-02 -1.62454520e-03  4.24345212e-04 -1.23130402e-04\n",
      " -3.17536806e-02 -2.67067975e-03 -1.75149151e-03  4.65410346e-03\n",
      "  6.75052223e-04  2.96630916e-04  2.68195206e-03 -0.00000000e+00\n",
      " -2.08789483e-03  8.92505911e-02 -3.42079882e-14  0.00000000e+00\n",
      "  2.71307376e-02 -1.93384280e-02 -5.51384162e-02  6.74530909e-03\n",
      " -1.22513559e-02 -0.00000000e+00  9.42202457e-04  1.19929381e-02\n",
      "  4.81606643e-04 -4.20506770e-04  5.22763657e-02 -2.62392476e-02\n",
      "  0.00000000e+00 -1.61048304e-02 -1.23173966e-02 -2.70482698e-02\n",
      " -1.71685584e-02  0.00000000e+00 -1.63444513e-02  7.26747944e-02\n",
      "  6.76897325e-02 -1.85365333e-02 -1.40734444e-02 -9.54519884e-03\n",
      "  1.54227708e-03  2.65648077e-02  1.05989204e-01  8.70485282e-04\n",
      "  9.58680133e-03 -1.52087788e-02  0.00000000e+00  9.53208451e-03\n",
      "  1.56223982e-05 -4.15695218e-02 -3.16790081e-02 -0.00000000e+00\n",
      "  1.10329110e-03 -1.03320859e-02  0.00000000e+00 -4.19625531e-03\n",
      "  1.23830857e-02  3.06227794e-02  8.90221721e-03  0.00000000e+00\n",
      " -0.00000000e+00 -0.00000000e+00  1.21092352e-02 -8.40257691e-04\n",
      " -7.99129640e-03  0.00000000e+00 -1.92838788e-02  1.01438503e-02\n",
      "  8.10240718e-03  0.00000000e+00 -1.54039129e-03  2.87248962e-02\n",
      "  1.60438751e-04  6.42850839e-03 -0.00000000e+00 -1.01722013e-03\n",
      "  1.06566928e-02 -1.60707112e-02 -8.20880604e-03 -1.37670394e-03\n",
      " -1.52592253e-02  1.59879355e-02  1.65355222e-02 -2.29359393e-02\n",
      " -2.75811250e-02 -2.58732919e-03  9.32917423e-04  3.84705399e-03\n",
      "  4.24526617e-02 -2.93322494e-02  8.44791732e-03 -5.41304132e-04\n",
      " -1.66824870e-02  4.45858475e-04 -9.53031859e-05 -8.76419511e-03\n",
      "  1.53119404e-03  1.94477301e-02  4.35135926e-02  1.29655227e-02\n",
      "  4.15464657e-04  7.99158412e-03]\n",
      "train_score =  0.900666396758118\n",
      "test_score =  0.8099044699587744\n",
      "*************************************************************************************************\n",
      "alpha =  0.0001\n",
      "intercept, coef =  [-0.04367916] [-5.01018597e-02  1.28254806e-01  1.40798066e-01  5.10660535e-02\n",
      "  2.67516925e-03  1.02320002e-02  2.45843814e-02 -0.00000000e+00\n",
      "  0.00000000e+00  0.00000000e+00  0.00000000e+00  0.00000000e+00\n",
      "  2.61100574e-02  4.29200557e-03  2.41931190e-01  2.75943727e-02\n",
      " -0.00000000e+00  5.88519099e-02  2.33628317e-02 -0.00000000e+00\n",
      " -7.02022542e-02  7.12884801e-02  2.34834650e-02  0.00000000e+00\n",
      "  6.77410147e-02  2.82030096e-04  2.56696546e-02  0.00000000e+00\n",
      "  3.35867401e-03  0.00000000e+00  3.31242568e-02 -4.41771933e-02\n",
      " -0.00000000e+00 -4.82402315e-04 -4.51192103e-03  9.71120704e-04\n",
      "  1.23386409e-02 -3.88176710e-02 -9.79932382e-04  1.57399536e-02\n",
      "  4.49044557e-02  4.95511713e-03 -0.00000000e+00  2.27129231e-03\n",
      "  4.12399934e-03  8.26938496e-03 -0.00000000e+00  2.31116731e-04\n",
      " -1.02257711e-02  1.01868444e-02 -0.00000000e+00 -0.00000000e+00\n",
      "  0.00000000e+00  0.00000000e+00  6.42966540e-03  2.64717204e-03\n",
      "  1.01210918e-02 -1.36542969e-03 -0.00000000e+00 -0.00000000e+00\n",
      "  3.70782661e-02 -1.53913894e-03  0.00000000e+00 -0.00000000e+00\n",
      " -9.85657361e-03  0.00000000e+00 -2.92924671e-04  9.07767225e-03\n",
      " -0.00000000e+00  4.42034351e-04  1.96117976e-03  0.00000000e+00\n",
      " -3.36167151e-03  0.00000000e+00 -0.00000000e+00  0.00000000e+00\n",
      "  2.33851287e-02 -1.62004987e-02 -2.22771045e-02  5.88115412e-03\n",
      " -3.48045546e-03 -0.00000000e+00  0.00000000e+00  8.26616292e-03\n",
      "  3.67160371e-03  0.00000000e+00  5.05636228e-02 -2.15737257e-02\n",
      " -0.00000000e+00 -1.54273237e-02 -0.00000000e+00 -1.98959091e-02\n",
      " -1.16524094e-02  0.00000000e+00 -8.89562893e-03  7.27293465e-02\n",
      "  6.48931481e-02 -1.34732407e-02 -3.96728047e-03 -3.46191434e-03\n",
      "  4.41173927e-04  2.65305818e-02  1.01752351e-01  0.00000000e+00\n",
      "  0.00000000e+00 -3.71218838e-03  0.00000000e+00  1.06271500e-02\n",
      "  1.05959438e-02 -5.68190010e-03 -1.86416445e-02 -0.00000000e+00\n",
      "  0.00000000e+00 -1.51524374e-03  0.00000000e+00 -0.00000000e+00\n",
      "  1.71414594e-02  0.00000000e+00  7.08384589e-03 -6.11900543e-03\n",
      " -0.00000000e+00  2.59688625e-03  3.42558309e-04  0.00000000e+00\n",
      " -5.08235769e-03  0.00000000e+00 -1.43085838e-02 -0.00000000e+00\n",
      " -0.00000000e+00  0.00000000e+00 -0.00000000e+00  1.71779279e-02\n",
      "  0.00000000e+00  0.00000000e+00 -0.00000000e+00 -0.00000000e+00\n",
      "  1.31351157e-03 -0.00000000e+00 -1.64914392e-03 -0.00000000e+00\n",
      " -2.03326944e-02  9.21204638e-03  5.29227867e-03 -2.12190893e-02\n",
      " -1.32621496e-02 -8.91157062e-04  6.89076164e-04  2.91617587e-03\n",
      "  4.35816946e-02 -4.94403477e-04  9.97613838e-03 -6.56148074e-04\n",
      " -1.52076199e-02  4.51458866e-04  0.00000000e+00 -6.81444199e-03\n",
      "  0.00000000e+00  0.00000000e+00  4.32588443e-02  0.00000000e+00\n",
      " -0.00000000e+00  3.67745128e-03]\n",
      "train_score =  0.8959912529595379\n",
      "test_score =  0.8187101076056598\n",
      "*************************************************************************************************\n",
      "alpha =  0.0002\n",
      "intercept, coef =  [-0.01884241] [-5.04144221e-02  8.22787546e-02  1.46630907e-01  4.67229070e-02\n",
      "  0.00000000e+00  1.12097631e-02  1.60958117e-02  0.00000000e+00\n",
      "  0.00000000e+00  0.00000000e+00  0.00000000e+00  0.00000000e+00\n",
      "  1.41005321e-02  0.00000000e+00  2.21238080e-01  2.81414605e-02\n",
      " -0.00000000e+00  5.36620774e-02  2.14242546e-02 -0.00000000e+00\n",
      " -6.15076034e-02  7.62995597e-02  2.72063744e-02  0.00000000e+00\n",
      "  6.75742039e-02  0.00000000e+00  2.41764168e-02  0.00000000e+00\n",
      "  0.00000000e+00  0.00000000e+00  2.88218541e-02 -3.44541092e-06\n",
      " -0.00000000e+00 -0.00000000e+00 -3.23511927e-03  2.08329722e-03\n",
      "  1.40210293e-02 -2.35781397e-02 -1.37565708e-03  9.47799906e-03\n",
      "  4.10981473e-02  0.00000000e+00 -4.90534771e-03  2.40997418e-04\n",
      "  1.82223660e-03  6.33199773e-03 -0.00000000e+00  0.00000000e+00\n",
      " -1.18995550e-02  2.83870480e-03 -0.00000000e+00 -0.00000000e+00\n",
      " -0.00000000e+00  0.00000000e+00  6.53373480e-03  3.61531144e-03\n",
      "  2.08576648e-03 -1.56107901e-03 -0.00000000e+00 -0.00000000e+00\n",
      "  3.75591197e-02 -0.00000000e+00  0.00000000e+00 -8.50447105e-04\n",
      " -0.00000000e+00  0.00000000e+00 -0.00000000e+00  9.15280678e-03\n",
      " -0.00000000e+00  0.00000000e+00  1.82953846e-03 -0.00000000e+00\n",
      " -4.73185358e-03  0.00000000e+00 -0.00000000e+00 -0.00000000e+00\n",
      "  2.13764406e-02 -1.32135872e-02 -0.00000000e+00  5.42058031e-03\n",
      " -0.00000000e+00 -0.00000000e+00  0.00000000e+00  2.94010636e-03\n",
      "  5.21875902e-03  0.00000000e+00  4.70169169e-02 -1.90546916e-02\n",
      " -0.00000000e+00 -1.01823411e-02 -0.00000000e+00 -1.46783919e-02\n",
      " -8.83929037e-03  0.00000000e+00 -3.78823335e-03  7.25366985e-02\n",
      "  6.32635293e-02 -1.10771940e-02 -0.00000000e+00 -0.00000000e+00\n",
      "  0.00000000e+00  2.52556684e-02  9.68232279e-02  0.00000000e+00\n",
      "  0.00000000e+00 -0.00000000e+00  0.00000000e+00  8.31094735e-03\n",
      "  0.00000000e+00 -0.00000000e+00 -1.23379370e-02 -0.00000000e+00\n",
      "  0.00000000e+00 -0.00000000e+00  0.00000000e+00 -0.00000000e+00\n",
      "  2.15422968e-02 -0.00000000e+00  8.80173520e-03 -5.08457840e-03\n",
      " -0.00000000e+00  3.75840046e-03  0.00000000e+00  0.00000000e+00\n",
      " -3.05626177e-03  0.00000000e+00 -8.14103119e-03 -0.00000000e+00\n",
      " -0.00000000e+00  0.00000000e+00 -0.00000000e+00  1.01108193e-02\n",
      " -0.00000000e+00  0.00000000e+00 -0.00000000e+00 -0.00000000e+00\n",
      "  0.00000000e+00 -0.00000000e+00 -0.00000000e+00 -0.00000000e+00\n",
      " -1.80154733e-02  8.97072647e-03  0.00000000e+00 -1.91196944e-02\n",
      " -0.00000000e+00 -0.00000000e+00  0.00000000e+00  2.08085690e-03\n",
      "  3.26252055e-02 -0.00000000e+00  0.00000000e+00 -1.15599589e-02\n",
      " -1.28037510e-02  1.59639821e-04  0.00000000e+00 -6.05746429e-03\n",
      "  0.00000000e+00  0.00000000e+00  4.31868461e-02 -0.00000000e+00\n",
      "  0.00000000e+00  2.46297293e-03]\n",
      "train_score =  0.8904496694688079\n",
      "test_score =  0.8212116829938779\n",
      "*************************************************************************************************\n",
      "alpha =  0.0005\n",
      "intercept, coef =  [0.01881338] [-0.05238418  0.          0.15798072  0.02820748  0.          0.01444084\n",
      "  0.00196782  0.          0.          0.          0.          0.\n",
      "  0.          0.          0.18313302  0.02464883  0.          0.03835567\n",
      "  0.01334808  0.         -0.02191924  0.07826434  0.03835247  0.\n",
      "  0.06485764  0.00071919  0.02278003  0.         -0.          0.\n",
      "  0.01423277 -0.         -0.         -0.         -0.00073753  0.\n",
      "  0.00947916 -0.         -0.00649192  0.00479684  0.03961686  0.\n",
      " -0.00634695  0.          0.          0.00539481 -0.          0.\n",
      " -0.0131798   0.         -0.         -0.         -0.          0.\n",
      "  0.00411301  0.00643284  0.         -0.         -0.         -0.\n",
      "  0.03982346 -0.          0.         -0.00414531 -0.          0.00092036\n",
      " -0.          0.00529012 -0.         -0.          0.00281371  0.\n",
      " -0.00800483  0.         -0.         -0.          0.01765722 -0.00467095\n",
      " -0.          0.00377002 -0.         -0.          0.          0.\n",
      "  0.00354337 -0.          0.03475863 -0.01246897 -0.         -0.\n",
      " -0.         -0.00297106 -0.00385223  0.         -0.          0.06472916\n",
      "  0.05724925 -0.00828192 -0.         -0.         -0.          0.01731768\n",
      "  0.07717375  0.          0.          0.         -0.          0.001887\n",
      "  0.         -0.         -0.0032371  -0.         -0.         -0.\n",
      "  0.         -0.          0.0186987  -0.          0.00757665 -0.00326825\n",
      " -0.          0.00158015  0.          0.         -0.00027003  0.\n",
      " -0.00508462 -0.         -0.          0.         -0.          0.\n",
      " -0.          0.         -0.         -0.          0.         -0.\n",
      " -0.         -0.         -0.          0.00535771 -0.         -0.00871727\n",
      " -0.          0.         -0.00102378  0.          0.02995885 -0.\n",
      "  0.         -0.01556665 -0.00651109  0.00210931  0.         -0.\n",
      " -0.          0.          0.04264429 -0.          0.          0.        ]\n",
      "train_score =  0.8745008944205686\n",
      "test_score =  0.8133376270354247\n",
      "*************************************************************************************************\n",
      "alpha =  0.001\n",
      "intercept, coef =  [0.06266854] [-4.21142239e-02  0.00000000e+00  1.75197536e-01  0.00000000e+00\n",
      "  0.00000000e+00  1.94366989e-02  0.00000000e+00  0.00000000e+00\n",
      "  0.00000000e+00  0.00000000e+00  0.00000000e+00  0.00000000e+00\n",
      "  0.00000000e+00  0.00000000e+00  9.93473325e-02  1.55917447e-02\n",
      "  0.00000000e+00  2.13270070e-02  5.70843855e-03  0.00000000e+00\n",
      " -0.00000000e+00  9.57645508e-02  4.84818625e-02  0.00000000e+00\n",
      "  6.43691795e-02  0.00000000e+00  1.38161065e-02  0.00000000e+00\n",
      " -0.00000000e+00  0.00000000e+00  0.00000000e+00 -0.00000000e+00\n",
      " -0.00000000e+00  0.00000000e+00 -0.00000000e+00  0.00000000e+00\n",
      "  0.00000000e+00 -0.00000000e+00 -1.05145706e-02  0.00000000e+00\n",
      "  3.43649339e-02  0.00000000e+00 -7.09501901e-03  0.00000000e+00\n",
      "  0.00000000e+00  8.04515602e-03 -0.00000000e+00  0.00000000e+00\n",
      " -1.42777400e-02  0.00000000e+00 -0.00000000e+00 -0.00000000e+00\n",
      " -0.00000000e+00  0.00000000e+00  0.00000000e+00  7.89349639e-03\n",
      " -0.00000000e+00 -0.00000000e+00 -0.00000000e+00 -0.00000000e+00\n",
      "  4.30136685e-02 -0.00000000e+00  0.00000000e+00 -7.60748752e-03\n",
      " -0.00000000e+00  0.00000000e+00 -0.00000000e+00  0.00000000e+00\n",
      " -0.00000000e+00 -2.58775191e-03  2.78370902e-03  0.00000000e+00\n",
      " -1.14584283e-02  0.00000000e+00 -0.00000000e+00 -0.00000000e+00\n",
      "  9.91606448e-03 -0.00000000e+00 -0.00000000e+00  0.00000000e+00\n",
      " -0.00000000e+00 -0.00000000e+00 -0.00000000e+00  0.00000000e+00\n",
      "  0.00000000e+00 -0.00000000e+00  1.87534256e-02 -4.01676025e-03\n",
      " -0.00000000e+00 -0.00000000e+00 -0.00000000e+00 -0.00000000e+00\n",
      " -0.00000000e+00 -0.00000000e+00  0.00000000e+00  4.56907500e-02\n",
      "  3.88927718e-02 -1.26038751e-03 -0.00000000e+00 -0.00000000e+00\n",
      " -0.00000000e+00  0.00000000e+00  3.95239380e-02  0.00000000e+00\n",
      "  0.00000000e+00  0.00000000e+00 -0.00000000e+00  0.00000000e+00\n",
      "  0.00000000e+00 -0.00000000e+00 -0.00000000e+00 -0.00000000e+00\n",
      " -0.00000000e+00 -0.00000000e+00  0.00000000e+00 -0.00000000e+00\n",
      "  4.16739321e-03 -0.00000000e+00  1.37084731e-03 -1.12970255e-04\n",
      "  0.00000000e+00  0.00000000e+00  0.00000000e+00  0.00000000e+00\n",
      " -0.00000000e+00  0.00000000e+00 -3.44000303e-03 -0.00000000e+00\n",
      " -0.00000000e+00  0.00000000e+00 -0.00000000e+00  0.00000000e+00\n",
      " -0.00000000e+00  0.00000000e+00 -0.00000000e+00 -0.00000000e+00\n",
      "  0.00000000e+00  0.00000000e+00  0.00000000e+00 -0.00000000e+00\n",
      " -0.00000000e+00  0.00000000e+00 -0.00000000e+00 -0.00000000e+00\n",
      " -0.00000000e+00  0.00000000e+00 -7.77806222e-04  0.00000000e+00\n",
      "  2.48727242e-02 -0.00000000e+00  0.00000000e+00 -2.14359329e-02\n",
      " -1.69072572e-04  0.00000000e+00  0.00000000e+00 -0.00000000e+00\n",
      " -0.00000000e+00  0.00000000e+00  4.40853855e-02 -0.00000000e+00\n",
      "  0.00000000e+00 -0.00000000e+00]\n",
      "train_score =  0.8469051734259427\n",
      "test_score =  0.7883618585315085\n",
      "*************************************************************************************************\n",
      "alpha =  0.01\n",
      "intercept, coef =  [0.29450955] [-0.          0.          0.01946865  0.          0.          0.\n",
      "  0.          0.          0.          0.          0.          0.\n",
      "  0.          0.          0.          0.         -0.          0.\n",
      "  0.          0.         -0.          0.          0.          0.\n",
      "  0.          0.          0.          0.         -0.          0.\n",
      "  0.          0.         -0.          0.         -0.          0.\n",
      "  0.          0.         -0.0093139   0.          0.          0.\n",
      " -0.         -0.         -0.          0.0126268  -0.         -0.\n",
      " -0.          0.         -0.          0.         -0.          0.\n",
      "  0.          0.00050711 -0.         -0.         -0.         -0.\n",
      "  0.01649289 -0.          0.         -0.03092665 -0.          0.\n",
      " -0.          0.         -0.         -0.00383924  0.00311462 -0.\n",
      " -0.030865    0.         -0.         -0.          0.         -0.\n",
      " -0.         -0.         -0.         -0.         -0.         -0.\n",
      "  0.         -0.          0.         -0.         -0.         -0.\n",
      " -0.         -0.         -0.         -0.          0.          0.\n",
      "  0.         -0.         -0.         -0.         -0.          0.\n",
      "  0.          0.          0.         -0.         -0.         -0.\n",
      "  0.         -0.          0.         -0.         -0.         -0.\n",
      "  0.         -0.          0.         -0.          0.         -0.\n",
      "  0.         -0.          0.          0.          0.          0.\n",
      " -0.         -0.         -0.          0.         -0.          0.\n",
      " -0.          0.         -0.          0.         -0.          0.\n",
      "  0.         -0.          0.          0.         -0.         -0.\n",
      " -0.          0.         -0.01060206  0.          0.         -0.\n",
      "  0.         -0.06463711 -0.         -0.          0.         -0.\n",
      " -0.          0.          0.0433196  -0.          0.         -0.        ]\n",
      "train_score =  0.5257718026037057\n",
      "test_score =  0.44380246491924125\n",
      "*************************************************************************************************\n",
      "alpha =  0.1\n",
      "intercept, coef =  [0.2315761] [-0.  0.  0. -0.  0.  0.  0.  0. -0.  0.  0.  0.  0.  0.  0.  0. -0.  0.\n",
      "  0.  0. -0.  0.  0.  0.  0.  0.  0.  0. -0.  0.  0.  0. -0.  0. -0.  0.\n",
      "  0.  0. -0.  0.  0.  0. -0. -0. -0.  0. -0. -0. -0.  0. -0.  0. -0. -0.\n",
      "  0.  0. -0. -0. -0. -0.  0. -0.  0. -0. -0.  0. -0.  0. -0. -0.  0.  0.\n",
      " -0.  0. -0. -0.  0. -0.  0. -0.  0. -0. -0. -0.  0.  0.  0. -0.  0. -0.\n",
      " -0. -0. -0. -0.  0.  0.  0. -0. -0. -0. -0.  0.  0.  0.  0. -0. -0. -0.\n",
      "  0. -0.  0. -0. -0. -0.  0. -0.  0. -0.  0. -0.  0. -0. -0.  0. -0.  0.\n",
      " -0. -0. -0.  0. -0.  0. -0.  0. -0.  0. -0.  0. -0. -0. -0.  0. -0. -0.\n",
      " -0.  0. -0.  0.  0. -0.  0. -0. -0. -0.  0. -0. -0.  0.  0. -0.  0. -0.]\n",
      "train_score =  0.0\n",
      "test_score =  -0.0004054291718063041\n",
      "*************************************************************************************************\n",
      "alpha =  0.2\n",
      "intercept, coef =  [0.2315761] [-0.  0.  0. -0.  0.  0.  0.  0. -0.  0.  0.  0.  0.  0.  0.  0. -0.  0.\n",
      "  0.  0. -0.  0.  0.  0.  0.  0.  0.  0. -0.  0.  0.  0. -0.  0. -0.  0.\n",
      "  0.  0. -0.  0.  0.  0. -0. -0. -0.  0. -0. -0. -0.  0. -0.  0. -0. -0.\n",
      "  0.  0. -0. -0. -0. -0.  0. -0.  0. -0. -0.  0. -0.  0. -0. -0.  0.  0.\n",
      " -0.  0. -0. -0.  0. -0.  0. -0.  0. -0. -0. -0.  0.  0.  0. -0.  0. -0.\n",
      " -0. -0. -0. -0.  0.  0.  0. -0. -0. -0. -0.  0.  0.  0.  0. -0. -0. -0.\n",
      "  0. -0.  0. -0. -0. -0.  0. -0.  0. -0.  0. -0.  0. -0. -0.  0. -0.  0.\n",
      " -0. -0. -0.  0. -0.  0. -0.  0. -0.  0. -0.  0. -0. -0. -0.  0. -0. -0.\n",
      " -0.  0. -0.  0.  0. -0.  0. -0. -0. -0.  0. -0. -0.  0.  0. -0.  0. -0.]\n",
      "train_score =  0.0\n",
      "test_score =  -0.0004054291718063041\n",
      "*************************************************************************************************\n",
      "alpha =  0.4\n",
      "intercept, coef =  [0.2315761] [-0.  0.  0. -0.  0.  0.  0.  0. -0.  0.  0.  0.  0.  0.  0.  0. -0.  0.\n",
      "  0.  0. -0.  0.  0.  0.  0.  0.  0.  0. -0.  0.  0.  0. -0.  0. -0.  0.\n",
      "  0.  0. -0.  0.  0.  0. -0. -0. -0.  0. -0. -0. -0.  0. -0.  0. -0. -0.\n",
      "  0.  0. -0. -0. -0. -0.  0. -0.  0. -0. -0.  0. -0.  0. -0. -0.  0.  0.\n",
      " -0.  0. -0. -0.  0. -0.  0. -0.  0. -0. -0. -0.  0.  0.  0. -0.  0. -0.\n",
      " -0. -0. -0. -0.  0.  0.  0. -0. -0. -0. -0.  0.  0.  0.  0. -0. -0. -0.\n",
      "  0. -0.  0. -0. -0. -0.  0. -0.  0. -0.  0. -0.  0. -0. -0.  0. -0.  0.\n",
      " -0. -0. -0.  0. -0.  0. -0.  0. -0.  0. -0.  0. -0. -0. -0.  0. -0. -0.\n",
      " -0.  0. -0.  0.  0. -0.  0. -0. -0. -0.  0. -0. -0.  0.  0. -0.  0. -0.]\n",
      "train_score =  0.0\n",
      "test_score =  -0.0004054291718063041\n",
      "*************************************************************************************************\n"
     ]
    },
    {
     "name": "stdout",
     "output_type": "stream",
     "text": [
      "alpha =  0.6\n",
      "intercept, coef =  [0.2315761] [-0.  0.  0. -0.  0.  0.  0.  0. -0.  0.  0.  0.  0.  0.  0.  0. -0.  0.\n",
      "  0.  0. -0.  0.  0.  0.  0.  0.  0.  0. -0.  0.  0.  0. -0.  0. -0.  0.\n",
      "  0.  0. -0.  0.  0.  0. -0. -0. -0.  0. -0. -0. -0.  0. -0.  0. -0. -0.\n",
      "  0.  0. -0. -0. -0. -0.  0. -0.  0. -0. -0.  0. -0.  0. -0. -0.  0.  0.\n",
      " -0.  0. -0. -0.  0. -0.  0. -0.  0. -0. -0. -0.  0.  0.  0. -0.  0. -0.\n",
      " -0. -0. -0. -0.  0.  0.  0. -0. -0. -0. -0.  0.  0.  0.  0. -0. -0. -0.\n",
      "  0. -0.  0. -0. -0. -0.  0. -0.  0. -0.  0. -0.  0. -0. -0.  0. -0.  0.\n",
      " -0. -0. -0.  0. -0.  0. -0.  0. -0.  0. -0.  0. -0. -0. -0.  0. -0. -0.\n",
      " -0.  0. -0.  0.  0. -0.  0. -0. -0. -0.  0. -0. -0.  0.  0. -0.  0. -0.]\n",
      "train_score =  0.0\n",
      "test_score =  -0.0004054291718063041\n",
      "*************************************************************************************************\n",
      "alpha =  0.8\n",
      "intercept, coef =  [0.2315761] [-0.  0.  0. -0.  0.  0.  0.  0. -0.  0.  0.  0.  0.  0.  0.  0. -0.  0.\n",
      "  0.  0. -0.  0.  0.  0.  0.  0.  0.  0. -0.  0.  0.  0. -0.  0. -0.  0.\n",
      "  0.  0. -0.  0.  0.  0. -0. -0. -0.  0. -0. -0. -0.  0. -0.  0. -0. -0.\n",
      "  0.  0. -0. -0. -0. -0.  0. -0.  0. -0. -0.  0. -0.  0. -0. -0.  0.  0.\n",
      " -0.  0. -0. -0.  0. -0.  0. -0.  0. -0. -0. -0.  0.  0.  0. -0.  0. -0.\n",
      " -0. -0. -0. -0.  0.  0.  0. -0. -0. -0. -0.  0.  0.  0.  0. -0. -0. -0.\n",
      "  0. -0.  0. -0. -0. -0.  0. -0.  0. -0.  0. -0.  0. -0. -0.  0. -0.  0.\n",
      " -0. -0. -0.  0. -0.  0. -0.  0. -0.  0. -0.  0. -0. -0. -0.  0. -0. -0.\n",
      " -0.  0. -0.  0.  0. -0.  0. -0. -0. -0.  0. -0. -0.  0.  0. -0.  0. -0.]\n",
      "train_score =  0.0\n",
      "test_score =  -0.0004054291718063041\n",
      "*************************************************************************************************\n",
      "alpha =  1\n",
      "intercept, coef =  [0.2315761] [-0.  0.  0. -0.  0.  0.  0.  0. -0.  0.  0.  0.  0.  0.  0.  0. -0.  0.\n",
      "  0.  0. -0.  0.  0.  0.  0.  0.  0.  0. -0.  0.  0.  0. -0.  0. -0.  0.\n",
      "  0.  0. -0.  0.  0.  0. -0. -0. -0.  0. -0. -0. -0.  0. -0.  0. -0. -0.\n",
      "  0.  0. -0. -0. -0. -0.  0. -0.  0. -0. -0.  0. -0.  0. -0. -0.  0.  0.\n",
      " -0.  0. -0. -0.  0. -0.  0. -0.  0. -0. -0. -0.  0.  0.  0. -0.  0. -0.\n",
      " -0. -0. -0. -0.  0.  0.  0. -0. -0. -0. -0.  0.  0.  0.  0. -0. -0. -0.\n",
      "  0. -0.  0. -0. -0. -0.  0. -0.  0. -0.  0. -0.  0. -0. -0.  0. -0.  0.\n",
      " -0. -0. -0.  0. -0.  0. -0.  0. -0.  0. -0.  0. -0. -0. -0.  0. -0. -0.\n",
      " -0.  0. -0.  0.  0. -0.  0. -0. -0. -0.  0. -0. -0.  0.  0. -0.  0. -0.]\n",
      "train_score =  0.0\n",
      "test_score =  -0.0004054291718063041\n",
      "*************************************************************************************************\n",
      "alpha =  10\n",
      "intercept, coef =  [0.2315761] [-0.  0.  0. -0.  0.  0.  0.  0. -0.  0.  0.  0.  0.  0.  0.  0. -0.  0.\n",
      "  0.  0. -0.  0.  0.  0.  0.  0.  0.  0. -0.  0.  0.  0. -0.  0. -0.  0.\n",
      "  0.  0. -0.  0.  0.  0. -0. -0. -0.  0. -0. -0. -0.  0. -0.  0. -0. -0.\n",
      "  0.  0. -0. -0. -0. -0.  0. -0.  0. -0. -0.  0. -0.  0. -0. -0.  0.  0.\n",
      " -0.  0. -0. -0.  0. -0.  0. -0.  0. -0. -0. -0.  0.  0.  0. -0.  0. -0.\n",
      " -0. -0. -0. -0.  0.  0.  0. -0. -0. -0. -0.  0.  0.  0.  0. -0. -0. -0.\n",
      "  0. -0.  0. -0. -0. -0.  0. -0.  0. -0.  0. -0.  0. -0. -0.  0. -0.  0.\n",
      " -0. -0. -0.  0. -0.  0. -0.  0. -0.  0. -0.  0. -0. -0. -0.  0. -0. -0.\n",
      " -0.  0. -0.  0.  0. -0.  0. -0. -0. -0.  0. -0. -0.  0.  0. -0.  0. -0.]\n",
      "train_score =  0.0\n",
      "test_score =  -0.0004054291718063041\n",
      "*************************************************************************************************\n",
      "alpha =  100\n",
      "intercept, coef =  [0.2315761] [-0.  0.  0. -0.  0.  0.  0.  0. -0.  0.  0.  0.  0.  0.  0.  0. -0.  0.\n",
      "  0.  0. -0.  0.  0.  0.  0.  0.  0.  0. -0.  0.  0.  0. -0.  0. -0.  0.\n",
      "  0.  0. -0.  0.  0.  0. -0. -0. -0.  0. -0. -0. -0.  0. -0.  0. -0. -0.\n",
      "  0.  0. -0. -0. -0. -0.  0. -0.  0. -0. -0.  0. -0.  0. -0. -0.  0.  0.\n",
      " -0.  0. -0. -0.  0. -0.  0. -0.  0. -0. -0. -0.  0.  0.  0. -0.  0. -0.\n",
      " -0. -0. -0. -0.  0.  0.  0. -0. -0. -0. -0.  0.  0.  0.  0. -0. -0. -0.\n",
      "  0. -0.  0. -0. -0. -0.  0. -0.  0. -0.  0. -0.  0. -0. -0.  0. -0.  0.\n",
      " -0. -0. -0.  0. -0.  0. -0.  0. -0.  0. -0.  0. -0. -0. -0.  0. -0. -0.\n",
      " -0.  0. -0.  0.  0. -0.  0. -0. -0. -0.  0. -0. -0.  0.  0. -0.  0. -0.]\n",
      "train_score =  0.0\n",
      "test_score =  -0.0004054291718063041\n",
      "*************************************************************************************************\n",
      "alpha =  1000\n",
      "intercept, coef =  [0.2315761] [-0.  0.  0. -0.  0.  0.  0.  0. -0.  0.  0.  0.  0.  0.  0.  0. -0.  0.\n",
      "  0.  0. -0.  0.  0.  0.  0.  0.  0.  0. -0.  0.  0.  0. -0.  0. -0.  0.\n",
      "  0.  0. -0.  0.  0.  0. -0. -0. -0.  0. -0. -0. -0.  0. -0.  0. -0. -0.\n",
      "  0.  0. -0. -0. -0. -0.  0. -0.  0. -0. -0.  0. -0.  0. -0. -0.  0.  0.\n",
      " -0.  0. -0. -0.  0. -0.  0. -0.  0. -0. -0. -0.  0.  0.  0. -0.  0. -0.\n",
      " -0. -0. -0. -0.  0.  0.  0. -0. -0. -0. -0.  0.  0.  0.  0. -0. -0. -0.\n",
      "  0. -0.  0. -0. -0. -0.  0. -0.  0. -0.  0. -0.  0. -0. -0.  0. -0.  0.\n",
      " -0. -0. -0.  0. -0.  0. -0.  0. -0.  0. -0.  0. -0. -0. -0.  0. -0. -0.\n",
      " -0.  0. -0.  0.  0. -0.  0. -0. -0. -0.  0. -0. -0.  0.  0. -0.  0. -0.]\n",
      "train_score =  0.0\n",
      "test_score =  -0.0004054291718063041\n",
      "*************************************************************************************************\n"
     ]
    }
   ],
   "source": [
    "a = [0.000001,0.00001,0.0001,0.0002,0.0005,0.001,0.01,0.1,0.2,0.4,0.6,0.8,1,10,100,1000]\n",
    "for x in a:\n",
    "    lm = Lasso(alpha = x)\n",
    "    lm.fit(X_train, y_train)\n",
    "    print('alpha = ',x)\n",
    "    print(\"intercept, coef = \",lm.intercept_, lm.coef_)\n",
    "    print(\"train_score = \",lm.score(X_train, y_train))\n",
    "    print('test_score = ',lm.score(X_test, y_test))\n",
    "    print('*************************************************************************************************')"
   ]
  },
  {
   "cell_type": "markdown",
   "id": "f8e9a074",
   "metadata": {},
   "source": [
    "### optimal value for alpha in Lasso is 0.0001\n",
    "#### with  train_score =  0.8959912529595379 &\n",
    "#### test_score =  0.8187101076056598"
   ]
  },
  {
   "cell_type": "markdown",
   "id": "63c7eda6",
   "metadata": {},
   "source": [
    "# Ridge"
   ]
  },
  {
   "cell_type": "code",
   "execution_count": 95,
   "id": "7f9f6cbc",
   "metadata": {
    "scrolled": true
   },
   "outputs": [
    {
     "data": {
      "text/plain": [
       "(array([-0.06186358]),\n",
       " array([[-4.36472761e-02,  1.57078192e-01,  1.06562488e-01,\n",
       "          4.93219188e-02,  1.74324909e-02,  1.09471623e-02,\n",
       "          4.26010572e-02,  5.20752298e-03,  1.11876419e-02,\n",
       "          5.64548524e-03,  2.72401464e-02,  8.49037409e-02,\n",
       "          3.82751807e-02,  3.76811496e-02,  1.39556379e-01,\n",
       "          2.07233919e-02, -2.39480697e-03,  5.40930638e-02,\n",
       "          2.00266035e-02, -4.75943297e-03, -6.52405145e-02,\n",
       "          7.01863049e-02,  2.73331730e-02, -2.74439689e-03,\n",
       "          5.40766339e-02,  2.67024294e-02,  3.02743952e-02,\n",
       "          6.48995657e-03,  2.33509270e-02,  1.68732434e-02,\n",
       "          4.28228098e-02, -8.93003698e-02, -1.92601659e-02,\n",
       "         -1.74606898e-03, -5.48820323e-03,  1.24456107e-03,\n",
       "          1.21790583e-02, -4.81247598e-02, -7.18500955e-04,\n",
       "          7.09392376e-03,  3.20982985e-02, -2.00951468e-03,\n",
       "         -7.75656662e-03,  3.35573317e-03,  5.93669062e-03,\n",
       "          1.15212333e-02, -2.22279047e-03,  4.50463893e-03,\n",
       "         -8.58185694e-03,  1.65333897e-02, -1.93935783e-03,\n",
       "         -1.09145598e-03,  4.79930056e-03,  5.48909245e-03,\n",
       "          9.55142838e-03,  1.07039379e-03,  1.64182475e-02,\n",
       "         -3.04540031e-03, -5.91458785e-02, -1.24939010e-03,\n",
       "          3.25103659e-02, -7.99198691e-03, -2.69020044e-03,\n",
       "         -5.92183358e-03, -3.52909004e-02, -9.71859325e-04,\n",
       "         -4.02909155e-03,  1.32524697e-02, -1.22232028e-03,\n",
       "         -1.50892245e-03,  3.29295571e-03,  1.00851198e-04,\n",
       "         -2.57842319e-03,  4.72194179e-02, -4.72194179e-02,\n",
       "         -4.85340077e-03,  1.97870679e-02, -2.13770271e-02,\n",
       "         -5.17722683e-02,  1.17427096e-03, -1.65276975e-02,\n",
       "         -1.49130292e-02, -5.92573971e-03,  6.12832088e-03,\n",
       "          1.77195607e-03, -5.89650073e-03,  4.63017181e-02,\n",
       "         -2.65694922e-02, -5.66795534e-03, -1.85586825e-02,\n",
       "         -2.97282957e-02, -2.66430324e-02, -1.61803072e-02,\n",
       "          6.88514968e-04, -1.36537768e-02,  6.41628806e-02,\n",
       "          5.41104150e-02, -1.65192894e-02, -1.64226088e-02,\n",
       "         -9.53934963e-03, -1.93726133e-03,  1.64738215e-02,\n",
       "          9.11530208e-02,  5.15474898e-04,  1.06472802e-02,\n",
       "         -1.44989304e-03,  3.23704730e-03,  6.63080730e-03,\n",
       "          3.60651891e-02, -1.57159506e-02, -8.43257118e-03,\n",
       "         -1.22718897e-03,  3.76547649e-03, -1.46786684e-02,\n",
       "          0.00000000e+00, -1.22037010e-02,  1.60050332e-02,\n",
       "          1.16098719e-02,  1.00573080e-02, -2.52621372e-03,\n",
       "         -2.36759544e-03,  1.26919835e-03,  6.06580483e-03,\n",
       "          4.72586241e-03, -1.06812096e-02,  2.41702969e-03,\n",
       "         -1.31769716e-02,  3.68480925e-03,  3.42073312e-03,\n",
       "          0.00000000e+00, -8.94220002e-03,  1.54456701e-02,\n",
       "          1.16098719e-02,  2.69194986e-03, -4.15069753e-03,\n",
       "         -4.43133834e-03,  1.99124428e-03, -2.36072315e-02,\n",
       "         -1.01183585e-02, -7.36607488e-03, -1.59358249e-02,\n",
       "          5.90986975e-03,  3.58375213e-03, -2.29202903e-02,\n",
       "         -2.55755158e-02, -1.62051247e-03,  1.23539913e-03,\n",
       "          3.86473206e-03,  3.79745941e-02, -3.38674434e-02,\n",
       "          3.84271679e-03, -8.68066910e-03, -1.04551495e-02,\n",
       "          1.89605898e-03,  2.41949666e-03, -1.41434286e-02,\n",
       "          4.27099479e-03,  2.54925367e-02,  3.78242727e-02,\n",
       "          1.93073830e-03, -4.65236817e-03, -1.05996607e-04]]))"
      ]
     },
     "execution_count": 95,
     "metadata": {},
     "output_type": "execute_result"
    }
   ],
   "source": [
    "from sklearn.linear_model import Ridge\n",
    "rd = Ridge(alpha=0.1, normalize=True)\n",
    "rd.fit(X_train, y_train)\n",
    "rd.intercept_, rd.coef_"
   ]
  },
  {
   "cell_type": "code",
   "execution_count": 96,
   "id": "2df1c96f",
   "metadata": {},
   "outputs": [
    {
     "data": {
      "text/plain": [
       "0.8976838353348052"
      ]
     },
     "execution_count": 96,
     "metadata": {},
     "output_type": "execute_result"
    }
   ],
   "source": [
    "rd.score(X_train, y_train)"
   ]
  },
  {
   "cell_type": "code",
   "execution_count": 97,
   "id": "14a10af4",
   "metadata": {},
   "outputs": [
    {
     "data": {
      "text/plain": [
       "0.806784100101703"
      ]
     },
     "execution_count": 97,
     "metadata": {},
     "output_type": "execute_result"
    }
   ],
   "source": [
    "rd.score(X_test, y_test)"
   ]
  },
  {
   "cell_type": "code",
   "execution_count": 102,
   "id": "f3ac3cb7",
   "metadata": {
    "scrolled": true
   },
   "outputs": [
    {
     "name": "stdout",
     "output_type": "stream",
     "text": [
      "alpha =  1e-06\n",
      "intercept, coef =  [-0.10771202] [[-5.45246054e-02  1.81759679e-01  1.28614380e-01  5.57962156e-02\n",
      "   3.04571611e-02  7.19062151e-03  3.78833451e-02 -3.56727008e-02\n",
      "   2.87435511e-03 -7.03385396e-03 -5.65911256e-02  9.40967040e-02\n",
      "   7.03395321e-02  4.60593963e-02  2.10728481e-01  2.43077809e-02\n",
      "  -8.64814758e-04  6.31793482e-02  2.21897274e-02 -2.49205636e-02\n",
      "  -6.78148604e-02  7.42280668e-02  1.93499944e-02 -9.23453441e-03\n",
      "   7.16975496e-02 -2.92772121e-03  3.12938150e-02  7.66235319e-03\n",
      "   2.81785839e-02  2.25843991e-02  4.44528087e-02 -1.00048946e-01\n",
      "  -2.66157229e-02 -4.81294125e-03 -5.66486600e-03  2.87156874e-04\n",
      "   9.52649663e-03 -4.84532114e-02  5.66003946e-04  3.77013176e-02\n",
      "   6.51950652e-02  2.64453953e-02  2.09720649e-02  2.58381743e-02\n",
      "   2.84216919e-02  3.08117331e-02  1.53002077e-02  2.46767487e-02\n",
      "   9.87961866e-03 -2.49416538e-02 -4.08489618e-02 -4.17500340e-02\n",
      "  -3.84825980e-02 -3.77193981e-02 -3.23075560e-02  8.29025238e-05\n",
      "   2.17864841e-02 -2.73679123e-03 -8.14898883e-02 -8.77546806e-04\n",
      "   3.14692337e-02 -4.67693532e-03 -3.90559518e-03 -4.65358654e-03\n",
      "  -3.08180886e-02 -2.23967712e-03 -1.88182115e-03  4.69372245e-03\n",
      "   5.34939240e-03  1.92286377e-03  2.77342227e-03  5.33928054e-05\n",
      "  -2.14465140e-03  5.19579970e-02 -5.19579970e-02 -5.32342389e-03\n",
      "   2.24235162e-02 -2.54817202e-02 -6.35096195e-02  1.48233191e-03\n",
      "  -1.58639146e-02 -1.04496342e-02 -7.73047574e-04  9.96854336e-03\n",
      "  -2.13251314e-03 -3.69652735e-03  5.00073047e-02 -2.93139444e-02\n",
      "  -2.82821214e-03 -1.73207419e-02 -1.57008084e-02 -3.08270811e-02\n",
      "  -2.05955675e-02  2.62911492e-03 -2.05202279e-02  6.98422264e-02\n",
      "   6.43493796e-02 -2.16940597e-02 -2.03468157e-02 -1.31797893e-02\n",
      "  -1.99882021e-03  2.31674230e-02  1.04180702e-01 -2.24037775e-03\n",
      "   7.63067533e-03 -6.61693973e-03  1.04724069e-02  1.90147236e-02\n",
      "   1.29350136e-02 -3.66629553e-02 -2.28453105e-02  9.32359684e-03\n",
      "   9.56822815e-03 -1.67623250e-02  0.00000000e+00  1.18546029e-03\n",
      "   1.50690815e-02  2.35217885e-02  1.09655944e-02  5.74214499e-03\n",
      "   1.43918388e-03 -1.91869110e-02  1.84540779e-02 -1.11311111e-02\n",
      "  -6.27763662e-03  5.59473918e-03 -1.73090300e-02  1.64109347e-02\n",
      "   7.19112695e-03  0.00000000e+00 -1.83845456e-02  2.01411489e-02\n",
      "   2.35217884e-02 -2.18217211e-03 -1.21430028e-02 -1.50657620e-02\n",
      "   2.32236309e-02 -3.91168645e-02 -2.18618761e-02 -1.16440871e-02\n",
      "  -2.32483884e-02  3.65875748e-03  7.71245218e-03 -3.50860689e-02\n",
      "  -2.95249205e-02 -2.29569285e-03  1.71313347e-03  4.70978570e-03\n",
      "   3.71768132e-02 -4.72176229e-02  2.30337421e-03 -6.80104159e-03\n",
      "  -1.38879238e-02  2.83391546e-03  2.13123263e-03 -6.35920757e-03\n",
      "   5.57088634e-03  2.75694245e-02  6.25919208e-02  3.31506903e-02\n",
      "   1.95345262e-02  2.73906147e-02]]\n",
      "train_score =  0.9009317734403904\n",
      "test_score =  0.8057257889140633\n",
      "*************************************************************************************************\n",
      "alpha =  1e-05\n",
      "intercept, coef =  [-0.10768178] [[-5.45194153e-02  1.81750676e-01  1.28612359e-01  5.57977208e-02\n",
      "   3.04462486e-02  7.19398075e-03  3.78802363e-02 -3.56264024e-02\n",
      "   2.90347193e-03 -7.01387429e-03 -5.64696939e-02  9.40292076e-02\n",
      "   7.03420449e-02  4.60616574e-02  2.10684916e-01  2.43087335e-02\n",
      "  -8.64843923e-04  6.31795891e-02  2.21890790e-02 -2.49174782e-02\n",
      "  -6.78203374e-02  7.42341721e-02  1.93540975e-02 -9.23186033e-03\n",
      "   7.16969901e-02 -2.92228096e-03  3.12914563e-02  7.65481579e-03\n",
      "   2.81760028e-02  2.25816240e-02  4.44518526e-02 -1.00046382e-01\n",
      "  -2.66180020e-02 -4.81036042e-03 -5.66472664e-03  2.88036646e-04\n",
      "   9.52930743e-03 -4.84580134e-02  5.64999740e-04  3.75699118e-02\n",
      "   6.50622123e-02  2.63146039e-02  2.08428548e-02  2.57503253e-02\n",
      "   2.83339830e-02  3.07248789e-02  1.52135245e-02  2.45902971e-02\n",
      "   9.79216349e-03 -2.46665486e-02 -4.05697265e-02 -4.14757877e-02\n",
      "  -3.82003124e-02 -3.74379686e-02 -3.20230803e-02  8.31921981e-05\n",
      "   2.17866535e-02 -2.73756770e-03 -8.14833971e-02 -8.77432288e-04\n",
      "   3.14667938e-02 -4.67748293e-03 -3.90516879e-03 -4.65329002e-03\n",
      "  -3.08173521e-02 -2.23879831e-03 -1.87541333e-03  4.69722558e-03\n",
      "   5.35013143e-03  1.92048769e-03  2.77295274e-03  5.34611712e-05\n",
      "  -2.14435464e-03  5.19581608e-02 -5.19581608e-02 -5.32339377e-03\n",
      "   2.24227223e-02 -2.54804857e-02 -6.35134405e-02  1.48243060e-03\n",
      "  -1.58656670e-02 -1.04519122e-02 -7.73702364e-04  9.96663375e-03\n",
      "  -2.13400298e-03 -3.69754618e-03  5.00062863e-02 -2.93147339e-02\n",
      "  -2.82949806e-03 -1.73212803e-02 -1.57051780e-02 -3.08278450e-02\n",
      "  -2.05957211e-02  2.62413131e-03 -2.05189493e-02  6.98400913e-02\n",
      "   6.43543584e-02 -2.16930461e-02 -2.03406979e-02 -1.31797669e-02\n",
      "  -1.99841338e-03  2.31676021e-02  1.04178317e-01 -2.23923999e-03\n",
      "   7.63075005e-03 -6.61539071e-03  1.04713308e-02  1.90119579e-02\n",
      "   1.29344905e-02 -3.66588544e-02 -2.28433063e-02  9.32185723e-03\n",
      "   9.57207927e-03 -1.67729102e-02  0.00000000e+00  1.17451825e-03\n",
      "   1.50630686e-02  2.35205611e-02  1.09607659e-02  5.73325656e-03\n",
      "   1.42581273e-03 -1.91350491e-02  1.84439326e-02 -1.11135103e-02\n",
      "  -6.28377642e-03  5.57941925e-03 -1.73119040e-02  1.64018712e-02\n",
      "   7.20361527e-03  0.00000000e+00 -1.83759299e-02  2.01425152e-02\n",
      "   2.35205611e-02 -2.17599922e-03 -1.21349235e-02 -1.50526096e-02\n",
      "   2.31713961e-02 -3.91022806e-02 -2.18519757e-02 -1.16408549e-02\n",
      "  -2.32438393e-02  3.67417128e-03  7.71602363e-03 -3.50766612e-02\n",
      "  -2.95245446e-02 -2.29492689e-03  1.71324599e-03  4.70753286e-03\n",
      "   3.71732866e-02 -4.72151749e-02  2.30335904e-03 -6.80054654e-03\n",
      "  -1.38876059e-02  2.83423553e-03  2.13141929e-03 -6.36918201e-03\n",
      "   5.57390311e-03  2.75673394e-02  6.24765170e-02  3.30409000e-02\n",
      "   1.94218094e-02  2.72779106e-02]]\n",
      "train_score =  0.9009317684240103\n",
      "test_score =  0.8057318271527302\n",
      "*************************************************************************************************\n",
      "alpha =  0.0001\n",
      "intercept, coef =  [-0.10739073] [[-5.44694866e-02  1.81663507e-01  1.28591921e-01  5.58111946e-02\n",
      "   3.03414073e-02  7.22643261e-03  3.78513728e-02 -3.51850677e-02\n",
      "   3.17946809e-03 -6.82371790e-03 -5.53138765e-02  9.33906306e-02\n",
      "   7.03616260e-02  4.60812718e-02  2.10264290e-01  2.43174770e-02\n",
      "  -8.65288949e-04  6.31813846e-02  2.21828618e-02 -2.48868992e-02\n",
      "  -6.78722200e-02  7.42923264e-02  1.93938191e-02 -9.20614491e-03\n",
      "   7.16900501e-02 -2.86773519e-03  3.12690887e-02  7.58332792e-03\n",
      "   2.81514962e-02  2.25546534e-02  4.44428826e-02 -1.00020933e-01\n",
      "  -2.66390499e-02 -4.78569549e-03 -5.66352767e-03  2.96414851e-04\n",
      "   9.55613239e-03 -4.85036566e-02  5.55424684e-04  3.63254913e-02\n",
      "   6.38039575e-02  2.50761937e-02  1.96194099e-02  2.49182041e-02\n",
      "   2.75031931e-02  2.99024943e-02  1.43932525e-02  2.37716771e-02\n",
      "   8.96405748e-03 -2.20648413e-02 -3.79291127e-02 -3.88822816e-02\n",
      "  -3.55302602e-02 -3.47761251e-02 -2.93324821e-02  8.60141201e-05\n",
      "   2.17878931e-02 -2.74495653e-03 -8.14202138e-02 -8.76378500e-04\n",
      "   3.14437785e-02 -4.68294357e-03 -3.90109131e-03 -4.65052818e-03\n",
      "  -3.08108738e-02 -2.23034491e-03 -1.81499364e-03  4.73151549e-03\n",
      "   5.35640817e-03  1.89756927e-03  2.76848400e-03  5.40708936e-05\n",
      "  -2.14149386e-03  5.19593869e-02 -5.19593869e-02 -5.32307227e-03\n",
      "   2.24150204e-02 -2.54684498e-02 -6.35486693e-02  1.48332928e-03\n",
      "  -1.58822252e-02 -1.04740565e-02 -7.80626730e-04  9.94818411e-03\n",
      "  -2.14785279e-03 -3.70728623e-03  4.99964083e-02 -2.93220598e-02\n",
      "  -2.84189085e-03 -1.73267591e-02 -1.57477979e-02 -3.08348744e-02\n",
      "  -2.05968884e-02  2.57656017e-03 -2.05063248e-02  6.98198326e-02\n",
      "   6.44004844e-02 -2.16830828e-02 -2.02814783e-02 -1.31792894e-02\n",
      "  -1.99445515e-03  2.31688016e-02  1.04154957e-01 -2.22832313e-03\n",
      "   7.63165955e-03 -6.60003516e-03  1.04602479e-02  1.89843242e-02\n",
      "   1.29327289e-02 -3.66176780e-02 -2.28226864e-02  9.30423021e-03\n",
      "   9.60782027e-03 -1.68753415e-02  0.00000000e+00  1.06744330e-03\n",
      "   1.50042501e-02  2.35080609e-02  1.09130324e-02  5.64579937e-03\n",
      "   1.29583813e-03 -1.86300969e-02  1.83443694e-02 -1.09479048e-02\n",
      "  -6.34449023e-03  5.43176506e-03 -1.73405782e-02  1.63125430e-02\n",
      "   7.32387825e-03  0.00000000e+00 -1.82911394e-02  2.01570790e-02\n",
      "   2.35080609e-02 -2.11531860e-03 -1.20551447e-02 -1.49247364e-02\n",
      "   2.26629274e-02 -3.89609275e-02 -2.17547624e-02 -1.16077834e-02\n",
      "  -2.31979601e-02  3.82262735e-03  7.75125032e-03 -3.49845337e-02\n",
      "  -2.95207775e-02 -2.28766186e-03  1.71432247e-03  4.68611210e-03\n",
      "   3.71399428e-02 -4.71907943e-02  2.30338060e-03 -6.79604759e-03\n",
      "  -1.38844864e-02  2.83731430e-03  2.13317140e-03 -6.46473481e-03\n",
      "   5.60259861e-03  2.75477734e-02  6.13839290e-02  3.20007065e-02\n",
      "   1.83545253e-02  2.62105625e-02]]\n",
      "train_score =  0.9009313128688861\n",
      "test_score =  0.8057893923022258\n",
      "*************************************************************************************************\n",
      "alpha =  0.001\n",
      "intercept, coef =  [-0.10521736] [[-5.40968813e-02  1.80976166e-01  1.28372613e-01  5.58503417e-02\n",
      "   2.95675810e-02  7.47340314e-03  3.77043210e-02 -3.21541691e-02\n",
      "   4.97545887e-03 -5.53750357e-03 -4.74875610e-02  8.93234874e-02\n",
      "   7.02089194e-02  4.60982988e-02  2.07025279e-01  2.43562863e-02\n",
      "  -8.78559308e-04  6.31638410e-02  2.21393569e-02 -2.45949692e-02\n",
      "  -6.82079921e-02  7.46862237e-02  1.97042041e-02 -9.01454435e-03\n",
      "   7.15349388e-02 -2.31557465e-03  3.11241841e-02  7.11675243e-03\n",
      "   2.79883207e-02  2.23364842e-02  4.43904850e-02 -9.97807961e-02\n",
      "  -2.67356762e-02 -4.61194301e-03 -5.66245836e-03  3.53397205e-04\n",
      "   9.74201113e-03 -4.88071716e-02  4.89512342e-04  2.83146508e-02\n",
      "   5.56954623e-02  1.71165119e-02  1.17553402e-02  1.95492933e-02\n",
      "   2.21436421e-02  2.46169235e-02  9.14942441e-03  1.85072130e-02\n",
      "   3.64021523e-03 -5.54828157e-03 -2.11766948e-02 -2.24230503e-02\n",
      "  -1.85539425e-02 -1.78581833e-02 -1.22351270e-02  1.09050289e-04\n",
      "   2.17709553e-02 -2.79462367e-03 -8.08993103e-02 -8.71272186e-04\n",
      "   3.13023407e-02 -4.73634082e-03 -3.87160089e-03 -4.63664868e-03\n",
      "  -3.08035834e-02 -2.16807600e-03 -1.44318691e-03  5.02416468e-03\n",
      "   5.35192820e-03  1.72391408e-03  2.73876935e-03  5.56326190e-05\n",
      "  -2.12034016e-03  5.19474796e-02 -5.19474796e-02 -5.31871727e-03\n",
      "   2.23537983e-02 -2.53686639e-02 -6.37121596e-02  1.48675273e-03\n",
      "  -1.59852877e-02 -1.06513561e-02 -8.72709642e-04  9.80496993e-03\n",
      "  -2.21863590e-03 -3.77622324e-03  4.99182362e-02 -2.93591957e-02\n",
      "  -2.93517584e-03 -1.73864031e-02 -1.61036914e-02 -3.08652535e-02\n",
      "  -2.05849532e-02  2.24934378e-03 -2.03906034e-02  6.96859921e-02\n",
      "   6.46297599e-02 -2.15949823e-02 -1.98322324e-02 -1.31580385e-02\n",
      "  -1.96202980e-03  2.31437050e-02  1.03953396e-01 -2.14790250e-03\n",
      "   7.65256436e-03 -6.45719548e-03  1.03295716e-02  1.87116174e-02\n",
      "   1.31327058e-02 -3.61982232e-02 -2.25816636e-02  9.11511865e-03\n",
      "   9.78982044e-03 -1.76431659e-02  0.00000000e+00  1.84583020e-04\n",
      "   1.45299265e-02  2.33682607e-02  1.05024292e-02  4.89781455e-03\n",
      "   2.74538586e-04 -1.46437071e-02  1.75043754e-02 -9.92173136e-03\n",
      "  -6.87546556e-03  4.35133188e-03 -1.75970164e-02  1.55379771e-02\n",
      "   8.19374684e-03  0.00000000e+00 -1.75675844e-02  2.03299588e-02\n",
      "   2.33682607e-02 -1.60655793e-03 -1.13575564e-02 -1.39152375e-02\n",
      "   1.86540310e-02 -3.78756768e-02 -2.09318085e-02 -1.12623533e-02\n",
      "  -2.27477809e-02  4.90282568e-03  8.04662629e-03 -3.42201400e-02\n",
      "  -2.94819074e-02 -2.23977547e-03  1.72167085e-03  4.54239689e-03\n",
      "   3.69289468e-02 -4.69531489e-02  2.31428077e-03 -6.77965987e-03\n",
      "  -1.38553709e-02  2.85912466e-03  2.14384575e-03 -7.15259584e-03\n",
      "   5.79459671e-03  2.74376991e-02  5.43703342e-02  2.52725530e-02\n",
      "   1.14942137e-02  1.93367837e-02]]\n",
      "train_score =  0.9009099513052077\n",
      "test_score =  0.8061819173745302\n",
      "*************************************************************************************************\n",
      "alpha =  0.01\n",
      "intercept, coef =  [-0.0957996] [[-5.23938009e-02  1.77193664e-01  1.25914552e-01  5.51521680e-02\n",
      "   2.63329324e-02  8.41702264e-03  3.82734905e-02 -2.31368133e-02\n",
      "   8.50581108e-03 -2.12717483e-03 -2.63807738e-02  8.34766358e-02\n",
      "   6.43721186e-02  4.45015250e-02  1.91055367e-01  2.40827657e-02\n",
      "  -1.08007775e-03  6.25907492e-02  2.20404178e-02 -2.17794387e-02\n",
      "  -6.87792061e-02  7.54569635e-02  2.12100991e-02 -8.11081946e-03\n",
      "   6.88774718e-02  2.79411521e-03  3.09082158e-02  6.25360977e-03\n",
      "   2.74762924e-02  2.11317104e-02  4.43649045e-02 -9.79134809e-02\n",
      "  -2.59040248e-02 -3.99854866e-03 -5.71062863e-03  5.14874971e-04\n",
      "   1.03103369e-02 -4.94170195e-02  2.85715933e-04  1.47298722e-02\n",
      "   4.17561582e-02  3.86700132e-03 -1.36070219e-03  1.01951565e-02\n",
      "   1.28457522e-02  1.58195220e-02  7.32028421e-04  9.67671178e-03\n",
      "  -5.20684546e-03  1.80964203e-02  2.48668046e-03  1.02441852e-03\n",
      "   6.06975856e-03  6.63486180e-03  1.24405799e-02  2.33815475e-04\n",
      "   2.11638734e-02 -2.90534193e-03 -7.75598725e-02 -8.81924295e-04\n",
      "   3.12505648e-02 -5.21402174e-03 -3.71271678e-03 -4.74750897e-03\n",
      "  -3.15780423e-02 -1.94552633e-03 -1.17631191e-03  6.85944097e-03\n",
      "   4.55748155e-03  9.80820535e-04  2.70958561e-03  2.58695483e-05\n",
      "  -2.07280741e-03  5.15751961e-02 -5.15751961e-02 -5.26833143e-03\n",
      "   2.20257075e-02 -2.47624017e-02 -6.26438537e-02  1.44467906e-03\n",
      "  -1.60485781e-02 -1.14976301e-02 -1.94697843e-03  9.05312073e-03\n",
      "  -1.87260347e-03 -4.05599233e-03  4.95153065e-02 -2.91916523e-02\n",
      "  -3.34905427e-03 -1.79063538e-02 -1.83957569e-02 -3.05143061e-02\n",
      "  -2.01150455e-02  1.49414248e-03 -1.94433340e-02  6.92730209e-02\n",
      "   6.36132069e-02 -2.09335755e-02 -1.86464978e-02 -1.27004651e-02\n",
      "  -1.78779938e-03  2.23932474e-02  1.02477025e-01 -1.75245825e-03\n",
      "   8.09855065e-03 -5.40829396e-03  8.91073279e-03  1.63664957e-02\n",
      "   1.77004894e-02 -3.23774711e-02 -1.99900977e-02  7.28146079e-03\n",
      "   9.12420358e-03 -1.90046662e-02  0.00000000e+00 -3.22812585e-03\n",
      "   1.35105031e-02  2.18018227e-02  9.42189940e-03  1.84635446e-03\n",
      "  -2.92933631e-03 -3.42127374e-03  1.39347787e-02 -7.09377365e-03\n",
      "  -8.84552706e-03  2.14715934e-03 -1.79762855e-02  1.20598861e-02\n",
      "   9.45567930e-03  0.00000000e+00 -1.47327675e-02  2.04985445e-02\n",
      "   2.18018227e-02 -6.87432080e-07 -8.40617837e-03 -1.03970919e-02\n",
      "   7.34385265e-03 -3.45814602e-02 -1.74358144e-02 -9.77961014e-03\n",
      "  -2.06107922e-02  7.01293035e-03  8.44134991e-03 -3.11572656e-02\n",
      "  -2.90449678e-02 -2.11288025e-03  1.71827968e-03  4.18210434e-03\n",
      "   3.66777435e-02 -4.48141569e-02  2.55039221e-03 -7.01337670e-03\n",
      "  -1.34929525e-02  2.85932073e-03  2.17704429e-03 -9.72210901e-03\n",
      "   6.16057349e-03  2.77107119e-02  4.28968480e-02  1.31505269e-02\n",
      "   9.28875867e-05  7.57426331e-03]]\n",
      "train_score =  0.9007180947789868\n",
      "test_score =  0.8070581947470751\n",
      "*************************************************************************************************\n",
      "alpha =  0.02\n",
      "intercept, coef =  [-0.0891539] [[-5.10313710e-02  1.74013738e-01  1.23212240e-01  5.43529668e-02\n",
      "   2.42053090e-02  8.97063945e-03  3.90887901e-02 -1.78375947e-02\n",
      "   9.57301618e-03 -4.07417345e-04 -1.53238289e-02  8.32330268e-02\n",
      "   5.86814379e-02  4.30493376e-02  1.79426869e-01  2.36698374e-02\n",
      "  -1.28667922e-03  6.17624250e-02  2.19177807e-02 -1.89396839e-02\n",
      "  -6.87184989e-02  7.53306153e-02  2.23389002e-02 -7.33209355e-03\n",
      "   6.61818096e-02  7.45657827e-03  3.08753872e-02  6.06612896e-03\n",
      "   2.70265899e-02  2.02193497e-02  4.43303734e-02 -9.63563273e-02\n",
      "  -2.48046491e-02 -3.58505054e-03 -5.72093662e-03  6.15060487e-04\n",
      "   1.06554606e-02 -4.95358078e-02  1.48706682e-04  1.19929154e-02\n",
      "   3.87491283e-02  1.41939303e-03 -3.83012459e-03  8.07941752e-03\n",
      "   1.07713657e-02  1.41801308e-02 -6.51732484e-04  7.94948841e-03\n",
      "  -6.79841604e-03  1.95650372e-02  3.55859908e-03  2.36143496e-03\n",
      "   7.79826110e-03  8.34809477e-03  1.40231679e-02  3.41012279e-04\n",
      "   2.04739643e-02 -2.94225713e-03 -7.45840743e-02 -9.07718193e-04\n",
      "   3.14338697e-02 -5.67288831e-03 -3.56215732e-03 -4.91674220e-03\n",
      "  -3.24207115e-02 -1.80083772e-03 -1.49381778e-03  8.29229694e-03\n",
      "   3.69088161e-03  4.75630276e-04  2.75124265e-03  9.01749862e-06\n",
      "  -2.08992712e-03  5.11090118e-02 -5.11090118e-02 -5.21554227e-03\n",
      "   2.17356870e-02 -2.42390283e-02 -6.11281813e-02  1.39495796e-03\n",
      "  -1.60042055e-02 -1.21173054e-02 -2.87071121e-03  8.47187917e-03\n",
      "  -1.33578902e-03 -4.31112586e-03  4.91560476e-02 -2.88986610e-02\n",
      "  -3.68736048e-03 -1.82738010e-02 -2.04065250e-02 -3.00104194e-02\n",
      "  -1.95605390e-02  1.24586199e-03 -1.85298888e-02  6.88420324e-02\n",
      "   6.21264798e-02 -2.02868027e-02 -1.83015879e-02 -1.21980659e-02\n",
      "  -1.69618992e-03  2.15377855e-02  1.00999472e-01 -1.41274285e-03\n",
      "   8.58042586e-03 -4.55604387e-03  7.66121787e-03  1.43362109e-02\n",
      "   2.19998966e-02 -2.89879721e-02 -1.76387855e-02  5.61767997e-03\n",
      "   8.15161690e-03 -1.85688815e-02  0.00000000e+00 -4.96161635e-03\n",
      "   1.37746814e-02  2.02075767e-02  9.41227804e-03  5.03981852e-04\n",
      "  -3.84199812e-03 -9.46069028e-04  1.20887441e-02 -4.88115481e-03\n",
      "  -9.51416574e-03  2.02079180e-03 -1.73869331e-02  1.01830051e-02\n",
      "   8.75177744e-03  0.00000000e+00 -1.34502199e-02  1.97582864e-02\n",
      "   2.02075767e-02  4.88813233e-04 -7.09784213e-03 -8.86052865e-03\n",
      "   4.78136162e-03 -3.30629937e-02 -1.56593117e-02 -9.30789943e-03\n",
      "  -1.95943829e-02  7.03191844e-03  7.82062735e-03 -2.95640148e-02\n",
      "  -2.85716576e-02 -2.03592230e-03  1.68317790e-03  4.02880592e-03\n",
      "   3.67720012e-02 -4.28477120e-02  2.78905661e-03 -7.29809453e-03\n",
      "  -1.30652469e-02  2.77658443e-03  2.20645448e-03 -1.12154880e-02\n",
      "   6.13555116e-03  2.79863102e-02  4.09242808e-02  1.00459423e-02\n",
      "  -1.97822290e-03  5.07296090e-03]]\n",
      "train_score =  0.9004824330090677\n",
      "test_score =  0.8073033007114792\n",
      "*************************************************************************************************\n",
      "alpha =  0.1\n",
      "intercept, coef =  [-0.06186358] [[-4.36472761e-02  1.57078192e-01  1.06562488e-01  4.93219188e-02\n",
      "   1.74324909e-02  1.09471623e-02  4.26010572e-02  5.20752298e-03\n",
      "   1.11876419e-02  5.64548524e-03  2.72401464e-02  8.49037409e-02\n",
      "   3.82751807e-02  3.76811496e-02  1.39556379e-01  2.07233919e-02\n",
      "  -2.39480697e-03  5.40930638e-02  2.00266035e-02 -4.75943297e-03\n",
      "  -6.52405145e-02  7.01863049e-02  2.73331730e-02 -2.74439689e-03\n",
      "   5.40766339e-02  2.67024294e-02  3.02743952e-02  6.48995657e-03\n",
      "   2.33509270e-02  1.68732434e-02  4.28228098e-02 -8.93003698e-02\n",
      "  -1.92601659e-02 -1.74606898e-03 -5.48820323e-03  1.24456107e-03\n",
      "   1.21790583e-02 -4.81247598e-02 -7.18500955e-04  7.09392376e-03\n",
      "   3.20982985e-02 -2.00951468e-03 -7.75656662e-03  3.35573317e-03\n",
      "   5.93669062e-03  1.15212333e-02 -2.22279047e-03  4.50463893e-03\n",
      "  -8.58185694e-03  1.65333897e-02 -1.93935783e-03 -1.09145598e-03\n",
      "   4.79930056e-03  5.48909245e-03  9.55142838e-03  1.07039379e-03\n",
      "   1.64182475e-02 -3.04540031e-03 -5.91458785e-02 -1.24939010e-03\n",
      "   3.25103659e-02 -7.99198691e-03 -2.69020044e-03 -5.92183358e-03\n",
      "  -3.52909004e-02 -9.71859325e-04 -4.02909155e-03  1.32524697e-02\n",
      "  -1.22232028e-03 -1.50892245e-03  3.29295571e-03  1.00851198e-04\n",
      "  -2.57842319e-03  4.72194179e-02 -4.72194179e-02 -4.85340077e-03\n",
      "   1.97870679e-02 -2.13770271e-02 -5.17722683e-02  1.17427096e-03\n",
      "  -1.65276975e-02 -1.49130292e-02 -5.92573971e-03  6.12832088e-03\n",
      "   1.77195607e-03 -5.89650073e-03  4.63017181e-02 -2.65694922e-02\n",
      "  -5.66795534e-03 -1.85586825e-02 -2.97282957e-02 -2.66430324e-02\n",
      "  -1.61803072e-02  6.88514968e-04 -1.36537768e-02  6.41628806e-02\n",
      "   5.41104150e-02 -1.65192894e-02 -1.64226088e-02 -9.53934963e-03\n",
      "  -1.93726133e-03  1.64738215e-02  9.11530208e-02  5.15474898e-04\n",
      "   1.06472802e-02 -1.44989304e-03  3.23704730e-03  6.63080730e-03\n",
      "   3.60651891e-02 -1.57159506e-02 -8.43257118e-03 -1.22718897e-03\n",
      "   3.76547649e-03 -1.46786684e-02  0.00000000e+00 -1.22037010e-02\n",
      "   1.60050332e-02  1.16098719e-02  1.00573080e-02 -2.52621372e-03\n",
      "  -2.36759544e-03  1.26919835e-03  6.06580483e-03  4.72586241e-03\n",
      "  -1.06812096e-02  2.41702969e-03 -1.31769716e-02  3.68480925e-03\n",
      "   3.42073312e-03  0.00000000e+00 -8.94220002e-03  1.54456701e-02\n",
      "   1.16098719e-02  2.69194986e-03 -4.15069753e-03 -4.43133834e-03\n",
      "   1.99124428e-03 -2.36072315e-02 -1.01183585e-02 -7.36607488e-03\n",
      "  -1.59358249e-02  5.90986975e-03  3.58375213e-03 -2.29202903e-02\n",
      "  -2.55755158e-02 -1.62051247e-03  1.23539913e-03  3.86473206e-03\n",
      "   3.79745941e-02 -3.38674434e-02  3.84271679e-03 -8.68066910e-03\n",
      "  -1.04551495e-02  1.89605898e-03  2.41949666e-03 -1.41434286e-02\n",
      "   4.27099479e-03  2.54925367e-02  3.78242727e-02  1.93073830e-03\n",
      "  -4.65236817e-03 -1.05996607e-04]]\n",
      "train_score =  0.8976838353348052\n",
      "test_score =  0.806784100101703\n",
      "*************************************************************************************************\n",
      "alpha =  0.2\n",
      "intercept, coef =  [-0.04535709] [[-0.03788826  0.1435249   0.09396322  0.04458533  0.01488787  0.01174637\n",
      "   0.04431464  0.01896425  0.01077766  0.00825883  0.04923331  0.08542853\n",
      "   0.03027942  0.03469219  0.12379993  0.01841067 -0.00289119  0.04730438\n",
      "   0.0181698   0.00358619 -0.06043989  0.06461396  0.03002677  0.00053946\n",
      "   0.04753009  0.03548581  0.02933071  0.00798221  0.01974215  0.01531394\n",
      "   0.04059432 -0.08273998 -0.01515385 -0.00066108 -0.0050955   0.00185261\n",
      "   0.01295731 -0.04476736 -0.00154841  0.00563932  0.02901545 -0.00225781\n",
      "  -0.00853814  0.00155847  0.00375814  0.01073569 -0.00224929  0.00299257\n",
      "  -0.00824379  0.01536313 -0.00445413 -0.00207962  0.00316008  0.00405323\n",
      "   0.00671623  0.00181232  0.01299492 -0.00312714 -0.04808592 -0.00168759\n",
      "   0.03295804 -0.00930272 -0.00197171 -0.00666493 -0.03521108 -0.00027559\n",
      "  -0.00601993  0.01487588 -0.00477363 -0.00254295  0.00394624  0.00023839\n",
      "  -0.00319043  0.04343044 -0.04343044 -0.00447472  0.01791167 -0.01907057\n",
      "  -0.04396419  0.00103125 -0.0172206  -0.01617206 -0.00722585  0.00475479\n",
      "   0.00408469 -0.00678504  0.04290111 -0.02430628 -0.00700045 -0.01758619\n",
      "  -0.0343675  -0.02370883 -0.01359489  0.00057441 -0.01031608  0.05885208\n",
      "   0.04849079 -0.01373496 -0.01446875 -0.00784232 -0.00252792  0.01272368\n",
      "   0.08210329  0.0021318   0.01154613 -0.00019558  0.00134954  0.0033134\n",
      "   0.03973211 -0.00990014 -0.00426912 -0.00438247  0.00141797 -0.0124678\n",
      "   0.         -0.01604915  0.01651849  0.00567509  0.01052782 -0.00324707\n",
      "   0.00139089  0.00125476  0.00328489  0.00943022 -0.01057219  0.00248146\n",
      "  -0.01063153  0.00042409  0.00026878  0.         -0.00679231  0.01343476\n",
      "   0.00567509  0.00443855 -0.00338278 -0.00250988  0.00144726 -0.01472648\n",
      "  -0.00765032 -0.00541855 -0.01355369  0.00515564  0.00128004 -0.01845145\n",
      "  -0.02286348 -0.00124894  0.00063357  0.00427537  0.03888128 -0.02847709\n",
      "   0.00436426 -0.00943273 -0.00846011  0.00098212  0.00268896 -0.01389747\n",
      "   0.00230879  0.02109307  0.03633421 -0.0016913  -0.00473416 -0.00190769]]\n",
      "train_score =  0.8939036436960561\n",
      "test_score =  0.8047043525869597\n",
      "*************************************************************************************************\n",
      "alpha =  0.4\n",
      "intercept, coef =  [-0.02585096] [[-0.03078634  0.12590988  0.07990258  0.03764863  0.01306137  0.01212473\n",
      "   0.04545502  0.03198089  0.00981275  0.00999018  0.0677799   0.08485942\n",
      "   0.02434069  0.03095758  0.11133626  0.01595576 -0.00291605  0.03996145\n",
      "   0.01609106  0.01086945 -0.05270753  0.05789109  0.03194669  0.00388227\n",
      "   0.04145023  0.04141272  0.02768612  0.0109198   0.01498304  0.01373132\n",
      "   0.03700179 -0.07098965 -0.01003252  0.00034842 -0.00440476  0.00269554\n",
      "   0.01331031 -0.03805817 -0.00268933  0.00452154  0.0256322  -0.00166278\n",
      "  -0.00859236  0.00019878  0.00172029  0.01005076 -0.00198905  0.00145068\n",
      "  -0.00724992  0.01472176 -0.00566437 -0.00167439  0.00193474  0.00315776\n",
      "   0.00447011  0.00289063  0.00850343 -0.00324977 -0.035495   -0.00237196\n",
      "   0.03272153 -0.01011215 -0.00103349 -0.00746271 -0.03252767  0.00061348\n",
      "  -0.0081122   0.01534693 -0.00836158 -0.00352987  0.00492     0.00039349\n",
      "  -0.00406     0.03817241 -0.03817241 -0.00385725  0.01525997 -0.01599108\n",
      "  -0.03387613  0.0008146  -0.01746351 -0.01642219 -0.00846726  0.00315837\n",
      "   0.0065335  -0.00714636  0.03726537 -0.02115698 -0.00796893 -0.01568642\n",
      "  -0.03664858 -0.01990248 -0.01071593  0.00028159 -0.00681901  0.05115231\n",
      "   0.04211432 -0.01066384 -0.01177031 -0.00629011 -0.00329699  0.00866232\n",
      "   0.06975342  0.00414852  0.01196178  0.00059826 -0.00038538  0.00090272\n",
      "   0.03988805 -0.005798   -0.0010687  -0.00653773 -0.00063179 -0.01067267\n",
      "   0.         -0.01864983  0.01583819 -0.00036233  0.01109851 -0.00351605\n",
      "   0.00636694  0.00090703  0.00110347  0.01326281 -0.00942833  0.00238206\n",
      "  -0.00820678 -0.00225213 -0.00245316  0.         -0.00544851  0.01198116\n",
      "  -0.00036233  0.0064176  -0.00298333 -0.00083346  0.00091996 -0.00348172\n",
      "  -0.00560621 -0.00300939 -0.01068417  0.00428314 -0.00047764 -0.01359457\n",
      "  -0.01906256 -0.00067948 -0.0003998   0.00526043  0.03927811 -0.02325704\n",
      "   0.00474756 -0.00997199 -0.00625663 -0.00023212  0.00315572 -0.01304601\n",
      "   0.00038635  0.01511824  0.03405784 -0.00472078 -0.00419827 -0.00315397]]\n",
      "train_score =  0.886660313248991\n",
      "test_score =  0.7993491679691564\n",
      "*************************************************************************************************\n",
      "alpha =  0.6\n",
      "intercept, coef =  [-0.01269327] [[-2.63496560e-02  1.14370002e-01  7.18105895e-02  3.26640511e-02\n",
      "   1.23606560e-02  1.20961122e-02  4.55578001e-02  3.80624543e-02\n",
      "   9.13438297e-03  1.04850840e-02  7.54967411e-02  8.36291525e-02\n",
      "   2.16385427e-02  2.83627188e-02  1.04923651e-01  1.46277199e-02\n",
      "  -2.64838291e-03  3.61428585e-02  1.48983561e-02  1.39688702e-02\n",
      "  -4.69072420e-02  5.38214486e-02  3.22961762e-02  5.61948042e-03\n",
      "   3.82399392e-02  4.30659274e-02  2.63545795e-02  1.31615369e-02\n",
      "   1.19588221e-02  1.27130412e-02  3.42778715e-02 -6.12452464e-02\n",
      "  -6.95128878e-03  8.01914135e-04 -3.86872481e-03  3.23089987e-03\n",
      "   1.31177403e-02 -3.25643773e-02 -3.41080769e-03  3.96287521e-03\n",
      "   2.34833705e-02 -1.04277022e-03 -8.30885754e-03 -3.61543024e-04\n",
      "   6.69426323e-04  9.64730883e-03 -1.76882051e-03  5.75026166e-04\n",
      "  -6.48412884e-03  1.42914608e-02 -5.75513818e-03 -9.14717383e-04\n",
      "   1.30993323e-03  2.76900168e-03  3.52344862e-03  3.60790045e-03\n",
      "   5.66965640e-03 -3.32260645e-03 -2.83602778e-02 -2.84839601e-03\n",
      "   3.19834184e-02 -1.01343048e-02 -4.17393867e-04 -7.85602684e-03\n",
      "  -2.95100160e-02  1.18369757e-03 -9.08861319e-03  1.50373175e-02\n",
      "  -9.97343902e-03 -4.06503907e-03  5.56736969e-03  4.82378248e-04\n",
      "  -4.62594678e-03  3.44122438e-02 -3.44122438e-02 -3.37335958e-03\n",
      "   1.34483237e-02 -1.38758028e-02 -2.73558780e-02  6.26249160e-04\n",
      "  -1.69534636e-02 -1.58606116e-02 -9.08917671e-03  2.13279636e-03\n",
      "   7.66095300e-03 -6.95079548e-03  3.29696806e-02 -1.89760589e-02\n",
      "  -8.05871520e-03 -1.42705933e-02 -3.60776680e-02 -1.74324880e-02\n",
      "  -9.12380823e-03 -1.48437055e-04 -4.95064268e-03  4.57961556e-02\n",
      "   3.82734684e-02 -8.96516145e-03 -9.98297953e-03 -5.62256468e-03\n",
      "  -3.66227646e-03  6.50846974e-03  6.14239500e-02  5.31776203e-03\n",
      "   1.18565982e-02  7.84801240e-04 -1.38285174e-03 -1.75980958e-05\n",
      "   3.83308802e-02 -4.32702928e-03  2.55051225e-04 -7.17378693e-03\n",
      "  -1.53361629e-03 -9.84994890e-03  0.00000000e+00 -1.92853392e-02\n",
      "   1.48028770e-02 -3.32057824e-03  1.14036193e-02 -3.54925112e-03\n",
      "   8.98166944e-03  5.79437581e-04  2.45986294e-04  1.48653518e-02\n",
      "  -8.14760473e-03  2.27205138e-03 -6.93281209e-03 -3.27441943e-03\n",
      "  -3.69036433e-03  0.00000000e+00 -5.19426907e-03  1.12982548e-02\n",
      "  -3.32057824e-03  7.53301287e-03 -2.86645558e-03 -2.44958802e-05\n",
      "   5.58957593e-04  3.03999581e-03 -4.63792175e-03 -1.72881549e-03\n",
      "  -8.79963075e-03  3.76220809e-03 -1.13787857e-03 -1.09159058e-02\n",
      "  -1.64279405e-02 -2.44259643e-04 -1.19430376e-03  6.06146941e-03\n",
      "   3.88538359e-02 -2.06612256e-02  4.88961933e-03 -1.00996994e-02\n",
      "  -5.09476101e-03 -9.95272848e-04  3.51609286e-03 -1.25207954e-02\n",
      "  -3.58605773e-04  1.16204768e-02  3.22417669e-02 -6.00305245e-03\n",
      "  -3.66799125e-03 -3.63030843e-03]]\n",
      "train_score =  0.879811661427524\n",
      "test_score =  0.793409623520412\n",
      "*************************************************************************************************\n",
      "alpha =  0.8\n",
      "intercept, coef =  [-0.00240788] [[-2.32242003e-02  1.05948105e-01  6.63118083e-02  2.88420821e-02\n",
      "   1.20293295e-02  1.19703254e-02  4.52616464e-02  4.13432172e-02\n",
      "   8.61607012e-03  1.06208798e-02  7.92285799e-02  8.21840417e-02\n",
      "   1.99483231e-02  2.63617691e-02  1.00407899e-01  1.37492699e-02\n",
      "  -2.36478686e-03  3.37861635e-02  1.40636983e-02  1.55284513e-02\n",
      "  -4.24034689e-02  5.09141464e-02  3.20868991e-02  6.71165913e-03\n",
      "   3.60944945e-02  4.34116427e-02  2.52461940e-02  1.47979427e-02\n",
      "   9.83076334e-03  1.19350418e-02  3.20887652e-02 -5.33016273e-02\n",
      "  -4.95215624e-03  1.03239674e-03 -3.45205044e-03  3.58409621e-03\n",
      "   1.27577732e-02 -2.81785430e-02 -3.88828489e-03  3.60168184e-03\n",
      "   2.18921367e-02 -5.56652908e-04 -7.99245872e-03 -6.64087864e-04\n",
      "   9.39714258e-06  9.34593295e-03 -1.60637110e-03 -8.52460826e-06\n",
      "  -5.90571651e-03  1.38439346e-02 -5.60303106e-03 -2.53286236e-04\n",
      "   8.82801021e-04  2.50736421e-03  3.01067325e-03  4.10248864e-03\n",
      "   3.74129491e-03 -3.36129598e-03 -2.37971526e-02 -3.18656825e-03\n",
      "   3.11121098e-02 -9.92987301e-03  2.97849216e-05 -8.06185563e-03\n",
      "  -2.68170279e-02  1.58853490e-03 -9.55434136e-03  1.45881675e-02\n",
      "  -1.07447552e-02 -4.41867675e-03  6.00943882e-03  5.48870063e-04\n",
      "  -5.01736371e-03  3.14500494e-02 -3.14500494e-02 -2.98541576e-03\n",
      "   1.21191368e-02 -1.22851621e-02 -2.27148953e-02  4.60544044e-04\n",
      "  -1.61889279e-02 -1.51583987e-02 -9.42538093e-03  1.38146981e-03\n",
      "   8.19064748e-03 -6.62393193e-03  2.96176059e-02 -1.73291071e-02\n",
      "  -7.84012372e-03 -1.32133652e-02 -3.47246390e-02 -1.56480896e-02\n",
      "  -8.10336350e-03 -5.93063154e-04 -3.76985443e-03  4.17809067e-02\n",
      "   3.55559087e-02 -7.88160720e-03 -8.70340653e-03 -5.28309099e-03\n",
      "  -3.81598677e-03  5.19921526e-03  5.52902775e-02  6.04794959e-03\n",
      "   1.15988427e-02  7.82577975e-04 -2.08455804e-03 -4.69156437e-04\n",
      "   3.65679983e-02 -3.64600722e-03  9.66010905e-04 -7.35880089e-03\n",
      "  -2.00611925e-03 -9.33237248e-03  0.00000000e+00 -1.93411475e-02\n",
      "   1.38058397e-02 -4.99230394e-03  1.15613479e-02 -3.54667943e-03\n",
      "   1.03838797e-02  2.99051832e-04 -1.66826250e-04  1.56320706e-02\n",
      "  -7.00456191e-03  2.19562542e-03 -6.11514321e-03 -3.71835581e-03\n",
      "  -4.39195841e-03  0.00000000e+00 -5.23473239e-03  1.07949905e-02\n",
      "  -4.99230394e-03  8.23998920e-03 -2.81659900e-03  4.46727927e-04\n",
      "   2.69899262e-04  7.10320925e-03 -4.03475402e-03 -1.01360499e-03\n",
      "  -7.39637143e-03  3.42158307e-03 -1.45394604e-03 -9.19475820e-03\n",
      "  -1.44649276e-02  1.00588116e-04 -1.80557140e-03  6.66137053e-03\n",
      "   3.81202410e-02 -1.90721535e-02  4.96171258e-03 -1.00919293e-02\n",
      "  -4.40636217e-03 -1.51963619e-03  3.79608743e-03 -1.21574982e-02\n",
      "  -6.53502495e-04  9.39147292e-03  3.07396410e-02 -6.64488175e-03\n",
      "  -3.21608379e-03 -3.88357650e-03]]\n",
      "train_score =  0.8732555218494826\n",
      "test_score =  0.7872698417406209\n",
      "*************************************************************************************************\n",
      "alpha =  1\n",
      "intercept, coef =  [0.00617269] [[-2.08661189e-02  9.93808920e-02  6.22132795e-02  2.57868778e-02\n",
      "   1.18617434e-02  1.18192469e-02  4.47784667e-02  4.32006366e-02\n",
      "   8.18451397e-03  1.06192541e-02  8.10548155e-02  8.06672851e-02\n",
      "   1.87250968e-02  2.47326782e-02  9.67918188e-02  1.30949182e-02\n",
      "  -2.11627933e-03  3.21596786e-02  1.34151169e-02  1.63600126e-02\n",
      "  -3.88003205e-02  4.86325810e-02  3.16402060e-02  7.47310858e-03\n",
      "   3.44861628e-02  4.32342580e-02  2.42998814e-02  1.59928511e-02\n",
      "   8.22975111e-03  1.13040548e-02  3.02577130e-02 -4.67878859e-02\n",
      "  -3.59360489e-03  1.15288710e-03 -3.12184675e-03  3.82230895e-03\n",
      "   1.23502550e-02 -2.46373980e-02 -4.21336936e-03  3.34416314e-03\n",
      "   2.06288240e-02 -1.86416850e-04 -7.69411524e-03 -8.52593988e-04\n",
      "  -4.47813697e-04  9.09900564e-03 -1.48687861e-03 -4.28390618e-04\n",
      "  -5.45138213e-03  1.33848239e-02 -5.39335406e-03  2.77177557e-04\n",
      "   5.62709788e-04  2.30087563e-03  2.69386707e-03  4.45360609e-03\n",
      "   2.36156858e-03 -3.37794427e-03 -2.06666485e-02 -3.43195995e-03\n",
      "   3.02227542e-02 -9.66099242e-03  3.73816059e-04 -8.16622575e-03\n",
      "  -2.45049470e-02  1.89179070e-03 -9.75073931e-03  1.41300000e-02\n",
      "  -1.10997233e-02 -4.67218152e-03  6.31745842e-03  6.05795211e-04\n",
      "  -5.29914925e-03  2.90067405e-02 -2.90067405e-02 -2.66883023e-03\n",
      "   1.10959034e-02 -1.10306631e-02 -1.92253451e-02  3.16620117e-04\n",
      "  -1.53593141e-02 -1.44743106e-02 -9.60319737e-03  7.95753962e-04\n",
      "   8.41529712e-03 -6.27433831e-03  2.69283253e-02 -1.60220543e-02\n",
      "  -7.50814314e-03 -1.23975429e-02 -3.31764167e-02 -1.42755830e-02\n",
      "  -7.38977681e-03 -1.00177130e-03 -2.95131013e-03  3.86212053e-02\n",
      "   3.34628285e-02 -7.13276869e-03 -7.74451235e-03 -5.09035328e-03\n",
      "  -3.85584257e-03  4.33937669e-03  5.05280154e-02  6.52459008e-03\n",
      "   1.12897514e-02  7.04856140e-04 -2.61607088e-03 -7.18125605e-04\n",
      "   3.48716288e-02 -3.28960816e-03  1.40235112e-03 -7.36921335e-03\n",
      "  -2.27308702e-03 -8.95064007e-03  0.00000000e+00 -1.91772347e-02\n",
      "   1.29043941e-02 -6.01352401e-03  1.16278551e-02 -3.53468587e-03\n",
      "   1.11331455e-02  5.84491607e-05 -3.83949130e-04  1.59792915e-02\n",
      "  -6.03022030e-03  2.15005727e-03 -5.53914098e-03 -3.91211255e-03\n",
      "  -4.83299768e-03  0.00000000e+00 -5.36154272e-03  1.03553863e-02\n",
      "  -6.01352401e-03  8.71075463e-03 -2.78953948e-03  7.45518093e-04\n",
      "   2.74867875e-05  9.75350183e-03 -3.60568334e-03 -6.06666853e-04\n",
      "  -6.29568155e-03  3.18977956e-03 -1.62928250e-03 -7.98956613e-03\n",
      "  -1.29384068e-02  3.79482996e-04 -2.28230440e-03  7.10527038e-03\n",
      "   3.72692948e-02 -1.79651951e-02  5.00589674e-03 -1.00292803e-02\n",
      "  -3.97028621e-03 -1.90122315e-03  4.01750794e-03 -1.18643812e-02\n",
      "  -7.55615261e-04  7.86799125e-03  2.94625859e-02 -6.98575987e-03\n",
      "  -2.82884327e-03 -4.04505356e-03]]\n",
      "train_score =  0.8669222512252284\n",
      "test_score =  0.7810815803287778\n",
      "*************************************************************************************************\n",
      "alpha =  10\n",
      "intercept, coef =  [0.1216915] [[-4.31332288e-03  3.61224852e-02  2.64509578e-02  1.79773260e-03\n",
      "   1.03308112e-02  7.80378806e-03  2.52980145e-02  2.84672486e-02\n",
      "   2.14415702e-03  6.94238586e-03  5.12907678e-02  4.23339973e-02\n",
      "   7.64664937e-03  7.11036898e-03  4.61661482e-02  5.92872523e-03\n",
      "  -6.40426719e-04  1.77432648e-02  6.26276459e-03  1.00197392e-02\n",
      "  -1.05757072e-02  2.16363588e-02  1.56637670e-02  9.48350021e-03\n",
      "   1.74632549e-02  2.52440806e-02  1.17907065e-02  1.47703766e-02\n",
      "  -2.43004113e-03  4.66656953e-03  9.81129955e-03 -1.61927407e-03\n",
      "  -6.38083593e-04  5.46139870e-04 -7.57167636e-04  3.09885918e-03\n",
      "   5.13651835e-03 -6.32948350e-04 -3.59931654e-03  1.83239725e-03\n",
      "   7.93822643e-03  8.53585836e-04 -3.57677976e-03 -1.26323005e-03\n",
      "  -2.12987219e-03  5.29260837e-03 -1.22641796e-03 -2.17111065e-03\n",
      "  -1.51026026e-03  4.84193550e-03 -2.31012249e-03  1.91898459e-03\n",
      "  -1.04961585e-03  1.94719188e-05  1.42511427e-03  4.43313966e-03\n",
      "  -2.86617639e-03 -2.37495134e-03 -6.90525455e-03 -3.42736989e-03\n",
      "   1.36488472e-02 -4.94775374e-03  2.35987484e-03 -5.78491289e-03\n",
      "  -5.05818366e-03  2.81158613e-03 -5.05159739e-03  6.86174876e-03\n",
      "  -6.21356935e-03 -4.56759620e-03  5.29279319e-03  1.23224308e-03\n",
      "  -5.05922998e-03  6.58175197e-03 -6.58175197e-03 -4.63756122e-04\n",
      "   3.49878500e-03 -1.62902922e-03  2.44893440e-04 -5.64688298e-04\n",
      "  -2.84935400e-03 -5.77591026e-03 -6.27286192e-03 -2.84321734e-03\n",
      "   3.94147199e-03 -9.63037892e-04  5.45036452e-03 -5.04423417e-03\n",
      "  -1.15793654e-03 -5.77144184e-03 -1.02842992e-02 -3.70016959e-03\n",
      "  -3.20669897e-03 -2.85211656e-03  4.73992757e-04  1.24869456e-02\n",
      "   1.34185133e-02 -3.36938468e-03 -2.65843934e-03 -3.46712349e-03\n",
      "  -1.25546023e-03  1.84283598e-03  1.40437751e-02  5.41857005e-03\n",
      "   4.64385372e-03 -1.49747535e-03 -4.53242662e-03 -5.96436449e-04\n",
      "   1.13663167e-02 -2.89482906e-03  2.17489654e-03 -3.78657139e-03\n",
      "  -1.61194298e-03 -4.75134345e-03  0.00000000e+00 -1.00481866e-02\n",
      "   2.80113448e-03 -5.80735045e-03  7.19062451e-03 -2.30876873e-03\n",
      "   6.57606414e-03 -1.75294904e-03 -2.90104104e-04  8.15291804e-03\n",
      "   5.69925533e-05  2.46553812e-03 -2.56127551e-03 -2.44324333e-03\n",
      "  -4.50400261e-03  0.00000000e+00 -4.73752265e-03  3.30088024e-03\n",
      "  -5.80735045e-03  6.75746709e-03 -1.87776356e-03  1.21634102e-03\n",
      "  -1.76296396e-03  1.08985841e-02 -8.93153793e-04 -1.37715458e-03\n",
      "  -1.07027228e-04  2.56283943e-03 -2.06985748e-03 -1.89954236e-03\n",
      "  -2.85910516e-03  1.81345912e-03 -3.75030484e-03  6.35619946e-03\n",
      "   1.73856792e-02 -8.08380408e-03  4.33765115e-03 -6.59540159e-03\n",
      "  -2.83974423e-03 -3.08047880e-03  4.45536588e-03 -6.08605978e-03\n",
      "  -3.28158498e-04  1.21917375e-03  1.30661005e-02 -5.04402290e-03\n",
      "   1.05285645e-03 -4.08343565e-03]]\n",
      "train_score =  0.6546145021310743\n",
      "test_score =  0.5743169575044854\n",
      "*************************************************************************************************\n",
      "alpha =  100\n",
      "intercept, coef =  [0.21013023] [[-4.66595687e-04  5.67155234e-03  5.08228527e-03 -5.46806445e-04\n",
      "   2.70701247e-03  1.80524431e-03  4.91395063e-03  5.29333213e-03\n",
      "   5.82984642e-05  1.54417786e-03  9.98319743e-03  7.84426679e-03\n",
      "   1.37511530e-03  7.08591780e-04  8.44301639e-03  1.07420739e-03\n",
      "  -1.83437426e-04  3.80108457e-03  1.23055423e-03  1.68194486e-03\n",
      "  -1.75507403e-03  3.84891616e-03  2.75958778e-03  2.51155858e-03\n",
      "   3.56481788e-03  5.12259084e-03  2.29674449e-03  3.20003849e-03\n",
      "  -1.14360516e-03  8.38794214e-04  1.32580237e-03  5.45581389e-04\n",
      "  -4.32644012e-04  7.34975068e-05 -1.14494976e-04  6.44028466e-04\n",
      "   8.93182374e-04  4.33138150e-04 -7.48921683e-04  4.67068315e-04\n",
      "   1.35758678e-03  1.43514588e-04 -6.89378598e-04 -3.25547732e-04\n",
      "  -5.75682020e-04  1.14405513e-03 -4.02619813e-04 -6.12430843e-04\n",
      "  -1.81823235e-04  6.52093160e-04 -4.71902536e-04  3.83738341e-04\n",
      "  -3.29295520e-04 -1.79216964e-04  3.75032207e-04  1.05529949e-03\n",
      "  -7.71503497e-04 -5.33897266e-04 -1.52052298e-03 -8.25453559e-04\n",
      "   2.38283174e-03 -1.05830718e-03  7.14924454e-04 -1.29286138e-03\n",
      "  -6.79443287e-04  7.06121729e-04 -8.91826964e-04  1.34722886e-03\n",
      "  -1.16444105e-03 -1.08848809e-03  1.15791177e-03  3.88803497e-04\n",
      "  -1.20874430e-03  8.10102808e-04 -8.10102808e-04 -8.76282795e-05\n",
      "   6.08501421e-04 -5.33284315e-05  4.56944524e-04 -1.36834347e-04\n",
      "   4.21406616e-05 -9.90973462e-04 -1.24189002e-03 -8.67316200e-04\n",
      "   5.57596461e-04  1.51048191e-04  4.94677184e-04 -8.62587318e-04\n",
      "   1.22711504e-04 -1.22426306e-03 -1.47794120e-03 -5.14714888e-04\n",
      "  -7.22092236e-04 -6.31380409e-04  1.14102087e-04  2.12603662e-03\n",
      "   2.41078503e-03 -8.26707352e-04 -6.72227237e-04 -7.74577448e-04\n",
      "  -7.11800164e-05  5.89050209e-04  2.19344445e-03  1.11883826e-03\n",
      "   7.36240846e-04 -5.77097990e-04 -1.12847527e-03 -8.59186439e-05\n",
      "   1.45191627e-03 -8.41858611e-04  5.32788233e-04 -6.78448817e-04\n",
      "  -3.06529606e-04 -1.04140211e-03  0.00000000e+00 -1.83774145e-03\n",
      "   1.72995178e-04 -1.24884637e-03  1.36017591e-03 -4.73071794e-04\n",
      "   1.23555237e-03 -5.16372980e-04 -7.76815805e-05  1.24686889e-03\n",
      "  -4.04820067e-05  7.62416857e-04 -6.57389555e-04 -5.34716038e-04\n",
      "  -1.03985614e-03  0.00000000e+00 -9.79670861e-04  3.62574157e-04\n",
      "  -1.24884637e-03  1.32480627e-03 -3.91407828e-04  2.99535023e-04\n",
      "  -5.18896989e-04  2.14377750e-03 -1.84632586e-04 -5.41328804e-04\n",
      "  -9.57804663e-05  7.66614041e-04 -6.08580435e-04 -3.70422851e-04\n",
      "  -5.19298035e-04  4.79504969e-04 -8.95076628e-04  1.38067113e-03\n",
      "   3.01318545e-03 -1.53299643e-03  1.10908821e-03 -1.48109487e-03\n",
      "  -8.13507109e-04 -8.00723389e-04  1.15804699e-03 -1.13746028e-03\n",
      "  -1.78303925e-04  1.91880854e-04  2.37208367e-03 -1.10736203e-03\n",
      "   5.31266996e-04 -1.06442641e-03]]\n",
      "train_score =  0.17888849165248866\n",
      "test_score =  0.1541572945178048\n",
      "*************************************************************************************************\n",
      "alpha =  1000\n",
      "intercept, coef =  [0.22917917] [[-4.61855894e-05  6.07666076e-04  5.67226271e-04 -7.58085056e-05\n",
      "   3.15304540e-04  2.07059797e-04  5.47041856e-04  5.83311967e-04\n",
      "  -6.70567230e-07  1.76010929e-04  1.11088150e-03  8.65871234e-04\n",
      "   1.51620421e-04  6.65818811e-05  9.31095419e-04  1.18303794e-04\n",
      "  -2.19567390e-05  4.30540217e-04  1.37802075e-04  1.81344218e-04\n",
      "  -1.93145443e-04  4.22472983e-04  3.02010206e-04  2.92592918e-04\n",
      "   4.01108137e-04  5.75076884e-04  2.56439724e-04  3.61690429e-04\n",
      "  -1.39704113e-04  9.23988872e-05  1.37510030e-04  6.96754301e-05\n",
      "  -5.47938186e-05  7.67878112e-06 -1.23453793e-05  7.23602879e-05\n",
      "   9.80282769e-05  5.54879351e-05 -8.41256015e-05  5.44183007e-05\n",
      "   1.48302129e-04  1.52627129e-05 -7.69104565e-05 -3.78063539e-05\n",
      "  -6.70877134e-05  1.29885870e-04 -4.83175770e-05 -7.18212954e-05\n",
      "  -1.82617642e-05  6.74554331e-05 -5.34660482e-05  4.24199478e-05\n",
      "  -3.91582578e-05 -2.36310666e-05  4.39649623e-05  1.21271218e-04\n",
      "  -8.96422137e-05 -6.09019999e-05 -1.73236680e-04 -9.50359977e-05\n",
      "   2.60889649e-04 -1.20265599e-04  8.45460963e-05 -1.47385929e-04\n",
      "  -7.26072865e-05  8.14784206e-05 -9.81102796e-05  1.50808497e-04\n",
      "  -1.29401647e-04 -1.24845536e-04  1.31219149e-04  4.62230886e-05\n",
      "  -1.38828363e-04  8.45250916e-05 -8.45250916e-05 -1.01415113e-05\n",
      "   6.69750615e-05 -1.72582589e-06  5.63917440e-05 -1.54718680e-05\n",
      "   1.52841485e-05 -1.08160968e-04 -1.38523828e-04 -1.02162757e-04\n",
      "   5.80639130e-05  2.33216143e-05  4.60340060e-05 -9.49447618e-05\n",
      "   1.99786754e-05 -1.38745624e-04 -1.57121471e-04 -5.43415517e-05\n",
      "  -8.27700175e-05 -7.10663253e-05  1.23958305e-05  2.33291392e-04\n",
      "   2.65959256e-04 -9.57919117e-05 -7.86272993e-05 -8.81126035e-05\n",
      "  -4.67368935e-06  7.06476746e-05  2.37323028e-04  1.25456301e-04\n",
      "   7.91863749e-05 -6.96755364e-05 -1.29771577e-04 -8.98958022e-06\n",
      "   1.48442443e-04 -9.92963154e-05  6.13985790e-05 -7.45384650e-05\n",
      "  -3.41518945e-05 -1.18827289e-04  0.00000000e+00 -2.02612332e-04\n",
      "   1.29012155e-05 -1.41411987e-04  1.50347555e-04 -5.30998752e-05\n",
      "   1.37522629e-04 -6.04990943e-05 -9.51055676e-06  1.32230497e-04\n",
      "  -7.31608175e-06  9.06637333e-05 -7.67897974e-05 -6.09926099e-05\n",
      "  -1.19042197e-04  0.00000000e+00 -1.09606547e-04  3.54369685e-05\n",
      "  -1.41411987e-04  1.47100260e-04 -4.40452384e-05  3.46177143e-05\n",
      "  -6.07976903e-05  2.38881691e-04 -2.14331001e-05 -6.54742131e-05\n",
      "  -1.39540801e-05  9.09423402e-05 -7.19621241e-05 -4.18928473e-05\n",
      "  -5.86923910e-05  5.55133491e-05 -1.02370424e-04  1.56158779e-04\n",
      "   3.29143192e-04 -1.70522886e-04  1.28837842e-04 -1.69053677e-04\n",
      "  -9.58188495e-05 -9.30146109e-05  1.34638219e-04 -1.26112418e-04\n",
      "  -2.27236488e-05  2.10853421e-05  2.61754244e-04 -1.25937018e-04\n",
      "   6.53474814e-05 -1.23817905e-04]]\n",
      "train_score =  0.02139562942351425\n",
      "test_score =  0.018042518324243306\n",
      "*************************************************************************************************\n"
     ]
    }
   ],
   "source": [
    "a = [0.000001,0.00001,0.0001,0.001,0.01,0.02,0.1,0.2,0.4,0.6,0.8,1,10,100,1000]\n",
    "for x in a:\n",
    "    rd = Ridge(alpha = x, normalize=True)\n",
    "    rd.fit(X_train, y_train)\n",
    "    print('alpha = ',x)\n",
    "    print(\"intercept, coef = \",rd.intercept_, rd.coef_)\n",
    "    print(\"train_score = \",rd.score(X_train, y_train))\n",
    "    print('test_score = ',rd.score(X_test, y_test))\n",
    "    print('*************************************************************************************************')"
   ]
  },
  {
   "cell_type": "markdown",
   "id": "c2028eee",
   "metadata": {},
   "source": [
    "### optimal value for alpha in Ridge is 0.01\n",
    "#### with  train_score =  0.9007180947789868 &\n",
    "#### test_score =  0.8070581947470751"
   ]
  },
  {
   "cell_type": "code",
   "execution_count": 106,
   "id": "68c12356",
   "metadata": {},
   "outputs": [
    {
     "name": "stderr",
     "output_type": "stream",
     "text": [
      "C:\\Users\\nikhi\\anaconda3\\lib\\site-packages\\statsmodels\\stats\\outliers_influence.py:193: RuntimeWarning: divide by zero encountered in double_scalars\n",
      "  vif = 1. / (1. - r_squared_i)\n",
      "C:\\Users\\nikhi\\anaconda3\\lib\\site-packages\\statsmodels\\regression\\linear_model.py:1715: RuntimeWarning: invalid value encountered in double_scalars\n",
      "  return 1 - self.ssr/self.centered_tss\n"
     ]
    },
    {
     "data": {
      "text/html": [
       "<div>\n",
       "<style scoped>\n",
       "    .dataframe tbody tr th:only-of-type {\n",
       "        vertical-align: middle;\n",
       "    }\n",
       "\n",
       "    .dataframe tbody tr th {\n",
       "        vertical-align: top;\n",
       "    }\n",
       "\n",
       "    .dataframe thead th {\n",
       "        text-align: right;\n",
       "    }\n",
       "</style>\n",
       "<table border=\"1\" class=\"dataframe\">\n",
       "  <thead>\n",
       "    <tr style=\"text-align: right;\">\n",
       "      <th></th>\n",
       "      <th>Features</th>\n",
       "      <th>VIF</th>\n",
       "    </tr>\n",
       "  </thead>\n",
       "  <tbody>\n",
       "    <tr>\n",
       "      <th>80</th>\n",
       "      <td>Blmngtn</td>\n",
       "      <td>inf</td>\n",
       "    </tr>\n",
       "    <tr>\n",
       "      <th>110</th>\n",
       "      <td>2Story</td>\n",
       "      <td>inf</td>\n",
       "    </tr>\n",
       "    <tr>\n",
       "      <th>103</th>\n",
       "      <td>Timber</td>\n",
       "      <td>inf</td>\n",
       "    </tr>\n",
       "    <tr>\n",
       "      <th>104</th>\n",
       "      <td>Veenker</td>\n",
       "      <td>inf</td>\n",
       "    </tr>\n",
       "    <tr>\n",
       "      <th>105</th>\n",
       "      <td>1.5Fin</td>\n",
       "      <td>inf</td>\n",
       "    </tr>\n",
       "    <tr>\n",
       "      <th>...</th>\n",
       "      <td>...</td>\n",
       "      <td>...</td>\n",
       "    </tr>\n",
       "    <tr>\n",
       "      <th>34</th>\n",
       "      <td>YrSold</td>\n",
       "      <td>1.23</td>\n",
       "    </tr>\n",
       "    <tr>\n",
       "      <th>33</th>\n",
       "      <td>MoSold</td>\n",
       "      <td>1.21</td>\n",
       "    </tr>\n",
       "    <tr>\n",
       "      <th>32</th>\n",
       "      <td>MiscVal</td>\n",
       "      <td>1.14</td>\n",
       "    </tr>\n",
       "    <tr>\n",
       "      <th>114</th>\n",
       "      <td>AsphShn</td>\n",
       "      <td>NaN</td>\n",
       "    </tr>\n",
       "    <tr>\n",
       "      <th>129</th>\n",
       "      <td>AsphShn2</td>\n",
       "      <td>NaN</td>\n",
       "    </tr>\n",
       "  </tbody>\n",
       "</table>\n",
       "<p>162 rows × 2 columns</p>\n",
       "</div>"
      ],
      "text/plain": [
       "     Features   VIF\n",
       "80    Blmngtn   inf\n",
       "110    2Story   inf\n",
       "103    Timber   inf\n",
       "104   Veenker   inf\n",
       "105    1.5Fin   inf\n",
       "..        ...   ...\n",
       "34     YrSold  1.23\n",
       "33     MoSold  1.21\n",
       "32    MiscVal  1.14\n",
       "114   AsphShn   NaN\n",
       "129  AsphShn2   NaN\n",
       "\n",
       "[162 rows x 2 columns]"
      ]
     },
     "execution_count": 106,
     "metadata": {},
     "output_type": "execute_result"
    }
   ],
   "source": [
    "from statsmodels.stats.outliers_influence import variance_inflation_factor\n",
    "vif = pd.DataFrame()\n",
    "vif['Features'] = X_train.columns\n",
    "vif['VIF'] = [variance_inflation_factor(X_train.values, i) for i in range(X_train.shape[1])]\n",
    "vif['VIF'] = round(vif['VIF'], 2)\n",
    "vif = vif.sort_values(by = \"VIF\", ascending = False)\n",
    "vif"
   ]
  }
 ],
 "metadata": {
  "kernelspec": {
   "display_name": "Python 3 (ipykernel)",
   "language": "python",
   "name": "python3"
  },
  "language_info": {
   "codemirror_mode": {
    "name": "ipython",
    "version": 3
   },
   "file_extension": ".py",
   "mimetype": "text/x-python",
   "name": "python",
   "nbconvert_exporter": "python",
   "pygments_lexer": "ipython3",
   "version": "3.9.7"
  }
 },
 "nbformat": 4,
 "nbformat_minor": 5
}
